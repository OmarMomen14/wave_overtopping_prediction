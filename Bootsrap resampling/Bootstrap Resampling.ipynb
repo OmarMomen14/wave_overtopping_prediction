{
 "cells": [
  {
   "cell_type": "code",
   "execution_count": 1,
   "id": "28a92761-5767-4d8c-81ff-ee1aa5d54e22",
   "metadata": {},
   "outputs": [
    {
     "name": "stderr",
     "output_type": "stream",
     "text": [
      "C:\\Users\\User\\anaconda3\\lib\\site-packages\\xgboost\\compat.py:36: FutureWarning: pandas.Int64Index is deprecated and will be removed from pandas in a future version. Use pandas.Index with the appropriate dtype instead.\n",
      "  from pandas import MultiIndex, Int64Index\n"
     ]
    }
   ],
   "source": [
    "import xgboost as xgb\n",
    "from sklearn.metrics import mean_squared_error, mean_absolute_percentage_error\n",
    "import pandas as pd\n",
    "import numpy as np\n",
    "import sklearn\n",
    "from sklearn.model_selection import GridSearchCV\n",
    "import pandas as pd\n",
    "import numpy as np\n",
    "from sklearn.linear_model import LinearRegression\n",
    "from sklearn.metrics import mean_squared_error"
   ]
  },
  {
   "cell_type": "code",
   "execution_count": 2,
   "id": "9b2b4397-65a8-46df-8665-33e1c9e1c796",
   "metadata": {},
   "outputs": [],
   "source": [
    "import numpy as np\n",
    "\n",
    "def bootstrap_resample(data, num_iterations):\n",
    "    resampled_models = []\n",
    "    n = len(data)\n",
    "    \n",
    "    for _ in range(num_iterations):\n",
    "        # Generate a bootstrap sample by randomly sampling with replacement\n",
    "        bootstrap_sample = np.random.choice(data, size=n, replace=True)\n",
    "        \n",
    "        # Append the bootstrap sample to the list of resampled models\n",
    "        resampled_models.append(bootstrap_sample)\n",
    "    \n",
    "    return resampled_models"
   ]
  },
  {
   "cell_type": "code",
   "execution_count": 3,
   "id": "d5c96383-c1c2-45ab-9811-378a7684aaa8",
   "metadata": {},
   "outputs": [
    {
     "name": "stdout",
     "output_type": "stream",
     "text": [
      "Example of a resampled model:\n",
      "['train_data_19_03.xlsx']\n"
     ]
    }
   ],
   "source": [
    "data = np.array(['train_data_19_03.xlsx'])  # Replace this with your dataset\n",
    "num_resampled_models = 500\n",
    "\n",
    "# Perform bootstrap resampling\n",
    "resampled_models = bootstrap_resample(data, num_resampled_models)\n",
    "\n",
    "# Print the first resampled model (as an example)\n",
    "print(\"Example of a resampled model:\")\n",
    "print(resampled_models[0])\n"
   ]
  },
  {
   "cell_type": "code",
   "execution_count": 4,
   "id": "d785cddf-c655-4bdd-9836-35b0a5265641",
   "metadata": {},
   "outputs": [],
   "source": [
    "train_df = pd.read_excel('train_data_19_03.xlsx', index_col=False)"
   ]
  },
  {
   "cell_type": "code",
   "execution_count": 5,
   "id": "4149ca36-a7a2-49ff-8c6e-86fb2899da12",
   "metadata": {},
   "outputs": [],
   "source": [
    "test_df = pd.read_excel('test_data_19_03.xlsx', index_col=False)"
   ]
  },
  {
   "cell_type": "code",
   "execution_count": 6,
   "id": "fc21e1aa-cf01-4ecf-ad23-28061b8ddd9f",
   "metadata": {},
   "outputs": [],
   "source": [
    "X_train = train_df[train_df.columns[:-1]]\n",
    "y_train = train_df[train_df.columns[-1]]\n",
    "\n",
    "X_test = test_df[test_df.columns[:-1]]\n",
    "y_test = test_df[test_df.columns[-1]]"
   ]
  },
  {
   "cell_type": "code",
   "execution_count": 7,
   "id": "f4f2badf-d91f-4c4e-b1f9-0091ed5ad0c1",
   "metadata": {},
   "outputs": [
    {
     "name": "stdout",
     "output_type": "stream",
     "text": [
      "<class 'pandas.core.frame.DataFrame'>\n",
      "RangeIndex: 3969 entries, 0 to 3968\n",
      "Data columns (total 35 columns):\n",
      " #   Column    Non-Null Count  Dtype  \n",
      "---  ------    --------------  -----  \n",
      " 0   Hm0 d     3969 non-null   float64\n",
      " 1   Tp d      3969 non-null   float64\n",
      " 2   Tm d      3969 non-null   float64\n",
      " 3   Tm1,0 d   3969 non-null   float64\n",
      " 4   hdeep     3969 non-null   float64\n",
      " 5   mmm       3969 non-null   float64\n",
      " 6   β         3969 non-null   float64\n",
      " 7   Spread s  3969 non-null   float64\n",
      " 8   h         3969 non-null   float64\n",
      " 9   Hm0 toe   3969 non-null   float64\n",
      " 10  Tp toe    3969 non-null   float64\n",
      " 11  Tm toe    3969 non-null   float64\n",
      " 12  Tm1,0t    3969 non-null   float64\n",
      " 13  ht        3969 non-null   float64\n",
      " 14  Bt        3969 non-null   float64\n",
      " 15  cotαd     3969 non-null   float64\n",
      " 16  cotαu     3969 non-null   float64\n",
      " 17  cotαexcl  3969 non-null   float64\n",
      " 18  cotαincl  3969 non-null   float64\n",
      " 19  gf_d      3969 non-null   float64\n",
      " 20  D50_d     3969 non-null   float64\n",
      " 21  gf_u      3969 non-null   float64\n",
      " 22  D50_u     3969 non-null   float64\n",
      " 23  gf        3969 non-null   float64\n",
      " 24  D         3969 non-null   float64\n",
      " 25  Rc        3969 non-null   float64\n",
      " 26  B         3969 non-null   float64\n",
      " 27  hb        3969 non-null   float64\n",
      " 28  tanαB     3969 non-null   float64\n",
      " 29  Bh        3969 non-null   float64\n",
      " 30  Ac        3969 non-null   float64\n",
      " 31  Gc        3969 non-null   float64\n",
      " 32  RF        3969 non-null   float64\n",
      " 33  CF        3969 non-null   float64\n",
      " 34  WF        3969 non-null   float64\n",
      "dtypes: float64(35)\n",
      "memory usage: 1.1 MB\n"
     ]
    }
   ],
   "source": [
    "X_train.info()"
   ]
  },
  {
   "cell_type": "code",
   "execution_count": 8,
   "id": "0298094c-08e5-4ea5-846b-dfe1a916d51b",
   "metadata": {},
   "outputs": [
    {
     "name": "stdout",
     "output_type": "stream",
     "text": [
      "<class 'pandas.core.series.Series'>\n",
      "RangeIndex: 3969 entries, 0 to 3968\n",
      "Series name: log_q\n",
      "Non-Null Count  Dtype  \n",
      "--------------  -----  \n",
      "3969 non-null   float64\n",
      "dtypes: float64(1)\n",
      "memory usage: 31.1 KB\n"
     ]
    }
   ],
   "source": [
    "y_train.info()"
   ]
  },
  {
   "cell_type": "code",
   "execution_count": 10,
   "id": "4419df3d-161f-42fd-818b-6c57d24fa2d3",
   "metadata": {},
   "outputs": [
    {
     "ename": "ValueError",
     "evalue": "a must be 1-dimensional",
     "output_type": "error",
     "traceback": [
      "\u001b[1;31m---------------------------------------------------------------------------\u001b[0m",
      "\u001b[1;31mValueError\u001b[0m                                Traceback (most recent call last)",
      "\u001b[1;32m~\\AppData\\Local\\Temp\\ipykernel_1544\\3028972038.py\u001b[0m in \u001b[0;36m<module>\u001b[1;34m\u001b[0m\n\u001b[0;32m      2\u001b[0m \u001b[1;33m\u001b[0m\u001b[0m\n\u001b[0;32m      3\u001b[0m \u001b[1;31m# Perform bootstrap resampling\u001b[0m\u001b[1;33m\u001b[0m\u001b[1;33m\u001b[0m\u001b[0m\n\u001b[1;32m----> 4\u001b[1;33m \u001b[0mresampled_models\u001b[0m \u001b[1;33m=\u001b[0m \u001b[0mbootstrap_resample\u001b[0m\u001b[1;33m(\u001b[0m\u001b[0mtrain_df\u001b[0m\u001b[1;33m,\u001b[0m \u001b[0mnum_resampled_models\u001b[0m\u001b[1;33m)\u001b[0m\u001b[1;33m\u001b[0m\u001b[1;33m\u001b[0m\u001b[0m\n\u001b[0m",
      "\u001b[1;32m~\\AppData\\Local\\Temp\\ipykernel_1544\\456406822.py\u001b[0m in \u001b[0;36mbootstrap_resample\u001b[1;34m(data, num_iterations)\u001b[0m\n\u001b[0;32m      7\u001b[0m     \u001b[1;32mfor\u001b[0m \u001b[0m_\u001b[0m \u001b[1;32min\u001b[0m \u001b[0mrange\u001b[0m\u001b[1;33m(\u001b[0m\u001b[0mnum_iterations\u001b[0m\u001b[1;33m)\u001b[0m\u001b[1;33m:\u001b[0m\u001b[1;33m\u001b[0m\u001b[1;33m\u001b[0m\u001b[0m\n\u001b[0;32m      8\u001b[0m         \u001b[1;31m# Generate a bootstrap sample by randomly sampling with replacement\u001b[0m\u001b[1;33m\u001b[0m\u001b[1;33m\u001b[0m\u001b[0m\n\u001b[1;32m----> 9\u001b[1;33m         \u001b[0mbootstrap_sample\u001b[0m \u001b[1;33m=\u001b[0m \u001b[0mnp\u001b[0m\u001b[1;33m.\u001b[0m\u001b[0mrandom\u001b[0m\u001b[1;33m.\u001b[0m\u001b[0mchoice\u001b[0m\u001b[1;33m(\u001b[0m\u001b[0mdata\u001b[0m\u001b[1;33m,\u001b[0m \u001b[0msize\u001b[0m\u001b[1;33m=\u001b[0m\u001b[0mn\u001b[0m\u001b[1;33m,\u001b[0m \u001b[0mreplace\u001b[0m\u001b[1;33m=\u001b[0m\u001b[1;32mTrue\u001b[0m\u001b[1;33m)\u001b[0m\u001b[1;33m\u001b[0m\u001b[1;33m\u001b[0m\u001b[0m\n\u001b[0m\u001b[0;32m     10\u001b[0m \u001b[1;33m\u001b[0m\u001b[0m\n\u001b[0;32m     11\u001b[0m         \u001b[1;31m# Append the bootstrap sample to the list of resampled models\u001b[0m\u001b[1;33m\u001b[0m\u001b[1;33m\u001b[0m\u001b[0m\n",
      "\u001b[1;32mmtrand.pyx\u001b[0m in \u001b[0;36mnumpy.random.mtrand.RandomState.choice\u001b[1;34m()\u001b[0m\n",
      "\u001b[1;31mValueError\u001b[0m: a must be 1-dimensional"
     ]
    }
   ],
   "source": [
    "num_resampled_models = 500\n",
    "\n",
    "# Perform bootstrap resampling\n",
    "resampled_models = bootstrap_resample(train_df, num_resampled_models)\n"
   ]
  },
  {
   "cell_type": "code",
   "execution_count": 9,
   "id": "c0169cbd-06da-4cd2-a1b6-0a235095dabf",
   "metadata": {},
   "outputs": [],
   "source": [
    "regressor = xgb.XGBRegressor()"
   ]
  },
  {
   "cell_type": "code",
   "execution_count": 10,
   "id": "c34c6310-38bc-4429-aab8-38cc7b7a38a3",
   "metadata": {},
   "outputs": [],
   "source": [
    "xg_reg = xgb.XGBRegressor(\n",
    "    objective ='reg:squarederror', \n",
    "    learning_rate = 0.07,\n",
    "    max_depth = 21, \n",
    "    min_child_weight=3,\n",
    "    reg_lambda=1,\n",
    "    subsample=0.75\n",
    ")"
   ]
  },
  {
   "cell_type": "code",
   "execution_count": 24,
   "id": "d30a375b-0321-4728-a34a-e05870757ed8",
   "metadata": {},
   "outputs": [
    {
     "name": "stderr",
     "output_type": "stream",
     "text": [
      "C:\\Users\\User\\anaconda3\\lib\\site-packages\\xgboost\\data.py:250: FutureWarning: pandas.Int64Index is deprecated and will be removed from pandas in a future version. Use pandas.Index with the appropriate dtype instead.\n",
      "  elif isinstance(data.columns, (pd.Int64Index, pd.RangeIndex)):\n"
     ]
    },
    {
     "data": {
      "text/plain": [
       "XGBRegressor(base_score=0.5, booster='gbtree', colsample_bylevel=1,\n",
       "             colsample_bynode=1, colsample_bytree=1, enable_categorical=False,\n",
       "             gamma=0, gpu_id=-1, importance_type=None,\n",
       "             interaction_constraints='', learning_rate=0.07, max_delta_step=0,\n",
       "             max_depth=21, min_child_weight=3, missing=nan,\n",
       "             monotone_constraints='()', n_estimators=100, n_jobs=6,\n",
       "             num_parallel_tree=1, predictor='auto', random_state=0, reg_alpha=0,\n",
       "             reg_lambda=1, scale_pos_weight=1, subsample=0.75,\n",
       "             tree_method='exact', validate_parameters=1, verbosity=None)"
      ]
     },
     "execution_count": 24,
     "metadata": {},
     "output_type": "execute_result"
    }
   ],
   "source": [
    "xg_reg.fit(X_train, y_train)"
   ]
  },
  {
   "cell_type": "code",
   "execution_count": null,
   "id": "66820861-5560-4231-b43d-116e1b700185",
   "metadata": {},
   "outputs": [],
   "source": []
  },
  {
   "cell_type": "code",
   "execution_count": null,
   "id": "51ab2ef9-a3f5-4256-ae25-458861d355aa",
   "metadata": {},
   "outputs": [],
   "source": []
  },
  {
   "cell_type": "code",
   "execution_count": 32,
   "id": "e2e0542b-075f-42cf-b261-acd7cfb4e811",
   "metadata": {},
   "outputs": [
    {
     "name": "stdout",
     "output_type": "stream",
     "text": [
      "Average RMSE: 0.6530035027524678\n"
     ]
    }
   ],
   "source": [
    "def bootstrap_resample(data, num_iterations):\n",
    "    resampled_models = []\n",
    "    n = len(data)\n",
    "    \n",
    "    for _ in range(num_iterations):\n",
    "        # Generate random indices for resampling with replacement\n",
    "        indices = np.random.choice(range(n), size=n, replace=True)\n",
    "        \n",
    "        # Create the bootstrap sample by selecting rows based on the indices\n",
    "        bootstrap_sample = data[indices]\n",
    "        \n",
    "        # Append the bootstrap sample to the list of resampled models\n",
    "        resampled_models.append(bootstrap_sample)\n",
    "    \n",
    "    return resampled_models\n",
    "\n",
    "def build_model_and_calculate_rmse(training_data, testing_data):\n",
    "    X_train = training_data[:, :-1]\n",
    "    y_train = training_data[:, -1]\n",
    "    X_test = testing_data[:, :-1]\n",
    "    y_test = testing_data[:, -1]\n",
    "    \n",
    "    # Build a model (you can use any model you like)\n",
    "    model = LinearRegression()\n",
    "    model.fit(X_train, y_train)\n",
    "    \n",
    "    # Make predictions on the test set\n",
    "    y_pred = model.predict(X_test)\n",
    "    \n",
    "    # Calculate RMSE\n",
    "    rmse = np.sqrt(mean_squared_error(y_test, y_pred))\n",
    "    return rmse\n",
    "\n",
    "# Example usage:\n",
    "train_data = pd.read_excel('train_data_19_03.xlsx').values\n",
    "test_data = pd.read_excel('test_data_19_03.xlsx').values\n",
    "\n",
    "num_resampled_models = 500\n",
    "\n",
    "# Perform bootstrap resampling\n",
    "resampled_models = bootstrap_resample(train_data, num_resampled_models)\n",
    "\n",
    "# Calculate RMSE for each resampled model\n",
    "rmse_values = []\n",
    "for resampled_model in resampled_models:\n",
    "    rmse = build_model_and_calculate_rmse(resampled_model, test_data)\n",
    "    rmse_values.append(rmse)\n",
    "\n",
    "# Print the average RMSE over all resampled models\n",
    "average_rmse = np.mean(rmse_values)\n",
    "print(\"Average RMSE:\", average_rmse)"
   ]
  },
  {
   "cell_type": "code",
   "execution_count": 18,
   "id": "35208ae5-65bf-4cb1-8eb9-fe3675f1a7a5",
   "metadata": {},
   "outputs": [
    {
     "name": "stdout",
     "output_type": "stream",
     "text": [
      "Best RMSE: 0.6367148023735614\n"
     ]
    }
   ],
   "source": [
    "best_rmse = np.min(rmse_values)\n",
    "print(\"Best RMSE:\", best_rmse)"
   ]
  },
  {
   "cell_type": "code",
   "execution_count": 35,
   "id": "dd1a80f8-3ebc-461c-a8e9-a2ed04687783",
   "metadata": {},
   "outputs": [
    {
     "ename": "NameError",
     "evalue": "name 'training_data' is not defined",
     "output_type": "error",
     "traceback": [
      "\u001b[1;31m---------------------------------------------------------------------------\u001b[0m",
      "\u001b[1;31mNameError\u001b[0m                                 Traceback (most recent call last)",
      "\u001b[1;32m~\\AppData\\Local\\Temp\\ipykernel_9124\\2012062029.py\u001b[0m in \u001b[0;36m<module>\u001b[1;34m\u001b[0m\n\u001b[1;32m----> 1\u001b[1;33m \u001b[0mX_train\u001b[0m \u001b[1;33m=\u001b[0m \u001b[0mtraining_data\u001b[0m\u001b[1;33m[\u001b[0m\u001b[1;33m:\u001b[0m\u001b[1;33m,\u001b[0m \u001b[1;33m:\u001b[0m\u001b[1;33m-\u001b[0m\u001b[1;36m1\u001b[0m\u001b[1;33m]\u001b[0m\u001b[1;33m\u001b[0m\u001b[1;33m\u001b[0m\u001b[0m\n\u001b[0m\u001b[0;32m      2\u001b[0m \u001b[0my_train\u001b[0m \u001b[1;33m=\u001b[0m \u001b[0mtraining_data\u001b[0m\u001b[1;33m[\u001b[0m\u001b[1;33m:\u001b[0m\u001b[1;33m,\u001b[0m \u001b[1;33m-\u001b[0m\u001b[1;36m1\u001b[0m\u001b[1;33m]\u001b[0m\u001b[1;33m\u001b[0m\u001b[1;33m\u001b[0m\u001b[0m\n\u001b[0;32m      3\u001b[0m \u001b[0mX_test\u001b[0m \u001b[1;33m=\u001b[0m \u001b[0mtesting_data\u001b[0m\u001b[1;33m[\u001b[0m\u001b[1;33m:\u001b[0m\u001b[1;33m,\u001b[0m \u001b[1;33m:\u001b[0m\u001b[1;33m-\u001b[0m\u001b[1;36m1\u001b[0m\u001b[1;33m]\u001b[0m\u001b[1;33m\u001b[0m\u001b[1;33m\u001b[0m\u001b[0m\n\u001b[0;32m      4\u001b[0m \u001b[0my_test\u001b[0m \u001b[1;33m=\u001b[0m \u001b[0mtesting_data\u001b[0m\u001b[1;33m[\u001b[0m\u001b[1;33m:\u001b[0m\u001b[1;33m,\u001b[0m \u001b[1;33m-\u001b[0m\u001b[1;36m1\u001b[0m\u001b[1;33m]\u001b[0m\u001b[1;33m\u001b[0m\u001b[1;33m\u001b[0m\u001b[0m\n",
      "\u001b[1;31mNameError\u001b[0m: name 'training_data' is not defined"
     ]
    }
   ],
   "source": [
    "    X_train = training_data[:, :-1]\n",
    "    y_train = training_data[:, -1]\n",
    "    X_test = testing_data[:, :-1]\n",
    "    y_test = testing_data[:, -1]"
   ]
  },
  {
   "cell_type": "code",
   "execution_count": 27,
   "id": "037ce409-b374-4d1c-8dda-c3f9890b1752",
   "metadata": {},
   "outputs": [],
   "source": [
    "regressor = xgb.XGBRegressor()"
   ]
  },
  {
   "cell_type": "code",
   "execution_count": 28,
   "id": "f8e6d86b-add2-4df1-b804-b73fbfd76fc6",
   "metadata": {},
   "outputs": [],
   "source": [
    "xg_reg = xgb.XGBRegressor(\n",
    "    objective ='reg:squarederror', \n",
    "    learning_rate = 0.07,\n",
    "    max_depth = 21, \n",
    "    min_child_weight=3,\n",
    "    reg_lambda=1,\n",
    "    subsample=0.75\n",
    ")"
   ]
  },
  {
   "cell_type": "code",
   "execution_count": 33,
   "id": "10c8de04-6fff-4f25-81bf-cfff40f256c6",
   "metadata": {},
   "outputs": [
    {
     "ename": "NameError",
     "evalue": "name 'X_train' is not defined",
     "output_type": "error",
     "traceback": [
      "\u001b[1;31m---------------------------------------------------------------------------\u001b[0m",
      "\u001b[1;31mNameError\u001b[0m                                 Traceback (most recent call last)",
      "\u001b[1;32m~\\AppData\\Local\\Temp\\ipykernel_9124\\2517360987.py\u001b[0m in \u001b[0;36m<module>\u001b[1;34m\u001b[0m\n\u001b[1;32m----> 1\u001b[1;33m \u001b[0mxg_reg\u001b[0m\u001b[1;33m.\u001b[0m\u001b[0mfit\u001b[0m\u001b[1;33m(\u001b[0m\u001b[0mX_train\u001b[0m\u001b[1;33m,\u001b[0m \u001b[0my_train\u001b[0m\u001b[1;33m)\u001b[0m\u001b[1;33m\u001b[0m\u001b[1;33m\u001b[0m\u001b[0m\n\u001b[0m",
      "\u001b[1;31mNameError\u001b[0m: name 'X_train' is not defined"
     ]
    }
   ],
   "source": [
    "xg_reg.fit(X_train, y_train)"
   ]
  },
  {
   "cell_type": "code",
   "execution_count": 19,
   "id": "a86f6ca6-b92c-4a78-a3c5-1fd5f2b6db9c",
   "metadata": {},
   "outputs": [],
   "source": [
    "def calculate_percentage_error(actual, predicted):\n",
    "    absolute_error = np.abs(actual - predicted)\n",
    "    relative_error = absolute_error / actual\n",
    "    percentage_error = relative_error * 100\n",
    "    return percentage_error"
   ]
  },
  {
   "cell_type": "code",
   "execution_count": 26,
   "id": "01222c89-88b3-4119-b2fe-53fd67e179b7",
   "metadata": {},
   "outputs": [
    {
     "ename": "ValueError",
     "evalue": "Found input variables with inconsistent numbers of samples: [3969, 1701]",
     "output_type": "error",
     "traceback": [
      "\u001b[1;31m---------------------------------------------------------------------------\u001b[0m",
      "\u001b[1;31mValueError\u001b[0m                                Traceback (most recent call last)",
      "\u001b[1;32m~\\AppData\\Local\\Temp\\ipykernel_9124\\2662237140.py\u001b[0m in \u001b[0;36m<module>\u001b[1;34m\u001b[0m\n\u001b[1;32m----> 1\u001b[1;33m \u001b[0mmape\u001b[0m \u001b[1;33m=\u001b[0m \u001b[0mmean_absolute_percentage_error\u001b[0m\u001b[1;33m(\u001b[0m\u001b[0mresampled_model\u001b[0m\u001b[1;33m,\u001b[0m \u001b[0mtest_data\u001b[0m\u001b[1;33m)\u001b[0m\u001b[1;33m\u001b[0m\u001b[1;33m\u001b[0m\u001b[0m\n\u001b[0m",
      "\u001b[1;32m~\\anaconda3\\lib\\site-packages\\sklearn\\utils\\validation.py\u001b[0m in \u001b[0;36minner_f\u001b[1;34m(*args, **kwargs)\u001b[0m\n\u001b[0;32m     63\u001b[0m             \u001b[0mextra_args\u001b[0m \u001b[1;33m=\u001b[0m \u001b[0mlen\u001b[0m\u001b[1;33m(\u001b[0m\u001b[0margs\u001b[0m\u001b[1;33m)\u001b[0m \u001b[1;33m-\u001b[0m \u001b[0mlen\u001b[0m\u001b[1;33m(\u001b[0m\u001b[0mall_args\u001b[0m\u001b[1;33m)\u001b[0m\u001b[1;33m\u001b[0m\u001b[1;33m\u001b[0m\u001b[0m\n\u001b[0;32m     64\u001b[0m             \u001b[1;32mif\u001b[0m \u001b[0mextra_args\u001b[0m \u001b[1;33m<=\u001b[0m \u001b[1;36m0\u001b[0m\u001b[1;33m:\u001b[0m\u001b[1;33m\u001b[0m\u001b[1;33m\u001b[0m\u001b[0m\n\u001b[1;32m---> 65\u001b[1;33m                 \u001b[1;32mreturn\u001b[0m \u001b[0mf\u001b[0m\u001b[1;33m(\u001b[0m\u001b[1;33m*\u001b[0m\u001b[0margs\u001b[0m\u001b[1;33m,\u001b[0m \u001b[1;33m**\u001b[0m\u001b[0mkwargs\u001b[0m\u001b[1;33m)\u001b[0m\u001b[1;33m\u001b[0m\u001b[1;33m\u001b[0m\u001b[0m\n\u001b[0m\u001b[0;32m     66\u001b[0m \u001b[1;33m\u001b[0m\u001b[0m\n\u001b[0;32m     67\u001b[0m             \u001b[1;31m# extra_args > 0\u001b[0m\u001b[1;33m\u001b[0m\u001b[1;33m\u001b[0m\u001b[0m\n",
      "\u001b[1;32m~\\anaconda3\\lib\\site-packages\\sklearn\\metrics\\_regression.py\u001b[0m in \u001b[0;36mmean_absolute_percentage_error\u001b[1;34m(y_true, y_pred, sample_weight, multioutput)\u001b[0m\n\u001b[0;32m    359\u001b[0m     \u001b[1;36m112589990684262.48\u001b[0m\u001b[1;33m\u001b[0m\u001b[1;33m\u001b[0m\u001b[0m\n\u001b[0;32m    360\u001b[0m     \"\"\"\n\u001b[1;32m--> 361\u001b[1;33m     y_type, y_true, y_pred, multioutput = _check_reg_targets(\n\u001b[0m\u001b[0;32m    362\u001b[0m         \u001b[0my_true\u001b[0m\u001b[1;33m,\u001b[0m \u001b[0my_pred\u001b[0m\u001b[1;33m,\u001b[0m \u001b[0mmultioutput\u001b[0m\u001b[1;33m\u001b[0m\u001b[1;33m\u001b[0m\u001b[0m\n\u001b[0;32m    363\u001b[0m     )\n",
      "\u001b[1;32m~\\anaconda3\\lib\\site-packages\\sklearn\\metrics\\_regression.py\u001b[0m in \u001b[0;36m_check_reg_targets\u001b[1;34m(y_true, y_pred, multioutput, dtype)\u001b[0m\n\u001b[0;32m     92\u001b[0m         \u001b[0mthe\u001b[0m \u001b[0mdtype\u001b[0m \u001b[0margument\u001b[0m \u001b[0mpassed\u001b[0m \u001b[0mto\u001b[0m \u001b[0mcheck_array\u001b[0m\u001b[1;33m.\u001b[0m\u001b[1;33m\u001b[0m\u001b[1;33m\u001b[0m\u001b[0m\n\u001b[0;32m     93\u001b[0m     \"\"\"\n\u001b[1;32m---> 94\u001b[1;33m     \u001b[0mcheck_consistent_length\u001b[0m\u001b[1;33m(\u001b[0m\u001b[0my_true\u001b[0m\u001b[1;33m,\u001b[0m \u001b[0my_pred\u001b[0m\u001b[1;33m)\u001b[0m\u001b[1;33m\u001b[0m\u001b[1;33m\u001b[0m\u001b[0m\n\u001b[0m\u001b[0;32m     95\u001b[0m     \u001b[0my_true\u001b[0m \u001b[1;33m=\u001b[0m \u001b[0mcheck_array\u001b[0m\u001b[1;33m(\u001b[0m\u001b[0my_true\u001b[0m\u001b[1;33m,\u001b[0m \u001b[0mensure_2d\u001b[0m\u001b[1;33m=\u001b[0m\u001b[1;32mFalse\u001b[0m\u001b[1;33m,\u001b[0m \u001b[0mdtype\u001b[0m\u001b[1;33m=\u001b[0m\u001b[0mdtype\u001b[0m\u001b[1;33m)\u001b[0m\u001b[1;33m\u001b[0m\u001b[1;33m\u001b[0m\u001b[0m\n\u001b[0;32m     96\u001b[0m     \u001b[0my_pred\u001b[0m \u001b[1;33m=\u001b[0m \u001b[0mcheck_array\u001b[0m\u001b[1;33m(\u001b[0m\u001b[0my_pred\u001b[0m\u001b[1;33m,\u001b[0m \u001b[0mensure_2d\u001b[0m\u001b[1;33m=\u001b[0m\u001b[1;32mFalse\u001b[0m\u001b[1;33m,\u001b[0m \u001b[0mdtype\u001b[0m\u001b[1;33m=\u001b[0m\u001b[0mdtype\u001b[0m\u001b[1;33m)\u001b[0m\u001b[1;33m\u001b[0m\u001b[1;33m\u001b[0m\u001b[0m\n",
      "\u001b[1;32m~\\anaconda3\\lib\\site-packages\\sklearn\\utils\\validation.py\u001b[0m in \u001b[0;36mcheck_consistent_length\u001b[1;34m(*arrays)\u001b[0m\n\u001b[0;32m    330\u001b[0m     \u001b[0muniques\u001b[0m \u001b[1;33m=\u001b[0m \u001b[0mnp\u001b[0m\u001b[1;33m.\u001b[0m\u001b[0munique\u001b[0m\u001b[1;33m(\u001b[0m\u001b[0mlengths\u001b[0m\u001b[1;33m)\u001b[0m\u001b[1;33m\u001b[0m\u001b[1;33m\u001b[0m\u001b[0m\n\u001b[0;32m    331\u001b[0m     \u001b[1;32mif\u001b[0m \u001b[0mlen\u001b[0m\u001b[1;33m(\u001b[0m\u001b[0muniques\u001b[0m\u001b[1;33m)\u001b[0m \u001b[1;33m>\u001b[0m \u001b[1;36m1\u001b[0m\u001b[1;33m:\u001b[0m\u001b[1;33m\u001b[0m\u001b[1;33m\u001b[0m\u001b[0m\n\u001b[1;32m--> 332\u001b[1;33m         raise ValueError(\n\u001b[0m\u001b[0;32m    333\u001b[0m             \u001b[1;34m\"Found input variables with inconsistent numbers of samples: %r\"\u001b[0m\u001b[1;33m\u001b[0m\u001b[1;33m\u001b[0m\u001b[0m\n\u001b[0;32m    334\u001b[0m             \u001b[1;33m%\u001b[0m \u001b[1;33m[\u001b[0m\u001b[0mint\u001b[0m\u001b[1;33m(\u001b[0m\u001b[0ml\u001b[0m\u001b[1;33m)\u001b[0m \u001b[1;32mfor\u001b[0m \u001b[0ml\u001b[0m \u001b[1;32min\u001b[0m \u001b[0mlengths\u001b[0m\u001b[1;33m]\u001b[0m\u001b[1;33m\u001b[0m\u001b[1;33m\u001b[0m\u001b[0m\n",
      "\u001b[1;31mValueError\u001b[0m: Found input variables with inconsistent numbers of samples: [3969, 1701]"
     ]
    }
   ],
   "source": [
    "mape = mean_absolute_percentage_error(resampled_model, test_data)"
   ]
  },
  {
   "cell_type": "code",
   "execution_count": null,
   "id": "57e483c9-29c0-4bec-a46e-0b79b203c4da",
   "metadata": {},
   "outputs": [],
   "source": []
  }
 ],
 "metadata": {
  "kernelspec": {
   "display_name": "Python 3 (ipykernel)",
   "language": "python",
   "name": "python3"
  },
  "language_info": {
   "codemirror_mode": {
    "name": "ipython",
    "version": 3
   },
   "file_extension": ".py",
   "mimetype": "text/x-python",
   "name": "python",
   "nbconvert_exporter": "python",
   "pygments_lexer": "ipython3",
   "version": "3.9.13"
  }
 },
 "nbformat": 4,
 "nbformat_minor": 5
}
