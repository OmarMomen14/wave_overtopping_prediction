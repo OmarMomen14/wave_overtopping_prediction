{
 "cells": [
  {
   "cell_type": "code",
   "execution_count": 1,
   "id": "28a92761-5767-4d8c-81ff-ee1aa5d54e22",
   "metadata": {},
   "outputs": [],
   "source": [
    "import xgboost as xgb\n",
    "from sklearn.metrics import mean_squared_error, mean_absolute_percentage_error\n",
    "import pandas as pd\n",
    "import numpy as np\n",
    "import sklearn\n",
    "from sklearn.model_selection import GridSearchCV\n",
    "import pandas as pd\n",
    "import numpy as np\n",
    "from sklearn.linear_model import LinearRegression\n",
    "from sklearn.metrics import mean_squared_error\n",
    "import numpy as np\n",
    "from tqdm import tqdm"
   ]
  },
  {
   "cell_type": "code",
   "execution_count": 2,
   "id": "9b2b4397-65a8-46df-8665-33e1c9e1c796",
   "metadata": {},
   "outputs": [],
   "source": [
    "def bootstrap_resample(data, num_iterations):\n",
    "    resampled_models = []\n",
    "    n = len(data)\n",
    "    \n",
    "    for _ in range(num_iterations):\n",
    "        # Generate a bootstrap sample by randomly sampling with replacement\n",
    "        bootstrap_sample = data.sample(n=n, replace=True)\n",
    "        \n",
    "        # Append the bootstrap sample to the list of resampled models\n",
    "        resampled_models.append(bootstrap_sample)\n",
    "    \n",
    "    return resampled_models"
   ]
  },
  {
   "cell_type": "code",
   "execution_count": 3,
   "id": "d785cddf-c655-4bdd-9836-35b0a5265641",
   "metadata": {},
   "outputs": [],
   "source": [
    "train_df = pd.read_excel('train_data_19_03.xlsx', index_col=False)"
   ]
  },
  {
   "cell_type": "code",
   "execution_count": 4,
   "id": "4149ca36-a7a2-49ff-8c6e-86fb2899da12",
   "metadata": {},
   "outputs": [],
   "source": [
    "test_df = pd.read_excel('test_data_19_03.xlsx', index_col=False)"
   ]
  },
  {
   "cell_type": "code",
   "execution_count": 5,
   "id": "d5c96383-c1c2-45ab-9811-378a7684aaa8",
   "metadata": {},
   "outputs": [
    {
     "name": "stdout",
     "output_type": "stream",
     "text": [
      "Example of a resampled model:\n",
      "<class 'pandas.core.frame.DataFrame'>\n",
      "Int64Index: 3969 entries, 1111 to 1501\n",
      "Data columns (total 36 columns):\n",
      " #   Column    Non-Null Count  Dtype  \n",
      "---  ------    --------------  -----  \n",
      " 0   Hm0 d     3969 non-null   float64\n",
      " 1   Tp d      3969 non-null   float64\n",
      " 2   Tm d      3969 non-null   float64\n",
      " 3   Tm1,0 d   3969 non-null   float64\n",
      " 4   hdeep     3969 non-null   float64\n",
      " 5   mmm       3969 non-null   float64\n",
      " 6   β         3969 non-null   float64\n",
      " 7   Spread s  3969 non-null   float64\n",
      " 8   h         3969 non-null   float64\n",
      " 9   Hm0 toe   3969 non-null   float64\n",
      " 10  Tp toe    3969 non-null   float64\n",
      " 11  Tm toe    3969 non-null   float64\n",
      " 12  Tm1,0t    3969 non-null   float64\n",
      " 13  ht        3969 non-null   float64\n",
      " 14  Bt        3969 non-null   float64\n",
      " 15  cotαd     3969 non-null   float64\n",
      " 16  cotαu     3969 non-null   float64\n",
      " 17  cotαexcl  3969 non-null   float64\n",
      " 18  cotαincl  3969 non-null   float64\n",
      " 19  gf_d      3969 non-null   float64\n",
      " 20  D50_d     3969 non-null   float64\n",
      " 21  gf_u      3969 non-null   float64\n",
      " 22  D50_u     3969 non-null   float64\n",
      " 23  gf        3969 non-null   float64\n",
      " 24  D         3969 non-null   float64\n",
      " 25  Rc        3969 non-null   float64\n",
      " 26  B         3969 non-null   float64\n",
      " 27  hb        3969 non-null   float64\n",
      " 28  tanαB     3969 non-null   float64\n",
      " 29  Bh        3969 non-null   float64\n",
      " 30  Ac        3969 non-null   float64\n",
      " 31  Gc        3969 non-null   float64\n",
      " 32  RF        3969 non-null   float64\n",
      " 33  CF        3969 non-null   float64\n",
      " 34  WF        3969 non-null   float64\n",
      " 35  log_q     3969 non-null   float64\n",
      "dtypes: float64(36)\n",
      "memory usage: 1.1 MB\n",
      "None\n"
     ]
    }
   ],
   "source": [
    "num_resampled_models = 500\n",
    "\n",
    "# Perform bootstrap resampling\n",
    "resampled_models = bootstrap_resample(train_df, num_resampled_models)\n",
    "\n",
    "# Print the first resampled model (as an example)\n",
    "print(\"Example of a resampled model:\")\n",
    "print(resampled_models[0].info())"
   ]
  },
  {
   "cell_type": "code",
   "execution_count": 6,
   "id": "0b3e0dc6-c7a7-4f5d-87c0-de801ee2547c",
   "metadata": {},
   "outputs": [
    {
     "data": {
      "text/plain": [
       "500"
      ]
     },
     "execution_count": 6,
     "metadata": {},
     "output_type": "execute_result"
    }
   ],
   "source": [
    "len(resampled_models)"
   ]
  },
  {
   "cell_type": "code",
   "execution_count": null,
   "id": "c08a9246-0e8a-44a5-9d5f-20b4c4036bfc",
   "metadata": {},
   "outputs": [],
   "source": []
  },
  {
   "cell_type": "code",
   "execution_count": null,
   "id": "04983a76-ba93-4442-9ce0-c7b3e0a4d106",
   "metadata": {},
   "outputs": [],
   "source": [
    "X_test = test_df[test_df.columns[:-1]]\n",
    "y_test = test_df[test_df.columns[-1]]\n",
    "regressor = xgb.XGBRegressor()\n",
    "\n",
    "xg_reg = xgb.XGBRegressor(\n",
    "    objective ='reg:squarederror', \n",
    "    learning_rate = 0.07,\n",
    "    max_depth = 21, \n",
    "    min_child_weight=3,\n",
    "    reg_lambda=1,\n",
    "    subsample=0.75\n",
    ")\n",
    "\n",
    "X_train = resampled_models[0][resampled_models[0].columns[:-1]]\n",
    "y_train = resampled_models[0][resampled_models[0].columns[-1]]\n",
    "xg_reg.fit(X_train, y_train)\n",
    "\n",
    "preds = xg_reg.predict(X_test)\n",
    "\n",
    "print(np.sqrt(mean_squared_error(y_test, preds)))\n",
    "print(mean_absolute_percentage_error(y_test, preds))"
   ]
  },
  {
   "cell_type": "code",
   "execution_count": null,
   "id": "d3559b47-be59-45ba-9d47-83f2a5f0bb0a",
   "metadata": {},
   "outputs": [],
   "source": []
  },
  {
   "cell_type": "code",
   "execution_count": null,
   "id": "9f19048d-cda2-4f73-9b35-9907172e5ae7",
   "metadata": {},
   "outputs": [
    {
     "name": "stderr",
     "output_type": "stream",
     "text": [
      "  0%|                                                                                                                                                         | 0/500 [00:00<?, ?it/s]"
     ]
    },
    {
     "name": "stdout",
     "output_type": "stream",
     "text": [
      "model 1\n"
     ]
    }
   ],
   "source": [
    "X_test = test_df[test_df.columns[:-1]]\n",
    "y_test = test_df[test_df.columns[-1]]\n",
    "all_rmse = []\n",
    "all_mape = []\n",
    "all_preds = []\n",
    "\n",
    "for dataset_sample in tqdm(resampled_models):\n",
    "    print('model 1')\n",
    "    regressor = xgb.XGBRegressor()\n",
    "    \n",
    "    xg_reg = xgb.XGBRegressor(\n",
    "        objective ='reg:squarederror', \n",
    "        learning_rate = 0.07,\n",
    "        max_depth = 21, \n",
    "        min_child_weight=3,\n",
    "        reg_lambda=1,\n",
    "        subsample=0.75\n",
    "    )\n",
    "    \n",
    "    X_train = dataset_sample[dataset_sample.columns[:-1]]\n",
    "    y_train = dataset_sample[dataset_sample.columns[-1]]\n",
    "    xg_reg.fit(X_train, y_train)\n",
    "    \n",
    "    preds = xg_reg.predict(X_test)\n",
    "    \n",
    "    all_rmse.append(np.sqrt(mean_squared_error(y_test, preds)))\n",
    "    all_mape.append(mean_absolute_percentage_error(y_test, preds))\n",
    "    all_preds.append(pred)\n",
    "    print(all_rmse)\n",
    "    print(all_mape)\n",
    "    break\n",
    "    "
   ]
  },
  {
   "cell_type": "code",
   "execution_count": null,
   "id": "66820861-5560-4231-b43d-116e1b700185",
   "metadata": {},
   "outputs": [],
   "source": []
  },
  {
   "cell_type": "code",
   "execution_count": null,
   "id": "51ab2ef9-a3f5-4256-ae25-458861d355aa",
   "metadata": {},
   "outputs": [],
   "source": []
  },
  {
   "cell_type": "code",
   "execution_count": null,
   "id": "960ee826-ef80-4103-b106-5e64ef061fc3",
   "metadata": {},
   "outputs": [],
   "source": []
  },
  {
   "cell_type": "code",
   "execution_count": null,
   "id": "d8bceb7c-06c4-46bf-b03a-ba74b5dd8c5a",
   "metadata": {},
   "outputs": [],
   "source": []
  },
  {
   "cell_type": "code",
   "execution_count": null,
   "id": "66a04f31-2722-4c3e-bc20-9cae0bffac3f",
   "metadata": {},
   "outputs": [],
   "source": []
  },
  {
   "cell_type": "code",
   "execution_count": 32,
   "id": "e2e0542b-075f-42cf-b261-acd7cfb4e811",
   "metadata": {},
   "outputs": [
    {
     "name": "stdout",
     "output_type": "stream",
     "text": [
      "Average RMSE: 0.6530035027524678\n"
     ]
    }
   ],
   "source": [
    "def build_model_and_calculate_rmse(training_data, testing_data):\n",
    "    X_train = training_data[:, :-1]\n",
    "    y_train = training_data[:, -1]\n",
    "    X_test = testing_data[:, :-1]\n",
    "    y_test = testing_data[:, -1]\n",
    "    \n",
    "    # Build a model (you can use any model you like)\n",
    "    model = LinearRegression()\n",
    "    model.fit(X_train, y_train)\n",
    "    \n",
    "    # Make predictions on the test set\n",
    "    y_pred = model.predict(X_test)\n",
    "    \n",
    "    # Calculate RMSE\n",
    "    rmse = np.sqrt(mean_squared_error(y_test, y_pred))\n",
    "    return rmse\n",
    "\n",
    "# Example usage:\n",
    "train_data = pd.read_excel('train_data_19_03.xlsx').values\n",
    "test_data = pd.read_excel('test_data_19_03.xlsx').values\n",
    "\n",
    "num_resampled_models = 500\n",
    "\n",
    "# Perform bootstrap resampling\n",
    "resampled_models = bootstrap_resample(train_data, num_resampled_models)\n",
    "\n",
    "# Calculate RMSE for each resampled model\n",
    "rmse_values = []\n",
    "for resampled_model in resampled_models:\n",
    "    rmse = build_model_and_calculate_rmse(resampled_model, test_data)\n",
    "    rmse_values.append(rmse)\n",
    "\n",
    "# Print the average RMSE over all resampled models\n",
    "average_rmse = np.mean(rmse_values)\n",
    "print(\"Average RMSE:\", average_rmse)"
   ]
  },
  {
   "cell_type": "code",
   "execution_count": 18,
   "id": "35208ae5-65bf-4cb1-8eb9-fe3675f1a7a5",
   "metadata": {},
   "outputs": [
    {
     "name": "stdout",
     "output_type": "stream",
     "text": [
      "Best RMSE: 0.6367148023735614\n"
     ]
    }
   ],
   "source": [
    "best_rmse = np.min(rmse_values)\n",
    "print(\"Best RMSE:\", best_rmse)"
   ]
  },
  {
   "cell_type": "code",
   "execution_count": 35,
   "id": "dd1a80f8-3ebc-461c-a8e9-a2ed04687783",
   "metadata": {},
   "outputs": [
    {
     "ename": "NameError",
     "evalue": "name 'training_data' is not defined",
     "output_type": "error",
     "traceback": [
      "\u001b[1;31m---------------------------------------------------------------------------\u001b[0m",
      "\u001b[1;31mNameError\u001b[0m                                 Traceback (most recent call last)",
      "\u001b[1;32m~\\AppData\\Local\\Temp\\ipykernel_9124\\2012062029.py\u001b[0m in \u001b[0;36m<module>\u001b[1;34m\u001b[0m\n\u001b[1;32m----> 1\u001b[1;33m \u001b[0mX_train\u001b[0m \u001b[1;33m=\u001b[0m \u001b[0mtraining_data\u001b[0m\u001b[1;33m[\u001b[0m\u001b[1;33m:\u001b[0m\u001b[1;33m,\u001b[0m \u001b[1;33m:\u001b[0m\u001b[1;33m-\u001b[0m\u001b[1;36m1\u001b[0m\u001b[1;33m]\u001b[0m\u001b[1;33m\u001b[0m\u001b[1;33m\u001b[0m\u001b[0m\n\u001b[0m\u001b[0;32m      2\u001b[0m \u001b[0my_train\u001b[0m \u001b[1;33m=\u001b[0m \u001b[0mtraining_data\u001b[0m\u001b[1;33m[\u001b[0m\u001b[1;33m:\u001b[0m\u001b[1;33m,\u001b[0m \u001b[1;33m-\u001b[0m\u001b[1;36m1\u001b[0m\u001b[1;33m]\u001b[0m\u001b[1;33m\u001b[0m\u001b[1;33m\u001b[0m\u001b[0m\n\u001b[0;32m      3\u001b[0m \u001b[0mX_test\u001b[0m \u001b[1;33m=\u001b[0m \u001b[0mtesting_data\u001b[0m\u001b[1;33m[\u001b[0m\u001b[1;33m:\u001b[0m\u001b[1;33m,\u001b[0m \u001b[1;33m:\u001b[0m\u001b[1;33m-\u001b[0m\u001b[1;36m1\u001b[0m\u001b[1;33m]\u001b[0m\u001b[1;33m\u001b[0m\u001b[1;33m\u001b[0m\u001b[0m\n\u001b[0;32m      4\u001b[0m \u001b[0my_test\u001b[0m \u001b[1;33m=\u001b[0m \u001b[0mtesting_data\u001b[0m\u001b[1;33m[\u001b[0m\u001b[1;33m:\u001b[0m\u001b[1;33m,\u001b[0m \u001b[1;33m-\u001b[0m\u001b[1;36m1\u001b[0m\u001b[1;33m]\u001b[0m\u001b[1;33m\u001b[0m\u001b[1;33m\u001b[0m\u001b[0m\n",
      "\u001b[1;31mNameError\u001b[0m: name 'training_data' is not defined"
     ]
    }
   ],
   "source": []
  },
  {
   "cell_type": "code",
   "execution_count": 27,
   "id": "037ce409-b374-4d1c-8dda-c3f9890b1752",
   "metadata": {},
   "outputs": [],
   "source": [
    "regressor = xgb.XGBRegressor()"
   ]
  },
  {
   "cell_type": "code",
   "execution_count": 28,
   "id": "f8e6d86b-add2-4df1-b804-b73fbfd76fc6",
   "metadata": {},
   "outputs": [],
   "source": [
    "xg_reg = xgb.XGBRegressor(\n",
    "    objective ='reg:squarederror', \n",
    "    learning_rate = 0.07,\n",
    "    max_depth = 21, \n",
    "    min_child_weight=3,\n",
    "    reg_lambda=1,\n",
    "    subsample=0.75\n",
    ")"
   ]
  },
  {
   "cell_type": "code",
   "execution_count": 33,
   "id": "10c8de04-6fff-4f25-81bf-cfff40f256c6",
   "metadata": {},
   "outputs": [
    {
     "ename": "NameError",
     "evalue": "name 'X_train' is not defined",
     "output_type": "error",
     "traceback": [
      "\u001b[1;31m---------------------------------------------------------------------------\u001b[0m",
      "\u001b[1;31mNameError\u001b[0m                                 Traceback (most recent call last)",
      "\u001b[1;32m~\\AppData\\Local\\Temp\\ipykernel_9124\\2517360987.py\u001b[0m in \u001b[0;36m<module>\u001b[1;34m\u001b[0m\n\u001b[1;32m----> 1\u001b[1;33m \u001b[0mxg_reg\u001b[0m\u001b[1;33m.\u001b[0m\u001b[0mfit\u001b[0m\u001b[1;33m(\u001b[0m\u001b[0mX_train\u001b[0m\u001b[1;33m,\u001b[0m \u001b[0my_train\u001b[0m\u001b[1;33m)\u001b[0m\u001b[1;33m\u001b[0m\u001b[1;33m\u001b[0m\u001b[0m\n\u001b[0m",
      "\u001b[1;31mNameError\u001b[0m: name 'X_train' is not defined"
     ]
    }
   ],
   "source": [
    "xg_reg.fit(X_train, y_train)"
   ]
  },
  {
   "cell_type": "code",
   "execution_count": 19,
   "id": "a86f6ca6-b92c-4a78-a3c5-1fd5f2b6db9c",
   "metadata": {},
   "outputs": [],
   "source": [
    "def calculate_percentage_error(actual, predicted):\n",
    "    absolute_error = np.abs(actual - predicted)\n",
    "    relative_error = absolute_error / actual\n",
    "    percentage_error = relative_error * 100\n",
    "    return percentage_error"
   ]
  },
  {
   "cell_type": "code",
   "execution_count": 26,
   "id": "01222c89-88b3-4119-b2fe-53fd67e179b7",
   "metadata": {},
   "outputs": [
    {
     "ename": "ValueError",
     "evalue": "Found input variables with inconsistent numbers of samples: [3969, 1701]",
     "output_type": "error",
     "traceback": [
      "\u001b[1;31m---------------------------------------------------------------------------\u001b[0m",
      "\u001b[1;31mValueError\u001b[0m                                Traceback (most recent call last)",
      "\u001b[1;32m~\\AppData\\Local\\Temp\\ipykernel_9124\\2662237140.py\u001b[0m in \u001b[0;36m<module>\u001b[1;34m\u001b[0m\n\u001b[1;32m----> 1\u001b[1;33m \u001b[0mmape\u001b[0m \u001b[1;33m=\u001b[0m \u001b[0mmean_absolute_percentage_error\u001b[0m\u001b[1;33m(\u001b[0m\u001b[0mresampled_model\u001b[0m\u001b[1;33m,\u001b[0m \u001b[0mtest_data\u001b[0m\u001b[1;33m)\u001b[0m\u001b[1;33m\u001b[0m\u001b[1;33m\u001b[0m\u001b[0m\n\u001b[0m",
      "\u001b[1;32m~\\anaconda3\\lib\\site-packages\\sklearn\\utils\\validation.py\u001b[0m in \u001b[0;36minner_f\u001b[1;34m(*args, **kwargs)\u001b[0m\n\u001b[0;32m     63\u001b[0m             \u001b[0mextra_args\u001b[0m \u001b[1;33m=\u001b[0m \u001b[0mlen\u001b[0m\u001b[1;33m(\u001b[0m\u001b[0margs\u001b[0m\u001b[1;33m)\u001b[0m \u001b[1;33m-\u001b[0m \u001b[0mlen\u001b[0m\u001b[1;33m(\u001b[0m\u001b[0mall_args\u001b[0m\u001b[1;33m)\u001b[0m\u001b[1;33m\u001b[0m\u001b[1;33m\u001b[0m\u001b[0m\n\u001b[0;32m     64\u001b[0m             \u001b[1;32mif\u001b[0m \u001b[0mextra_args\u001b[0m \u001b[1;33m<=\u001b[0m \u001b[1;36m0\u001b[0m\u001b[1;33m:\u001b[0m\u001b[1;33m\u001b[0m\u001b[1;33m\u001b[0m\u001b[0m\n\u001b[1;32m---> 65\u001b[1;33m                 \u001b[1;32mreturn\u001b[0m \u001b[0mf\u001b[0m\u001b[1;33m(\u001b[0m\u001b[1;33m*\u001b[0m\u001b[0margs\u001b[0m\u001b[1;33m,\u001b[0m \u001b[1;33m**\u001b[0m\u001b[0mkwargs\u001b[0m\u001b[1;33m)\u001b[0m\u001b[1;33m\u001b[0m\u001b[1;33m\u001b[0m\u001b[0m\n\u001b[0m\u001b[0;32m     66\u001b[0m \u001b[1;33m\u001b[0m\u001b[0m\n\u001b[0;32m     67\u001b[0m             \u001b[1;31m# extra_args > 0\u001b[0m\u001b[1;33m\u001b[0m\u001b[1;33m\u001b[0m\u001b[0m\n",
      "\u001b[1;32m~\\anaconda3\\lib\\site-packages\\sklearn\\metrics\\_regression.py\u001b[0m in \u001b[0;36mmean_absolute_percentage_error\u001b[1;34m(y_true, y_pred, sample_weight, multioutput)\u001b[0m\n\u001b[0;32m    359\u001b[0m     \u001b[1;36m112589990684262.48\u001b[0m\u001b[1;33m\u001b[0m\u001b[1;33m\u001b[0m\u001b[0m\n\u001b[0;32m    360\u001b[0m     \"\"\"\n\u001b[1;32m--> 361\u001b[1;33m     y_type, y_true, y_pred, multioutput = _check_reg_targets(\n\u001b[0m\u001b[0;32m    362\u001b[0m         \u001b[0my_true\u001b[0m\u001b[1;33m,\u001b[0m \u001b[0my_pred\u001b[0m\u001b[1;33m,\u001b[0m \u001b[0mmultioutput\u001b[0m\u001b[1;33m\u001b[0m\u001b[1;33m\u001b[0m\u001b[0m\n\u001b[0;32m    363\u001b[0m     )\n",
      "\u001b[1;32m~\\anaconda3\\lib\\site-packages\\sklearn\\metrics\\_regression.py\u001b[0m in \u001b[0;36m_check_reg_targets\u001b[1;34m(y_true, y_pred, multioutput, dtype)\u001b[0m\n\u001b[0;32m     92\u001b[0m         \u001b[0mthe\u001b[0m \u001b[0mdtype\u001b[0m \u001b[0margument\u001b[0m \u001b[0mpassed\u001b[0m \u001b[0mto\u001b[0m \u001b[0mcheck_array\u001b[0m\u001b[1;33m.\u001b[0m\u001b[1;33m\u001b[0m\u001b[1;33m\u001b[0m\u001b[0m\n\u001b[0;32m     93\u001b[0m     \"\"\"\n\u001b[1;32m---> 94\u001b[1;33m     \u001b[0mcheck_consistent_length\u001b[0m\u001b[1;33m(\u001b[0m\u001b[0my_true\u001b[0m\u001b[1;33m,\u001b[0m \u001b[0my_pred\u001b[0m\u001b[1;33m)\u001b[0m\u001b[1;33m\u001b[0m\u001b[1;33m\u001b[0m\u001b[0m\n\u001b[0m\u001b[0;32m     95\u001b[0m     \u001b[0my_true\u001b[0m \u001b[1;33m=\u001b[0m \u001b[0mcheck_array\u001b[0m\u001b[1;33m(\u001b[0m\u001b[0my_true\u001b[0m\u001b[1;33m,\u001b[0m \u001b[0mensure_2d\u001b[0m\u001b[1;33m=\u001b[0m\u001b[1;32mFalse\u001b[0m\u001b[1;33m,\u001b[0m \u001b[0mdtype\u001b[0m\u001b[1;33m=\u001b[0m\u001b[0mdtype\u001b[0m\u001b[1;33m)\u001b[0m\u001b[1;33m\u001b[0m\u001b[1;33m\u001b[0m\u001b[0m\n\u001b[0;32m     96\u001b[0m     \u001b[0my_pred\u001b[0m \u001b[1;33m=\u001b[0m \u001b[0mcheck_array\u001b[0m\u001b[1;33m(\u001b[0m\u001b[0my_pred\u001b[0m\u001b[1;33m,\u001b[0m \u001b[0mensure_2d\u001b[0m\u001b[1;33m=\u001b[0m\u001b[1;32mFalse\u001b[0m\u001b[1;33m,\u001b[0m \u001b[0mdtype\u001b[0m\u001b[1;33m=\u001b[0m\u001b[0mdtype\u001b[0m\u001b[1;33m)\u001b[0m\u001b[1;33m\u001b[0m\u001b[1;33m\u001b[0m\u001b[0m\n",
      "\u001b[1;32m~\\anaconda3\\lib\\site-packages\\sklearn\\utils\\validation.py\u001b[0m in \u001b[0;36mcheck_consistent_length\u001b[1;34m(*arrays)\u001b[0m\n\u001b[0;32m    330\u001b[0m     \u001b[0muniques\u001b[0m \u001b[1;33m=\u001b[0m \u001b[0mnp\u001b[0m\u001b[1;33m.\u001b[0m\u001b[0munique\u001b[0m\u001b[1;33m(\u001b[0m\u001b[0mlengths\u001b[0m\u001b[1;33m)\u001b[0m\u001b[1;33m\u001b[0m\u001b[1;33m\u001b[0m\u001b[0m\n\u001b[0;32m    331\u001b[0m     \u001b[1;32mif\u001b[0m \u001b[0mlen\u001b[0m\u001b[1;33m(\u001b[0m\u001b[0muniques\u001b[0m\u001b[1;33m)\u001b[0m \u001b[1;33m>\u001b[0m \u001b[1;36m1\u001b[0m\u001b[1;33m:\u001b[0m\u001b[1;33m\u001b[0m\u001b[1;33m\u001b[0m\u001b[0m\n\u001b[1;32m--> 332\u001b[1;33m         raise ValueError(\n\u001b[0m\u001b[0;32m    333\u001b[0m             \u001b[1;34m\"Found input variables with inconsistent numbers of samples: %r\"\u001b[0m\u001b[1;33m\u001b[0m\u001b[1;33m\u001b[0m\u001b[0m\n\u001b[0;32m    334\u001b[0m             \u001b[1;33m%\u001b[0m \u001b[1;33m[\u001b[0m\u001b[0mint\u001b[0m\u001b[1;33m(\u001b[0m\u001b[0ml\u001b[0m\u001b[1;33m)\u001b[0m \u001b[1;32mfor\u001b[0m \u001b[0ml\u001b[0m \u001b[1;32min\u001b[0m \u001b[0mlengths\u001b[0m\u001b[1;33m]\u001b[0m\u001b[1;33m\u001b[0m\u001b[1;33m\u001b[0m\u001b[0m\n",
      "\u001b[1;31mValueError\u001b[0m: Found input variables with inconsistent numbers of samples: [3969, 1701]"
     ]
    }
   ],
   "source": [
    "mape = mean_absolute_percentage_error(resampled_model, test_data)"
   ]
  },
  {
   "cell_type": "code",
   "execution_count": null,
   "id": "57e483c9-29c0-4bec-a46e-0b79b203c4da",
   "metadata": {},
   "outputs": [],
   "source": []
  }
 ],
 "metadata": {
  "kernelspec": {
   "display_name": "Python 3 (ipykernel)",
   "language": "python",
   "name": "python3"
  },
  "language_info": {
   "codemirror_mode": {
    "name": "ipython",
    "version": 3
   },
   "file_extension": ".py",
   "mimetype": "text/x-python",
   "name": "python",
   "nbconvert_exporter": "python",
   "pygments_lexer": "ipython3",
   "version": "3.9.4"
  }
 },
 "nbformat": 4,
 "nbformat_minor": 5
}
