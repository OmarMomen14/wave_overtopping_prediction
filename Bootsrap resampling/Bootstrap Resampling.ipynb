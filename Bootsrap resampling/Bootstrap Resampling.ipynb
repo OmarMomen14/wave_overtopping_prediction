{
 "cells": [
  {
   "cell_type": "code",
   "execution_count": 3,
   "id": "28a92761-5767-4d8c-81ff-ee1aa5d54e22",
   "metadata": {},
   "outputs": [],
   "source": [
    "import xgboost as xgb\n",
    "from sklearn.metrics import mean_squared_error, mean_absolute_percentage_error\n",
    "import pandas as pd\n",
    "import numpy as np\n",
    "import sklearn\n",
    "from sklearn.model_selection import GridSearchCV\n",
    "import pandas as pd\n",
    "import numpy as np\n",
    "from sklearn.linear_model import LinearRegression\n",
    "from sklearn.metrics import mean_squared_error\n",
    "import numpy as np\n",
    "from tqdm import tqdm"
   ]
  },
  {
   "cell_type": "code",
   "execution_count": 4,
   "id": "9b2b4397-65a8-46df-8665-33e1c9e1c796",
   "metadata": {},
   "outputs": [],
   "source": [
    "def bootstrap_resample(data, num_iterations):\n",
    "    resampled_models = []\n",
    "    n = len(data)\n",
    "    \n",
    "    for _ in range(num_iterations):\n",
    "        # Generate a bootstrap sample by randomly sampling with replacement\n",
    "        bootstrap_sample = data.sample(n=n, replace=True)\n",
    "        \n",
    "        # Append the bootstrap sample to the list of resampled models\n",
    "        resampled_models.append(bootstrap_sample)\n",
    "    \n",
    "    return resampled_models"
   ]
  },
  {
   "cell_type": "code",
   "execution_count": 5,
   "id": "d785cddf-c655-4bdd-9836-35b0a5265641",
   "metadata": {},
   "outputs": [],
   "source": [
    "train_df = pd.read_excel('train_data_19_03.xlsx', index_col=False)"
   ]
  },
  {
   "cell_type": "code",
   "execution_count": 6,
   "id": "4149ca36-a7a2-49ff-8c6e-86fb2899da12",
   "metadata": {},
   "outputs": [],
   "source": [
    "test_df = pd.read_excel('test_data_19_03.xlsx', index_col=False)"
   ]
  },
  {
   "cell_type": "code",
   "execution_count": 7,
   "id": "d5c96383-c1c2-45ab-9811-378a7684aaa8",
   "metadata": {},
   "outputs": [
    {
     "name": "stdout",
     "output_type": "stream",
     "text": [
      "Example of a resampled model:\n",
      "<class 'pandas.core.frame.DataFrame'>\n",
      "Int64Index: 3969 entries, 3161 to 312\n",
      "Data columns (total 36 columns):\n",
      " #   Column    Non-Null Count  Dtype  \n",
      "---  ------    --------------  -----  \n",
      " 0   Hm0 d     3969 non-null   float64\n",
      " 1   Tp d      3969 non-null   float64\n",
      " 2   Tm d      3969 non-null   float64\n",
      " 3   Tm1,0 d   3969 non-null   float64\n",
      " 4   hdeep     3969 non-null   float64\n",
      " 5   mmm       3969 non-null   float64\n",
      " 6   β         3969 non-null   float64\n",
      " 7   Spread s  3969 non-null   float64\n",
      " 8   h         3969 non-null   float64\n",
      " 9   Hm0 toe   3969 non-null   float64\n",
      " 10  Tp toe    3969 non-null   float64\n",
      " 11  Tm toe    3969 non-null   float64\n",
      " 12  Tm1,0t    3969 non-null   float64\n",
      " 13  ht        3969 non-null   float64\n",
      " 14  Bt        3969 non-null   float64\n",
      " 15  cotαd     3969 non-null   float64\n",
      " 16  cotαu     3969 non-null   float64\n",
      " 17  cotαexcl  3969 non-null   float64\n",
      " 18  cotαincl  3969 non-null   float64\n",
      " 19  gf_d      3969 non-null   float64\n",
      " 20  D50_d     3969 non-null   float64\n",
      " 21  gf_u      3969 non-null   float64\n",
      " 22  D50_u     3969 non-null   float64\n",
      " 23  gf        3969 non-null   float64\n",
      " 24  D         3969 non-null   float64\n",
      " 25  Rc        3969 non-null   float64\n",
      " 26  B         3969 non-null   float64\n",
      " 27  hb        3969 non-null   float64\n",
      " 28  tanαB     3969 non-null   float64\n",
      " 29  Bh        3969 non-null   float64\n",
      " 30  Ac        3969 non-null   float64\n",
      " 31  Gc        3969 non-null   float64\n",
      " 32  RF        3969 non-null   float64\n",
      " 33  CF        3969 non-null   float64\n",
      " 34  WF        3969 non-null   float64\n",
      " 35  log_q     3969 non-null   float64\n",
      "dtypes: float64(36)\n",
      "memory usage: 1.1 MB\n",
      "None\n"
     ]
    }
   ],
   "source": [
    "num_resampled_models = 500\n",
    "\n",
    "# Perform bootstrap resampling\n",
    "resampled_models = bootstrap_resample(train_df, num_resampled_models)\n",
    "\n",
    "# Print the first resampled model (as an example)\n",
    "print(\"Example of a resampled model:\")\n",
    "print(resampled_models[0].info())"
   ]
  },
  {
   "cell_type": "code",
   "execution_count": 8,
   "id": "0b3e0dc6-c7a7-4f5d-87c0-de801ee2547c",
   "metadata": {},
   "outputs": [
    {
     "data": {
      "text/plain": [
       "500"
      ]
     },
     "execution_count": 8,
     "metadata": {},
     "output_type": "execute_result"
    }
   ],
   "source": [
    "len(resampled_models)"
   ]
  },
  {
   "cell_type": "code",
   "execution_count": null,
   "id": "c08a9246-0e8a-44a5-9d5f-20b4c4036bfc",
   "metadata": {},
   "outputs": [],
   "source": []
  },
  {
   "cell_type": "code",
   "execution_count": 11,
   "id": "9f19048d-cda2-4f73-9b35-9907172e5ae7",
   "metadata": {},
   "outputs": [
    {
     "name": "stderr",
     "output_type": "stream",
     "text": [
      "100%|██████████████████████████████████████████████████████████████████████████████████████████████████████████████████████████████████████████████████████████████████████████████████████████████████████| 500/500 [28:39<00:00,  3.44s/it]\n"
     ]
    }
   ],
   "source": [
    "X_test = test_df[test_df.columns[:-1]]\n",
    "y_test = test_df[test_df.columns[-1]]\n",
    "all_rmse = []\n",
    "all_mape = []\n",
    "all_preds = []\n",
    "\n",
    "for dataset_sample in tqdm(resampled_models):\n",
    "    regressor = xgb.XGBRegressor()\n",
    "    \n",
    "    xg_reg = xgb.XGBRegressor(\n",
    "        objective ='reg:squarederror', \n",
    "        learning_rate = 0.07,\n",
    "        max_depth = 21,\n",
    "        min_child_weight=3,\n",
    "        reg_lambda=1,\n",
    "        subsample=0.75\n",
    "    )\n",
    "    \n",
    "    X_train = dataset_sample[dataset_sample.columns[:-1]]\n",
    "    y_train = dataset_sample[dataset_sample.columns[-1]]\n",
    "    xg_reg.fit(X_train, y_train)\n",
    "    \n",
    "    preds = xg_reg.predict(X_test)\n",
    "    \n",
    "    all_rmse.append(np.sqrt(mean_squared_error(y_test, preds)))\n",
    "    all_mape.append(mean_absolute_percentage_error(y_test, preds))\n",
    "    all_preds.append(preds)"
   ]
  },
  {
   "cell_type": "code",
   "execution_count": 16,
   "id": "9212f2ff-3cd4-4f6c-924d-7cde0a9b7a1c",
   "metadata": {},
   "outputs": [],
   "source": [
    "eval_df = pd.DataFrame({\n",
    "    'rmse': all_rmse,\n",
    "    'mape': all_mape,\n",
    "    'preds': all_preds\n",
    "}) "
   ]
  },
  {
   "cell_type": "code",
   "execution_count": 17,
   "id": "0374bab3-d9d3-47ae-b2aa-7fb93336a63c",
   "metadata": {},
   "outputs": [
    {
     "name": "stdout",
     "output_type": "stream",
     "text": [
      "<class 'pandas.core.frame.DataFrame'>\n",
      "RangeIndex: 500 entries, 0 to 499\n",
      "Data columns (total 3 columns):\n",
      " #   Column  Non-Null Count  Dtype  \n",
      "---  ------  --------------  -----  \n",
      " 0   rmse    500 non-null    float64\n",
      " 1   mape    500 non-null    float64\n",
      " 2   preds   500 non-null    object \n",
      "dtypes: float64(2), object(1)\n",
      "memory usage: 11.8+ KB\n"
     ]
    }
   ],
   "source": [
    "eval_df.info()"
   ]
  },
  {
   "cell_type": "code",
   "execution_count": 18,
   "id": "d8bceb7c-06c4-46bf-b03a-ba74b5dd8c5a",
   "metadata": {},
   "outputs": [
    {
     "data": {
      "text/html": [
       "<div>\n",
       "<style scoped>\n",
       "    .dataframe tbody tr th:only-of-type {\n",
       "        vertical-align: middle;\n",
       "    }\n",
       "\n",
       "    .dataframe tbody tr th {\n",
       "        vertical-align: top;\n",
       "    }\n",
       "\n",
       "    .dataframe thead th {\n",
       "        text-align: right;\n",
       "    }\n",
       "</style>\n",
       "<table border=\"1\" class=\"dataframe\">\n",
       "  <thead>\n",
       "    <tr style=\"text-align: right;\">\n",
       "      <th></th>\n",
       "      <th>rmse</th>\n",
       "      <th>mape</th>\n",
       "      <th>preds</th>\n",
       "    </tr>\n",
       "  </thead>\n",
       "  <tbody>\n",
       "    <tr>\n",
       "      <th>0</th>\n",
       "      <td>0.330631</td>\n",
       "      <td>0.057263</td>\n",
       "      <td>[-3.922778, -3.9782982, -2.9749436, -3.2239969...</td>\n",
       "    </tr>\n",
       "    <tr>\n",
       "      <th>1</th>\n",
       "      <td>0.316845</td>\n",
       "      <td>0.056041</td>\n",
       "      <td>[-4.084008, -4.3743, -2.900655, -3.127904, -4....</td>\n",
       "    </tr>\n",
       "    <tr>\n",
       "      <th>2</th>\n",
       "      <td>0.325540</td>\n",
       "      <td>0.056362</td>\n",
       "      <td>[-4.016885, -4.322522, -2.9363346, -3.209578, ...</td>\n",
       "    </tr>\n",
       "    <tr>\n",
       "      <th>3</th>\n",
       "      <td>0.332213</td>\n",
       "      <td>0.058454</td>\n",
       "      <td>[-3.977727, -4.3450236, -3.245346, -3.2484121,...</td>\n",
       "    </tr>\n",
       "    <tr>\n",
       "      <th>4</th>\n",
       "      <td>0.323408</td>\n",
       "      <td>0.055971</td>\n",
       "      <td>[-3.953535, -4.0700684, -3.1048672, -3.2616057...</td>\n",
       "    </tr>\n",
       "  </tbody>\n",
       "</table>\n",
       "</div>"
      ],
      "text/plain": [
       "       rmse      mape                                              preds\n",
       "0  0.330631  0.057263  [-3.922778, -3.9782982, -2.9749436, -3.2239969...\n",
       "1  0.316845  0.056041  [-4.084008, -4.3743, -2.900655, -3.127904, -4....\n",
       "2  0.325540  0.056362  [-4.016885, -4.322522, -2.9363346, -3.209578, ...\n",
       "3  0.332213  0.058454  [-3.977727, -4.3450236, -3.245346, -3.2484121,...\n",
       "4  0.323408  0.055971  [-3.953535, -4.0700684, -3.1048672, -3.2616057..."
      ]
     },
     "execution_count": 18,
     "metadata": {},
     "output_type": "execute_result"
    }
   ],
   "source": [
    "eval_df.head()"
   ]
  },
  {
   "cell_type": "code",
   "execution_count": 19,
   "id": "66a04f31-2722-4c3e-bc20-9cae0bffac3f",
   "metadata": {},
   "outputs": [],
   "source": [
    "all_bias = []\n",
    "all_R_sq = []\n",
    "all_r = []\n",
    "for preds in all_preds:\n",
    "    all_bias.append((preds-y_test).sum()/len(preds))\n",
    "    all_R_sq.append(sklearn.metrics.r2_score(y_test, preds))\n",
    "    all_r.append(np.corrcoef(y_test, preds)[0, 1])"
   ]
  },
  {
   "cell_type": "code",
   "execution_count": 20,
   "id": "a70b2a24-e628-4033-8c2e-b79a53c383e7",
   "metadata": {},
   "outputs": [],
   "source": [
    "eval_df = pd.DataFrame({\n",
    "    'rmse': all_rmse,\n",
    "    'mape': all_mape,\n",
    "    'preds': all_preds,\n",
    "    'bias': all_bias,\n",
    "    'R_sq': all_R_sq,\n",
    "    'r': all_r\n",
    "}) "
   ]
  },
  {
   "cell_type": "code",
   "execution_count": 21,
   "id": "d3faf085-4ab0-4693-8048-f5de3fc7514a",
   "metadata": {},
   "outputs": [
    {
     "name": "stdout",
     "output_type": "stream",
     "text": [
      "<class 'pandas.core.frame.DataFrame'>\n",
      "RangeIndex: 500 entries, 0 to 499\n",
      "Data columns (total 6 columns):\n",
      " #   Column  Non-Null Count  Dtype  \n",
      "---  ------  --------------  -----  \n",
      " 0   rmse    500 non-null    float64\n",
      " 1   mape    500 non-null    float64\n",
      " 2   preds   500 non-null    object \n",
      " 3   bias    500 non-null    float64\n",
      " 4   R_sq    500 non-null    float64\n",
      " 5   r       500 non-null    float64\n",
      "dtypes: float64(5), object(1)\n",
      "memory usage: 23.6+ KB\n"
     ]
    }
   ],
   "source": [
    "eval_df.info()"
   ]
  },
  {
   "cell_type": "code",
   "execution_count": 22,
   "id": "8596ab75-bf6c-4d41-81d9-cfb67c10f7d1",
   "metadata": {},
   "outputs": [],
   "source": [
    "eval_df.to_excel('bootstraping_results.xlsx')"
   ]
  },
  {
   "cell_type": "code",
   "execution_count": 26,
   "id": "2813835e-a38c-47bc-a268-1d95b4909655",
   "metadata": {},
   "outputs": [],
   "source": [
    "preds_df = pd.DataFrame(all_preds).T"
   ]
  },
  {
   "cell_type": "code",
   "execution_count": 29,
   "id": "e3ec2a19-370b-4d58-be5e-0f43725d070c",
   "metadata": {},
   "outputs": [
    {
     "data": {
      "text/plain": [
       "(1701, 500)"
      ]
     },
     "execution_count": 29,
     "metadata": {},
     "output_type": "execute_result"
    }
   ],
   "source": [
    "preds_df.shape"
   ]
  },
  {
   "cell_type": "code",
   "execution_count": 30,
   "id": "024b2946-45c0-44c2-8a3f-b5aa5d92995a",
   "metadata": {},
   "outputs": [],
   "source": [
    "preds_df.to_excel('bootstraping_preds.xlsx')"
   ]
  },
  {
   "cell_type": "code",
   "execution_count": 31,
   "id": "1c36f2ea-0939-469d-b947-862d96c41a1e",
   "metadata": {},
   "outputs": [],
   "source": [
    "mean_rmse = np.mean(all_rmse)"
   ]
  },
  {
   "cell_type": "code",
   "execution_count": 32,
   "id": "9b64fb79-2f17-470f-8366-b569ed446f47",
   "metadata": {},
   "outputs": [
    {
     "data": {
      "text/plain": [
       "0.3286887445994513"
      ]
     },
     "execution_count": 32,
     "metadata": {},
     "output_type": "execute_result"
    }
   ],
   "source": [
    "mean_rmse"
   ]
  },
  {
   "cell_type": "code",
   "execution_count": 33,
   "id": "4302df01-f7e0-417c-8f33-9c897255a029",
   "metadata": {},
   "outputs": [],
   "source": [
    "best_rmse = np.min(all_rmse)"
   ]
  },
  {
   "cell_type": "code",
   "execution_count": 34,
   "id": "832b9a7a-d2aa-4dd1-8ece-f1319862697c",
   "metadata": {},
   "outputs": [
    {
     "data": {
      "text/plain": [
       "0.3123423401904806"
      ]
     },
     "execution_count": 34,
     "metadata": {},
     "output_type": "execute_result"
    }
   ],
   "source": [
    "best_rmse"
   ]
  },
  {
   "cell_type": "code",
   "execution_count": 36,
   "id": "05ebbfe2-2ee9-49ca-b962-00fae6f4d684",
   "metadata": {},
   "outputs": [
    {
     "data": {
      "text/plain": [
       "(0.05746587873252982, 0.05437500518558259)"
      ]
     },
     "execution_count": 36,
     "metadata": {},
     "output_type": "execute_result"
    }
   ],
   "source": [
    "mean_mape = np.mean(all_mape)\n",
    "best_mape = np.min(all_mape)\n",
    "mean_mape, best_mape"
   ]
  },
  {
   "cell_type": "code",
   "execution_count": 38,
   "id": "3e130900-a17f-4681-8a97-e69d464fe2f7",
   "metadata": {},
   "outputs": [
    {
     "data": {
      "text/plain": [
       "(0.9414957660771202, 0.9473594466734909)"
      ]
     },
     "execution_count": 38,
     "metadata": {},
     "output_type": "execute_result"
    }
   ],
   "source": [
    "mean_r = np.mean(all_r)\n",
    "best_r = np.max(all_r)\n",
    "mean_r, best_r"
   ]
  },
  {
   "cell_type": "code",
   "execution_count": null,
   "id": "df77d0ec-aae9-47e9-8e93-605cca2b68eb",
   "metadata": {},
   "outputs": [],
   "source": []
  },
  {
   "cell_type": "code",
   "execution_count": null,
   "id": "57e483c9-29c0-4bec-a46e-0b79b203c4da",
   "metadata": {},
   "outputs": [],
   "source": []
  }
 ],
 "metadata": {
  "kernelspec": {
   "display_name": "Python 3 (ipykernel)",
   "language": "python",
   "name": "python3"
  },
  "language_info": {
   "codemirror_mode": {
    "name": "ipython",
    "version": 3
   },
   "file_extension": ".py",
   "mimetype": "text/x-python",
   "name": "python",
   "nbconvert_exporter": "python",
   "pygments_lexer": "ipython3",
   "version": "3.9.13"
  }
 },
 "nbformat": 4,
 "nbformat_minor": 5
}
