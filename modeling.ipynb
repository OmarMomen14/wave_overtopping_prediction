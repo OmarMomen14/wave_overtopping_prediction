{
 "cells": [
  {
   "cell_type": "markdown",
   "id": "317d04b3-33fe-4420-88e1-4218f033da2d",
   "metadata": {},
   "source": [
    "## Trial 19.03.2023"
   ]
  },
  {
   "cell_type": "code",
   "execution_count": 59,
   "id": "7549b93c-57b1-4016-a6c6-c97805fca986",
   "metadata": {},
   "outputs": [],
   "source": [
    "import pandas as pd\n",
    "from sklearn.model_selection import train_test_split"
   ]
  },
  {
   "cell_type": "code",
   "execution_count": 60,
   "id": "aeaa2fad-4129-4ee6-a76a-e4df775822da",
   "metadata": {},
   "outputs": [],
   "source": [
    "df = pd.read_excel('database_v03.xlsx', index_col=False)"
   ]
  },
  {
   "cell_type": "code",
   "execution_count": 61,
   "id": "b93f15e2-c310-4924-95e9-92f2bfc6caf1",
   "metadata": {},
   "outputs": [
    {
     "name": "stdout",
     "output_type": "stream",
     "text": [
      "<class 'pandas.core.frame.DataFrame'>\n",
      "RangeIndex: 5670 entries, 0 to 5669\n",
      "Data columns (total 37 columns):\n",
      " #   Column    Non-Null Count  Dtype  \n",
      "---  ------    --------------  -----  \n",
      " 0   Hm0 d     5670 non-null   float64\n",
      " 1   Tp d      5670 non-null   float64\n",
      " 2   Tm d      5670 non-null   float64\n",
      " 3   Tm1,0 d   5670 non-null   float64\n",
      " 4   hdeep     5670 non-null   float64\n",
      " 5   mmm       5670 non-null   float64\n",
      " 6   β         5670 non-null   float64\n",
      " 7   Spread s  5670 non-null   float64\n",
      " 8   h         5670 non-null   float64\n",
      " 9   Hm0 toe   5670 non-null   float64\n",
      " 10  Tp toe    5670 non-null   float64\n",
      " 11  Tm toe    5670 non-null   float64\n",
      " 12  Tm1,0t    5670 non-null   float64\n",
      " 13  ht        5670 non-null   float64\n",
      " 14  Bt        5670 non-null   float64\n",
      " 15  cotαd     5670 non-null   float64\n",
      " 16  cotαu     5670 non-null   float64\n",
      " 17  cotαexcl  5670 non-null   float64\n",
      " 18  cotαincl  5670 non-null   float64\n",
      " 19  gf_d      5670 non-null   float64\n",
      " 20  D50_d     5670 non-null   float64\n",
      " 21  gf_u      5670 non-null   float64\n",
      " 22  D50_u     5670 non-null   float64\n",
      " 23  gf        5670 non-null   float64\n",
      " 24  D         5670 non-null   float64\n",
      " 25  Rc        5670 non-null   float64\n",
      " 26  B         5670 non-null   float64\n",
      " 27  hb        5670 non-null   float64\n",
      " 28  tanαB     5670 non-null   float64\n",
      " 29  Bh        5670 non-null   float64\n",
      " 30  Ac        5670 non-null   float64\n",
      " 31  Gc        5670 non-null   float64\n",
      " 32  RF        5670 non-null   float64\n",
      " 33  CF        5670 non-null   float64\n",
      " 34  WF        5670 non-null   float64\n",
      " 35  q         5670 non-null   float64\n",
      " 36  log_q     5670 non-null   float64\n",
      "dtypes: float64(37)\n",
      "memory usage: 1.6 MB\n"
     ]
    }
   ],
   "source": [
    "df.info()"
   ]
  },
  {
   "cell_type": "code",
   "execution_count": 62,
   "id": "0ca5fc13-910d-4404-ad66-c3f2bb8f20f3",
   "metadata": {},
   "outputs": [
    {
     "data": {
      "text/plain": [
       "Index(['Hm0 d', 'Tp d', 'Tm d', 'Tm1,0 d', 'hdeep', 'mmm', 'β', 'Spread s',\n",
       "       'h', 'Hm0 toe', 'Tp toe', 'Tm toe', 'Tm1,0t', 'ht', 'Bt', 'cotαd',\n",
       "       'cotαu', 'cotαexcl', 'cotαincl', 'gf_d', 'D50_d', 'gf_u', 'D50_u', 'gf',\n",
       "       'D', 'Rc', 'B', 'hb', 'tanαB', 'Bh', 'Ac', 'Gc', 'RF', 'CF', 'WF', 'q',\n",
       "       'log_q'],\n",
       "      dtype='object')"
      ]
     },
     "execution_count": 62,
     "metadata": {},
     "output_type": "execute_result"
    }
   ],
   "source": [
    "df.columns"
   ]
  },
  {
   "cell_type": "code",
   "execution_count": 63,
   "id": "a37090ec-1016-4c5f-bd09-cfb1a918b25e",
   "metadata": {},
   "outputs": [],
   "source": [
    "X = df[df.columns[:-2]]\n",
    "y = df[['log_q']]"
   ]
  },
  {
   "cell_type": "code",
   "execution_count": 64,
   "id": "3f5d84dc-1f91-4dd1-8820-0c1b657fd053",
   "metadata": {},
   "outputs": [
    {
     "name": "stdout",
     "output_type": "stream",
     "text": [
      "<class 'pandas.core.frame.DataFrame'>\n",
      "RangeIndex: 5670 entries, 0 to 5669\n",
      "Data columns (total 35 columns):\n",
      " #   Column    Non-Null Count  Dtype  \n",
      "---  ------    --------------  -----  \n",
      " 0   Hm0 d     5670 non-null   float64\n",
      " 1   Tp d      5670 non-null   float64\n",
      " 2   Tm d      5670 non-null   float64\n",
      " 3   Tm1,0 d   5670 non-null   float64\n",
      " 4   hdeep     5670 non-null   float64\n",
      " 5   mmm       5670 non-null   float64\n",
      " 6   β         5670 non-null   float64\n",
      " 7   Spread s  5670 non-null   float64\n",
      " 8   h         5670 non-null   float64\n",
      " 9   Hm0 toe   5670 non-null   float64\n",
      " 10  Tp toe    5670 non-null   float64\n",
      " 11  Tm toe    5670 non-null   float64\n",
      " 12  Tm1,0t    5670 non-null   float64\n",
      " 13  ht        5670 non-null   float64\n",
      " 14  Bt        5670 non-null   float64\n",
      " 15  cotαd     5670 non-null   float64\n",
      " 16  cotαu     5670 non-null   float64\n",
      " 17  cotαexcl  5670 non-null   float64\n",
      " 18  cotαincl  5670 non-null   float64\n",
      " 19  gf_d      5670 non-null   float64\n",
      " 20  D50_d     5670 non-null   float64\n",
      " 21  gf_u      5670 non-null   float64\n",
      " 22  D50_u     5670 non-null   float64\n",
      " 23  gf        5670 non-null   float64\n",
      " 24  D         5670 non-null   float64\n",
      " 25  Rc        5670 non-null   float64\n",
      " 26  B         5670 non-null   float64\n",
      " 27  hb        5670 non-null   float64\n",
      " 28  tanαB     5670 non-null   float64\n",
      " 29  Bh        5670 non-null   float64\n",
      " 30  Ac        5670 non-null   float64\n",
      " 31  Gc        5670 non-null   float64\n",
      " 32  RF        5670 non-null   float64\n",
      " 33  CF        5670 non-null   float64\n",
      " 34  WF        5670 non-null   float64\n",
      "dtypes: float64(35)\n",
      "memory usage: 1.5 MB\n"
     ]
    }
   ],
   "source": [
    "X.info()"
   ]
  },
  {
   "cell_type": "code",
   "execution_count": 65,
   "id": "752fbc9e-d042-4656-84a3-2b90ffb1a05d",
   "metadata": {},
   "outputs": [
    {
     "data": {
      "text/html": [
       "<div>\n",
       "<style scoped>\n",
       "    .dataframe tbody tr th:only-of-type {\n",
       "        vertical-align: middle;\n",
       "    }\n",
       "\n",
       "    .dataframe tbody tr th {\n",
       "        vertical-align: top;\n",
       "    }\n",
       "\n",
       "    .dataframe thead th {\n",
       "        text-align: right;\n",
       "    }\n",
       "</style>\n",
       "<table border=\"1\" class=\"dataframe\">\n",
       "  <thead>\n",
       "    <tr style=\"text-align: right;\">\n",
       "      <th></th>\n",
       "      <th>log_q</th>\n",
       "    </tr>\n",
       "  </thead>\n",
       "  <tbody>\n",
       "    <tr>\n",
       "      <th>0</th>\n",
       "      <td>-3.560667</td>\n",
       "    </tr>\n",
       "    <tr>\n",
       "      <th>1</th>\n",
       "      <td>-5.040959</td>\n",
       "    </tr>\n",
       "    <tr>\n",
       "      <th>2</th>\n",
       "      <td>-2.829738</td>\n",
       "    </tr>\n",
       "    <tr>\n",
       "      <th>3</th>\n",
       "      <td>-4.987163</td>\n",
       "    </tr>\n",
       "    <tr>\n",
       "      <th>4</th>\n",
       "      <td>-5.273273</td>\n",
       "    </tr>\n",
       "    <tr>\n",
       "      <th>...</th>\n",
       "      <td>...</td>\n",
       "    </tr>\n",
       "    <tr>\n",
       "      <th>5665</th>\n",
       "      <td>-3.518557</td>\n",
       "    </tr>\n",
       "    <tr>\n",
       "      <th>5666</th>\n",
       "      <td>-3.073143</td>\n",
       "    </tr>\n",
       "    <tr>\n",
       "      <th>5667</th>\n",
       "      <td>-3.913640</td>\n",
       "    </tr>\n",
       "    <tr>\n",
       "      <th>5668</th>\n",
       "      <td>-3.212020</td>\n",
       "    </tr>\n",
       "    <tr>\n",
       "      <th>5669</th>\n",
       "      <td>-3.636388</td>\n",
       "    </tr>\n",
       "  </tbody>\n",
       "</table>\n",
       "<p>5670 rows × 1 columns</p>\n",
       "</div>"
      ],
      "text/plain": [
       "         log_q\n",
       "0    -3.560667\n",
       "1    -5.040959\n",
       "2    -2.829738\n",
       "3    -4.987163\n",
       "4    -5.273273\n",
       "...        ...\n",
       "5665 -3.518557\n",
       "5666 -3.073143\n",
       "5667 -3.913640\n",
       "5668 -3.212020\n",
       "5669 -3.636388\n",
       "\n",
       "[5670 rows x 1 columns]"
      ]
     },
     "execution_count": 65,
     "metadata": {},
     "output_type": "execute_result"
    }
   ],
   "source": [
    "y"
   ]
  },
  {
   "cell_type": "code",
   "execution_count": 66,
   "id": "348b92ff-773f-49b0-8877-58316f785012",
   "metadata": {},
   "outputs": [],
   "source": [
    "X_train, X_test, y_train, y_test = train_test_split(X, y, test_size=0.3, random_state=42)"
   ]
  },
  {
   "cell_type": "code",
   "execution_count": 67,
   "id": "f7140a97-86e3-4176-b54a-9a421d80c82b",
   "metadata": {},
   "outputs": [],
   "source": [
    "import xgboost as xgb\n",
    "from sklearn.metrics import mean_squared_error, mean_absolute_percentage_error\n",
    "import pandas as pd\n",
    "import numpy as np\n",
    "import sklearn"
   ]
  },
  {
   "cell_type": "code",
   "execution_count": 68,
   "id": "46a7f29e-3d5c-41bd-9652-3bc413dccf59",
   "metadata": {},
   "outputs": [],
   "source": [
    "data_dmatrix = xgb.DMatrix(data=X_train, label=y_train)"
   ]
  },
  {
   "cell_type": "code",
   "execution_count": 69,
   "id": "9122e87a-4ca2-4c23-83e2-2b5166d50ebb",
   "metadata": {},
   "outputs": [],
   "source": [
    "xg_reg = xgb.XGBRegressor(\n",
    "    objective ='reg:squarederror', \n",
    "    learning_rate = 0.05,\n",
    "    max_depth = 12, \n",
    "    min_child_weight=5,\n",
    "    reg_lambda=3,\n",
    "    subsample=0.25\n",
    ")"
   ]
  },
  {
   "cell_type": "code",
   "execution_count": 70,
   "id": "6a1b96b1-43ce-4305-ba7f-caeb2cf802b2",
   "metadata": {},
   "outputs": [
    {
     "data": {
      "text/html": [
       "<style>#sk-container-id-2 {color: black;background-color: white;}#sk-container-id-2 pre{padding: 0;}#sk-container-id-2 div.sk-toggleable {background-color: white;}#sk-container-id-2 label.sk-toggleable__label {cursor: pointer;display: block;width: 100%;margin-bottom: 0;padding: 0.3em;box-sizing: border-box;text-align: center;}#sk-container-id-2 label.sk-toggleable__label-arrow:before {content: \"▸\";float: left;margin-right: 0.25em;color: #696969;}#sk-container-id-2 label.sk-toggleable__label-arrow:hover:before {color: black;}#sk-container-id-2 div.sk-estimator:hover label.sk-toggleable__label-arrow:before {color: black;}#sk-container-id-2 div.sk-toggleable__content {max-height: 0;max-width: 0;overflow: hidden;text-align: left;background-color: #f0f8ff;}#sk-container-id-2 div.sk-toggleable__content pre {margin: 0.2em;color: black;border-radius: 0.25em;background-color: #f0f8ff;}#sk-container-id-2 input.sk-toggleable__control:checked~div.sk-toggleable__content {max-height: 200px;max-width: 100%;overflow: auto;}#sk-container-id-2 input.sk-toggleable__control:checked~label.sk-toggleable__label-arrow:before {content: \"▾\";}#sk-container-id-2 div.sk-estimator input.sk-toggleable__control:checked~label.sk-toggleable__label {background-color: #d4ebff;}#sk-container-id-2 div.sk-label input.sk-toggleable__control:checked~label.sk-toggleable__label {background-color: #d4ebff;}#sk-container-id-2 input.sk-hidden--visually {border: 0;clip: rect(1px 1px 1px 1px);clip: rect(1px, 1px, 1px, 1px);height: 1px;margin: -1px;overflow: hidden;padding: 0;position: absolute;width: 1px;}#sk-container-id-2 div.sk-estimator {font-family: monospace;background-color: #f0f8ff;border: 1px dotted black;border-radius: 0.25em;box-sizing: border-box;margin-bottom: 0.5em;}#sk-container-id-2 div.sk-estimator:hover {background-color: #d4ebff;}#sk-container-id-2 div.sk-parallel-item::after {content: \"\";width: 100%;border-bottom: 1px solid gray;flex-grow: 1;}#sk-container-id-2 div.sk-label:hover label.sk-toggleable__label {background-color: #d4ebff;}#sk-container-id-2 div.sk-serial::before {content: \"\";position: absolute;border-left: 1px solid gray;box-sizing: border-box;top: 0;bottom: 0;left: 50%;z-index: 0;}#sk-container-id-2 div.sk-serial {display: flex;flex-direction: column;align-items: center;background-color: white;padding-right: 0.2em;padding-left: 0.2em;position: relative;}#sk-container-id-2 div.sk-item {position: relative;z-index: 1;}#sk-container-id-2 div.sk-parallel {display: flex;align-items: stretch;justify-content: center;background-color: white;position: relative;}#sk-container-id-2 div.sk-item::before, #sk-container-id-2 div.sk-parallel-item::before {content: \"\";position: absolute;border-left: 1px solid gray;box-sizing: border-box;top: 0;bottom: 0;left: 50%;z-index: -1;}#sk-container-id-2 div.sk-parallel-item {display: flex;flex-direction: column;z-index: 1;position: relative;background-color: white;}#sk-container-id-2 div.sk-parallel-item:first-child::after {align-self: flex-end;width: 50%;}#sk-container-id-2 div.sk-parallel-item:last-child::after {align-self: flex-start;width: 50%;}#sk-container-id-2 div.sk-parallel-item:only-child::after {width: 0;}#sk-container-id-2 div.sk-dashed-wrapped {border: 1px dashed gray;margin: 0 0.4em 0.5em 0.4em;box-sizing: border-box;padding-bottom: 0.4em;background-color: white;}#sk-container-id-2 div.sk-label label {font-family: monospace;font-weight: bold;display: inline-block;line-height: 1.2em;}#sk-container-id-2 div.sk-label-container {text-align: center;}#sk-container-id-2 div.sk-container {/* jupyter's `normalize.less` sets `[hidden] { display: none; }` but bootstrap.min.css set `[hidden] { display: none !important; }` so we also need the `!important` here to be able to override the default hidden behavior on the sphinx rendered scikit-learn.org. See: https://github.com/scikit-learn/scikit-learn/issues/21755 */display: inline-block !important;position: relative;}#sk-container-id-2 div.sk-text-repr-fallback {display: none;}</style><div id=\"sk-container-id-2\" class=\"sk-top-container\"><div class=\"sk-text-repr-fallback\"><pre>XGBRegressor(base_score=None, booster=None, callbacks=None,\n",
       "             colsample_bylevel=None, colsample_bynode=None,\n",
       "             colsample_bytree=None, early_stopping_rounds=None,\n",
       "             enable_categorical=False, eval_metric=None, feature_types=None,\n",
       "             gamma=None, gpu_id=None, grow_policy=None, importance_type=None,\n",
       "             interaction_constraints=None, learning_rate=0.05, max_bin=None,\n",
       "             max_cat_threshold=None, max_cat_to_onehot=None,\n",
       "             max_delta_step=None, max_depth=12, max_leaves=None,\n",
       "             min_child_weight=5, missing=nan, monotone_constraints=None,\n",
       "             n_estimators=100, n_jobs=None, num_parallel_tree=None,\n",
       "             predictor=None, random_state=None, ...)</pre><b>In a Jupyter environment, please rerun this cell to show the HTML representation or trust the notebook. <br />On GitHub, the HTML representation is unable to render, please try loading this page with nbviewer.org.</b></div><div class=\"sk-container\" hidden><div class=\"sk-item\"><div class=\"sk-estimator sk-toggleable\"><input class=\"sk-toggleable__control sk-hidden--visually\" id=\"sk-estimator-id-2\" type=\"checkbox\" checked><label for=\"sk-estimator-id-2\" class=\"sk-toggleable__label sk-toggleable__label-arrow\">XGBRegressor</label><div class=\"sk-toggleable__content\"><pre>XGBRegressor(base_score=None, booster=None, callbacks=None,\n",
       "             colsample_bylevel=None, colsample_bynode=None,\n",
       "             colsample_bytree=None, early_stopping_rounds=None,\n",
       "             enable_categorical=False, eval_metric=None, feature_types=None,\n",
       "             gamma=None, gpu_id=None, grow_policy=None, importance_type=None,\n",
       "             interaction_constraints=None, learning_rate=0.05, max_bin=None,\n",
       "             max_cat_threshold=None, max_cat_to_onehot=None,\n",
       "             max_delta_step=None, max_depth=12, max_leaves=None,\n",
       "             min_child_weight=5, missing=nan, monotone_constraints=None,\n",
       "             n_estimators=100, n_jobs=None, num_parallel_tree=None,\n",
       "             predictor=None, random_state=None, ...)</pre></div></div></div></div></div>"
      ],
      "text/plain": [
       "XGBRegressor(base_score=None, booster=None, callbacks=None,\n",
       "             colsample_bylevel=None, colsample_bynode=None,\n",
       "             colsample_bytree=None, early_stopping_rounds=None,\n",
       "             enable_categorical=False, eval_metric=None, feature_types=None,\n",
       "             gamma=None, gpu_id=None, grow_policy=None, importance_type=None,\n",
       "             interaction_constraints=None, learning_rate=0.05, max_bin=None,\n",
       "             max_cat_threshold=None, max_cat_to_onehot=None,\n",
       "             max_delta_step=None, max_depth=12, max_leaves=None,\n",
       "             min_child_weight=5, missing=nan, monotone_constraints=None,\n",
       "             n_estimators=100, n_jobs=None, num_parallel_tree=None,\n",
       "             predictor=None, random_state=None, ...)"
      ]
     },
     "execution_count": 70,
     "metadata": {},
     "output_type": "execute_result"
    }
   ],
   "source": [
    "xg_reg.fit(X_train, y_train)"
   ]
  },
  {
   "cell_type": "code",
   "execution_count": 71,
   "id": "6f8bce3e-0c1a-4424-a17d-21a122d81be7",
   "metadata": {},
   "outputs": [],
   "source": [
    "preds = xg_reg.predict(X_test)"
   ]
  },
  {
   "cell_type": "code",
   "execution_count": 72,
   "id": "a98f5db3-c71b-433f-a4dd-0b7d70dee2c8",
   "metadata": {},
   "outputs": [
    {
     "data": {
      "text/plain": [
       "array([-3.743564 , -4.002567 , -3.0716329, ..., -4.3936877, -5.042208 ,\n",
       "       -4.346612 ], dtype=float32)"
      ]
     },
     "execution_count": 72,
     "metadata": {},
     "output_type": "execute_result"
    }
   ],
   "source": [
    "preds"
   ]
  },
  {
   "cell_type": "code",
   "execution_count": 73,
   "id": "e06ae4d4-a60f-41f5-8601-70fdf8181f01",
   "metadata": {},
   "outputs": [
    {
     "data": {
      "text/html": [
       "<div>\n",
       "<style scoped>\n",
       "    .dataframe tbody tr th:only-of-type {\n",
       "        vertical-align: middle;\n",
       "    }\n",
       "\n",
       "    .dataframe tbody tr th {\n",
       "        vertical-align: top;\n",
       "    }\n",
       "\n",
       "    .dataframe thead th {\n",
       "        text-align: right;\n",
       "    }\n",
       "</style>\n",
       "<table border=\"1\" class=\"dataframe\">\n",
       "  <thead>\n",
       "    <tr style=\"text-align: right;\">\n",
       "      <th></th>\n",
       "      <th>log_q</th>\n",
       "    </tr>\n",
       "  </thead>\n",
       "  <tbody>\n",
       "    <tr>\n",
       "      <th>3529</th>\n",
       "      <td>-4.041914</td>\n",
       "    </tr>\n",
       "    <tr>\n",
       "      <th>3967</th>\n",
       "      <td>-4.307153</td>\n",
       "    </tr>\n",
       "    <tr>\n",
       "      <th>1859</th>\n",
       "      <td>-2.856985</td>\n",
       "    </tr>\n",
       "    <tr>\n",
       "      <th>2589</th>\n",
       "      <td>-3.247184</td>\n",
       "    </tr>\n",
       "    <tr>\n",
       "      <th>1662</th>\n",
       "      <td>-4.860121</td>\n",
       "    </tr>\n",
       "    <tr>\n",
       "      <th>...</th>\n",
       "      <td>...</td>\n",
       "    </tr>\n",
       "    <tr>\n",
       "      <th>4527</th>\n",
       "      <td>-4.372634</td>\n",
       "    </tr>\n",
       "    <tr>\n",
       "      <th>2339</th>\n",
       "      <td>-4.459872</td>\n",
       "    </tr>\n",
       "    <tr>\n",
       "      <th>495</th>\n",
       "      <td>-4.200659</td>\n",
       "    </tr>\n",
       "    <tr>\n",
       "      <th>1405</th>\n",
       "      <td>-5.398297</td>\n",
       "    </tr>\n",
       "    <tr>\n",
       "      <th>3866</th>\n",
       "      <td>-4.123205</td>\n",
       "    </tr>\n",
       "  </tbody>\n",
       "</table>\n",
       "<p>1701 rows × 1 columns</p>\n",
       "</div>"
      ],
      "text/plain": [
       "         log_q\n",
       "3529 -4.041914\n",
       "3967 -4.307153\n",
       "1859 -2.856985\n",
       "2589 -3.247184\n",
       "1662 -4.860121\n",
       "...        ...\n",
       "4527 -4.372634\n",
       "2339 -4.459872\n",
       "495  -4.200659\n",
       "1405 -5.398297\n",
       "3866 -4.123205\n",
       "\n",
       "[1701 rows x 1 columns]"
      ]
     },
     "execution_count": 73,
     "metadata": {},
     "output_type": "execute_result"
    }
   ],
   "source": [
    "y_test"
   ]
  },
  {
   "cell_type": "code",
   "execution_count": 74,
   "id": "82727532-6294-4724-87d2-4cdc4d721a65",
   "metadata": {},
   "outputs": [],
   "source": [
    "rmse = np.sqrt(mean_squared_error(y_test, preds))"
   ]
  },
  {
   "cell_type": "code",
   "execution_count": 75,
   "id": "e58f440b-0036-4682-877c-4afc2c7c1e74",
   "metadata": {},
   "outputs": [
    {
     "data": {
      "text/plain": [
       "0.3576352229150839"
      ]
     },
     "execution_count": 75,
     "metadata": {},
     "output_type": "execute_result"
    }
   ],
   "source": [
    "rmse"
   ]
  },
  {
   "cell_type": "code",
   "execution_count": 76,
   "id": "8eb7b07c-81a4-43c5-82d8-561ac7afab28",
   "metadata": {},
   "outputs": [
    {
     "data": {
      "text/html": [
       "<div>\n",
       "<style scoped>\n",
       "    .dataframe tbody tr th:only-of-type {\n",
       "        vertical-align: middle;\n",
       "    }\n",
       "\n",
       "    .dataframe tbody tr th {\n",
       "        vertical-align: top;\n",
       "    }\n",
       "\n",
       "    .dataframe thead th {\n",
       "        text-align: right;\n",
       "    }\n",
       "</style>\n",
       "<table border=\"1\" class=\"dataframe\">\n",
       "  <thead>\n",
       "    <tr style=\"text-align: right;\">\n",
       "      <th></th>\n",
       "      <th>log_q</th>\n",
       "    </tr>\n",
       "  </thead>\n",
       "  <tbody>\n",
       "    <tr>\n",
       "      <th>count</th>\n",
       "      <td>1701.000000</td>\n",
       "    </tr>\n",
       "    <tr>\n",
       "      <th>mean</th>\n",
       "      <td>-4.186291</td>\n",
       "    </tr>\n",
       "    <tr>\n",
       "      <th>std</th>\n",
       "      <td>0.972451</td>\n",
       "    </tr>\n",
       "    <tr>\n",
       "      <th>min</th>\n",
       "      <td>-6.000000</td>\n",
       "    </tr>\n",
       "    <tr>\n",
       "      <th>25%</th>\n",
       "      <td>-4.892790</td>\n",
       "    </tr>\n",
       "    <tr>\n",
       "      <th>50%</th>\n",
       "      <td>-4.251812</td>\n",
       "    </tr>\n",
       "    <tr>\n",
       "      <th>75%</th>\n",
       "      <td>-3.502208</td>\n",
       "    </tr>\n",
       "    <tr>\n",
       "      <th>max</th>\n",
       "      <td>-0.790485</td>\n",
       "    </tr>\n",
       "  </tbody>\n",
       "</table>\n",
       "</div>"
      ],
      "text/plain": [
       "             log_q\n",
       "count  1701.000000\n",
       "mean     -4.186291\n",
       "std       0.972451\n",
       "min      -6.000000\n",
       "25%      -4.892790\n",
       "50%      -4.251812\n",
       "75%      -3.502208\n",
       "max      -0.790485"
      ]
     },
     "execution_count": 76,
     "metadata": {},
     "output_type": "execute_result"
    }
   ],
   "source": [
    "y_test.describe()"
   ]
  },
  {
   "cell_type": "code",
   "execution_count": 77,
   "id": "0d3d8445-0af2-4503-a3be-b9965a6f15dd",
   "metadata": {},
   "outputs": [],
   "source": [
    "preds_df = pd.DataFrame(preds)"
   ]
  },
  {
   "cell_type": "code",
   "execution_count": 78,
   "id": "c064723f-c5a7-4f90-961c-87e5a59636f3",
   "metadata": {},
   "outputs": [
    {
     "data": {
      "text/html": [
       "<div>\n",
       "<style scoped>\n",
       "    .dataframe tbody tr th:only-of-type {\n",
       "        vertical-align: middle;\n",
       "    }\n",
       "\n",
       "    .dataframe tbody tr th {\n",
       "        vertical-align: top;\n",
       "    }\n",
       "\n",
       "    .dataframe thead th {\n",
       "        text-align: right;\n",
       "    }\n",
       "</style>\n",
       "<table border=\"1\" class=\"dataframe\">\n",
       "  <thead>\n",
       "    <tr style=\"text-align: right;\">\n",
       "      <th></th>\n",
       "      <th>0</th>\n",
       "    </tr>\n",
       "  </thead>\n",
       "  <tbody>\n",
       "    <tr>\n",
       "      <th>count</th>\n",
       "      <td>1701.000000</td>\n",
       "    </tr>\n",
       "    <tr>\n",
       "      <th>mean</th>\n",
       "      <td>-4.139819</td>\n",
       "    </tr>\n",
       "    <tr>\n",
       "      <th>std</th>\n",
       "      <td>0.837625</td>\n",
       "    </tr>\n",
       "    <tr>\n",
       "      <th>min</th>\n",
       "      <td>-5.727424</td>\n",
       "    </tr>\n",
       "    <tr>\n",
       "      <th>25%</th>\n",
       "      <td>-4.789207</td>\n",
       "    </tr>\n",
       "    <tr>\n",
       "      <th>50%</th>\n",
       "      <td>-4.303282</td>\n",
       "    </tr>\n",
       "    <tr>\n",
       "      <th>75%</th>\n",
       "      <td>-3.613974</td>\n",
       "    </tr>\n",
       "    <tr>\n",
       "      <th>max</th>\n",
       "      <td>-0.943582</td>\n",
       "    </tr>\n",
       "  </tbody>\n",
       "</table>\n",
       "</div>"
      ],
      "text/plain": [
       "                 0\n",
       "count  1701.000000\n",
       "mean     -4.139819\n",
       "std       0.837625\n",
       "min      -5.727424\n",
       "25%      -4.789207\n",
       "50%      -4.303282\n",
       "75%      -3.613974\n",
       "max      -0.943582"
      ]
     },
     "execution_count": 78,
     "metadata": {},
     "output_type": "execute_result"
    }
   ],
   "source": [
    "preds_df.describe()"
   ]
  },
  {
   "cell_type": "code",
   "execution_count": 79,
   "id": "7a2b10b9-9081-4b68-b8d2-a129ae2c0e40",
   "metadata": {},
   "outputs": [],
   "source": [
    "mape = mean_absolute_percentage_error(y_test, preds)"
   ]
  },
  {
   "cell_type": "code",
   "execution_count": 80,
   "id": "ed6e325a-7e55-4a0b-86c4-fb3d2def0e17",
   "metadata": {},
   "outputs": [
    {
     "data": {
      "text/plain": [
       "0.062117785066958545"
      ]
     },
     "execution_count": 80,
     "metadata": {},
     "output_type": "execute_result"
    }
   ],
   "source": [
    "mape"
   ]
  },
  {
   "cell_type": "code",
   "execution_count": 81,
   "id": "32c1f9ff-7ba9-4db6-9d3a-9eddf26381e9",
   "metadata": {},
   "outputs": [],
   "source": [
    "X_train['log_q'] = y_train"
   ]
  },
  {
   "cell_type": "code",
   "execution_count": 82,
   "id": "ac754a2f-c220-4e6a-870d-3456c51af922",
   "metadata": {},
   "outputs": [
    {
     "name": "stdout",
     "output_type": "stream",
     "text": [
      "<class 'pandas.core.frame.DataFrame'>\n",
      "Int64Index: 3969 entries, 205 to 860\n",
      "Data columns (total 36 columns):\n",
      " #   Column    Non-Null Count  Dtype  \n",
      "---  ------    --------------  -----  \n",
      " 0   Hm0 d     3969 non-null   float64\n",
      " 1   Tp d      3969 non-null   float64\n",
      " 2   Tm d      3969 non-null   float64\n",
      " 3   Tm1,0 d   3969 non-null   float64\n",
      " 4   hdeep     3969 non-null   float64\n",
      " 5   mmm       3969 non-null   float64\n",
      " 6   β         3969 non-null   float64\n",
      " 7   Spread s  3969 non-null   float64\n",
      " 8   h         3969 non-null   float64\n",
      " 9   Hm0 toe   3969 non-null   float64\n",
      " 10  Tp toe    3969 non-null   float64\n",
      " 11  Tm toe    3969 non-null   float64\n",
      " 12  Tm1,0t    3969 non-null   float64\n",
      " 13  ht        3969 non-null   float64\n",
      " 14  Bt        3969 non-null   float64\n",
      " 15  cotαd     3969 non-null   float64\n",
      " 16  cotαu     3969 non-null   float64\n",
      " 17  cotαexcl  3969 non-null   float64\n",
      " 18  cotαincl  3969 non-null   float64\n",
      " 19  gf_d      3969 non-null   float64\n",
      " 20  D50_d     3969 non-null   float64\n",
      " 21  gf_u      3969 non-null   float64\n",
      " 22  D50_u     3969 non-null   float64\n",
      " 23  gf        3969 non-null   float64\n",
      " 24  D         3969 non-null   float64\n",
      " 25  Rc        3969 non-null   float64\n",
      " 26  B         3969 non-null   float64\n",
      " 27  hb        3969 non-null   float64\n",
      " 28  tanαB     3969 non-null   float64\n",
      " 29  Bh        3969 non-null   float64\n",
      " 30  Ac        3969 non-null   float64\n",
      " 31  Gc        3969 non-null   float64\n",
      " 32  RF        3969 non-null   float64\n",
      " 33  CF        3969 non-null   float64\n",
      " 34  WF        3969 non-null   float64\n",
      " 35  log_q     3969 non-null   float64\n",
      "dtypes: float64(36)\n",
      "memory usage: 1.1 MB\n"
     ]
    }
   ],
   "source": [
    "X_train.info()"
   ]
  },
  {
   "cell_type": "code",
   "execution_count": 83,
   "id": "f0f53c25-2be3-412d-bcac-06a45f5101e0",
   "metadata": {},
   "outputs": [],
   "source": [
    "X_train.to_excel('train_data_19_03.xlsx', index=False)"
   ]
  },
  {
   "cell_type": "code",
   "execution_count": 84,
   "id": "c096df9f-566a-47db-a7b2-ee65361131aa",
   "metadata": {},
   "outputs": [],
   "source": [
    "X_test['log_q'] = y_test"
   ]
  },
  {
   "cell_type": "code",
   "execution_count": 85,
   "id": "5f2d4616-adfe-4c45-b4b2-55ed8c26f7c2",
   "metadata": {},
   "outputs": [],
   "source": [
    "X_test.to_excel('test_data_19_03.xlsx', index=False)"
   ]
  },
  {
   "cell_type": "code",
   "execution_count": 86,
   "id": "d5e77a0f-3f1f-4ff5-815f-c944f0bb1d19",
   "metadata": {},
   "outputs": [],
   "source": [
    "preds_df.to_excel('predictions_19_03.xlsx', index=False)"
   ]
  },
  {
   "cell_type": "code",
   "execution_count": 87,
   "id": "9adba617-550c-4a7b-b45b-07ca01583cf3",
   "metadata": {},
   "outputs": [],
   "source": [
    "scaled_preds = 10**preds_df"
   ]
  },
  {
   "cell_type": "code",
   "execution_count": 88,
   "id": "6d7d9d77-3d86-4156-af94-5d6b9d913db4",
   "metadata": {},
   "outputs": [],
   "source": [
    "scaled_preds.to_excel('scaled_predictions_19_03.xlsx', index=False)"
   ]
  },
  {
   "cell_type": "code",
   "execution_count": 89,
   "id": "75e823a0-149f-4b94-bd21-07e8d44c60d8",
   "metadata": {},
   "outputs": [],
   "source": [
    "scaled_y_test = 10**y_test"
   ]
  },
  {
   "cell_type": "code",
   "execution_count": 90,
   "id": "157f5d1a-f3f5-41b8-ba10-dbdfe0c9b4db",
   "metadata": {},
   "outputs": [],
   "source": [
    "rmse = np.sqrt(mean_squared_error(scaled_y_test, scaled_preds))"
   ]
  },
  {
   "cell_type": "code",
   "execution_count": 91,
   "id": "359fdd70-7da9-484e-a255-c3afd8e47b52",
   "metadata": {},
   "outputs": [
    {
     "data": {
      "text/plain": [
       "0.0027864209691559204"
      ]
     },
     "execution_count": 91,
     "metadata": {},
     "output_type": "execute_result"
    }
   ],
   "source": [
    "rmse"
   ]
  },
  {
   "cell_type": "code",
   "execution_count": 92,
   "id": "2bda92b2-8827-4b21-bfe4-11d1a723b928",
   "metadata": {},
   "outputs": [],
   "source": [
    "mape = mean_absolute_percentage_error(scaled_y_test, scaled_preds)"
   ]
  },
  {
   "cell_type": "code",
   "execution_count": 93,
   "id": "b76d86b5-f3cd-4d4a-a527-ff8f45188e3b",
   "metadata": {},
   "outputs": [
    {
     "data": {
      "text/plain": [
       "1.0702527655527707"
      ]
     },
     "execution_count": 93,
     "metadata": {},
     "output_type": "execute_result"
    }
   ],
   "source": [
    "mape"
   ]
  },
  {
   "cell_type": "code",
   "execution_count": null,
   "id": "f8e163c2-7751-439a-8403-3b925268cb16",
   "metadata": {},
   "outputs": [],
   "source": [
    "scaled_y_test.to_excel('scaled_y_test_19_03.xlsx', index=False)"
   ]
  },
  {
   "cell_type": "code",
   "execution_count": null,
   "id": "58caa302-b6da-4292-89fc-c0e158fe6a3d",
   "metadata": {},
   "outputs": [],
   "source": []
  },
  {
   "cell_type": "code",
   "execution_count": null,
   "id": "4eb36ad0-5ea5-40e5-a4de-99c26b7cec25",
   "metadata": {},
   "outputs": [],
   "source": []
  },
  {
   "cell_type": "code",
   "execution_count": null,
   "id": "468dabca-d375-4776-97c8-40fd1d9c90b2",
   "metadata": {},
   "outputs": [],
   "source": []
  },
  {
   "cell_type": "code",
   "execution_count": null,
   "id": "98451d14-b3e9-49c3-b763-b0d48de3a792",
   "metadata": {},
   "outputs": [],
   "source": []
  },
  {
   "cell_type": "markdown",
   "id": "dcb0f0c0-61ec-48c9-af01-6dd62d4f269f",
   "metadata": {
    "tags": []
   },
   "source": [
    "## Import data"
   ]
  },
  {
   "cell_type": "code",
   "execution_count": 1,
   "id": "e8e28ad0-91f7-47ba-9dda-a91669b7fd1f",
   "metadata": {},
   "outputs": [],
   "source": [
    "import pandas as pd"
   ]
  },
  {
   "cell_type": "code",
   "execution_count": 2,
   "id": "d7bad5b0-eee6-48e8-8e72-7ed83afc13fe",
   "metadata": {},
   "outputs": [],
   "source": [
    "data = pd.read_excel('train_data2.xlsx', index_col=False)"
   ]
  },
  {
   "cell_type": "code",
   "execution_count": 3,
   "id": "3db9da54-a124-4504-bc6a-dfaaf540df22",
   "metadata": {
    "scrolled": true,
    "tags": []
   },
   "outputs": [
    {
     "name": "stdout",
     "output_type": "stream",
     "text": [
      "<class 'pandas.core.frame.DataFrame'>\n",
      "RangeIndex: 4595 entries, 0 to 4594\n",
      "Data columns (total 36 columns):\n",
      " #   Column    Non-Null Count  Dtype  \n",
      "---  ------    --------------  -----  \n",
      " 0   Hm0 d     4595 non-null   float64\n",
      " 1   Tp d      4595 non-null   float64\n",
      " 2   Tm d      4595 non-null   float64\n",
      " 3   Tm1,0 d   4595 non-null   float64\n",
      " 4   hdeep     4595 non-null   float64\n",
      " 5   mmm       4595 non-null   float64\n",
      " 6   β         4595 non-null   int64  \n",
      " 7   Spread s  4595 non-null   int64  \n",
      " 8   h         4595 non-null   float64\n",
      " 9   Hm0 toe   4595 non-null   float64\n",
      " 10  Tp toe    4595 non-null   float64\n",
      " 11  Tm toe    4595 non-null   float64\n",
      " 12  Tm1,0t    4595 non-null   float64\n",
      " 13  ht        4595 non-null   float64\n",
      " 14  Bt        4595 non-null   float64\n",
      " 15  cotαd     4595 non-null   float64\n",
      " 16  cotαu     4595 non-null   float64\n",
      " 17  cotαexcl  4595 non-null   float64\n",
      " 18  cotαincl  4595 non-null   float64\n",
      " 19  gf_d      4595 non-null   float64\n",
      " 20  D50_d     4595 non-null   float64\n",
      " 21  gf_u      4595 non-null   float64\n",
      " 22  D50_u     4595 non-null   float64\n",
      " 23  gf        4595 non-null   float64\n",
      " 24  D         4595 non-null   float64\n",
      " 25  Rc        4595 non-null   float64\n",
      " 26  B         4595 non-null   float64\n",
      " 27  hb        4595 non-null   float64\n",
      " 28  tanαB     4595 non-null   float64\n",
      " 29  Bh        4595 non-null   float64\n",
      " 30  Ac        4595 non-null   float64\n",
      " 31  Gc        4595 non-null   float64\n",
      " 32  RF        4595 non-null   int64  \n",
      " 33  CF        4595 non-null   int64  \n",
      " 34  WF        4595 non-null   int64  \n",
      " 35  q         4595 non-null   float64\n",
      "dtypes: float64(31), int64(5)\n",
      "memory usage: 1.3 MB\n"
     ]
    }
   ],
   "source": [
    "data.info()"
   ]
  },
  {
   "cell_type": "code",
   "execution_count": 4,
   "id": "71860e16-c4b6-4df9-9a76-830308d408b8",
   "metadata": {},
   "outputs": [
    {
     "data": {
      "text/html": [
       "<div>\n",
       "<style scoped>\n",
       "    .dataframe tbody tr th:only-of-type {\n",
       "        vertical-align: middle;\n",
       "    }\n",
       "\n",
       "    .dataframe tbody tr th {\n",
       "        vertical-align: top;\n",
       "    }\n",
       "\n",
       "    .dataframe thead th {\n",
       "        text-align: right;\n",
       "    }\n",
       "</style>\n",
       "<table border=\"1\" class=\"dataframe\">\n",
       "  <thead>\n",
       "    <tr style=\"text-align: right;\">\n",
       "      <th></th>\n",
       "      <th>Hm0 d</th>\n",
       "      <th>Tp d</th>\n",
       "      <th>Tm d</th>\n",
       "      <th>Tm1,0 d</th>\n",
       "      <th>hdeep</th>\n",
       "      <th>mmm</th>\n",
       "      <th>β</th>\n",
       "      <th>Spread s</th>\n",
       "      <th>h</th>\n",
       "      <th>Hm0 toe</th>\n",
       "      <th>...</th>\n",
       "      <th>B</th>\n",
       "      <th>hb</th>\n",
       "      <th>tanαB</th>\n",
       "      <th>Bh</th>\n",
       "      <th>Ac</th>\n",
       "      <th>Gc</th>\n",
       "      <th>RF</th>\n",
       "      <th>CF</th>\n",
       "      <th>WF</th>\n",
       "      <th>q</th>\n",
       "    </tr>\n",
       "  </thead>\n",
       "  <tbody>\n",
       "    <tr>\n",
       "      <th>0</th>\n",
       "      <td>0.231872</td>\n",
       "      <td>2.061655</td>\n",
       "      <td>1.718046</td>\n",
       "      <td>1.874232</td>\n",
       "      <td>0.368887</td>\n",
       "      <td>250.0000</td>\n",
       "      <td>0</td>\n",
       "      <td>0</td>\n",
       "      <td>0.267707</td>\n",
       "      <td>0.134696</td>\n",
       "      <td>...</td>\n",
       "      <td>0.00</td>\n",
       "      <td>0.00000</td>\n",
       "      <td>0.00</td>\n",
       "      <td>0.00</td>\n",
       "      <td>0.149663</td>\n",
       "      <td>0.181282</td>\n",
       "      <td>2</td>\n",
       "      <td>2</td>\n",
       "      <td>4</td>\n",
       "      <td>0.000275</td>\n",
       "    </tr>\n",
       "    <tr>\n",
       "      <th>1</th>\n",
       "      <td>0.117000</td>\n",
       "      <td>1.600000</td>\n",
       "      <td>1.333333</td>\n",
       "      <td>1.454545</td>\n",
       "      <td>0.720000</td>\n",
       "      <td>1000.0000</td>\n",
       "      <td>20</td>\n",
       "      <td>0</td>\n",
       "      <td>0.720000</td>\n",
       "      <td>0.117000</td>\n",
       "      <td>...</td>\n",
       "      <td>0.00</td>\n",
       "      <td>0.00000</td>\n",
       "      <td>0.00</td>\n",
       "      <td>0.00</td>\n",
       "      <td>0.240000</td>\n",
       "      <td>0.000000</td>\n",
       "      <td>1</td>\n",
       "      <td>1</td>\n",
       "      <td>9</td>\n",
       "      <td>0.000009</td>\n",
       "    </tr>\n",
       "    <tr>\n",
       "      <th>2</th>\n",
       "      <td>0.171266</td>\n",
       "      <td>1.766000</td>\n",
       "      <td>1.505140</td>\n",
       "      <td>1.654000</td>\n",
       "      <td>0.750000</td>\n",
       "      <td>111.1111</td>\n",
       "      <td>0</td>\n",
       "      <td>0</td>\n",
       "      <td>0.480000</td>\n",
       "      <td>0.173200</td>\n",
       "      <td>...</td>\n",
       "      <td>0.00</td>\n",
       "      <td>-0.06367</td>\n",
       "      <td>0.02</td>\n",
       "      <td>0.00</td>\n",
       "      <td>0.067000</td>\n",
       "      <td>0.000000</td>\n",
       "      <td>1</td>\n",
       "      <td>2</td>\n",
       "      <td>6</td>\n",
       "      <td>0.001480</td>\n",
       "    </tr>\n",
       "    <tr>\n",
       "      <th>3</th>\n",
       "      <td>0.081390</td>\n",
       "      <td>1.138000</td>\n",
       "      <td>0.986900</td>\n",
       "      <td>1.044000</td>\n",
       "      <td>0.827743</td>\n",
       "      <td>20.0000</td>\n",
       "      <td>0</td>\n",
       "      <td>0</td>\n",
       "      <td>0.257743</td>\n",
       "      <td>0.064230</td>\n",
       "      <td>...</td>\n",
       "      <td>0.21</td>\n",
       "      <td>0.02000</td>\n",
       "      <td>0.00</td>\n",
       "      <td>0.21</td>\n",
       "      <td>0.090000</td>\n",
       "      <td>0.090000</td>\n",
       "      <td>1</td>\n",
       "      <td>1</td>\n",
       "      <td>9</td>\n",
       "      <td>0.000010</td>\n",
       "    </tr>\n",
       "    <tr>\n",
       "      <th>4</th>\n",
       "      <td>0.078170</td>\n",
       "      <td>1.388000</td>\n",
       "      <td>1.029000</td>\n",
       "      <td>1.274000</td>\n",
       "      <td>0.729000</td>\n",
       "      <td>1000.0000</td>\n",
       "      <td>0</td>\n",
       "      <td>0</td>\n",
       "      <td>0.229000</td>\n",
       "      <td>0.065540</td>\n",
       "      <td>...</td>\n",
       "      <td>0.00</td>\n",
       "      <td>-0.01660</td>\n",
       "      <td>0.00</td>\n",
       "      <td>0.00</td>\n",
       "      <td>0.058300</td>\n",
       "      <td>0.000000</td>\n",
       "      <td>1</td>\n",
       "      <td>1</td>\n",
       "      <td>9</td>\n",
       "      <td>0.000005</td>\n",
       "    </tr>\n",
       "  </tbody>\n",
       "</table>\n",
       "<p>5 rows × 36 columns</p>\n",
       "</div>"
      ],
      "text/plain": [
       "      Hm0 d      Tp d      Tm d   Tm1,0 d     hdeep        mmm   β  Spread s  \\\n",
       "0  0.231872  2.061655  1.718046  1.874232  0.368887   250.0000   0         0   \n",
       "1  0.117000  1.600000  1.333333  1.454545  0.720000  1000.0000  20         0   \n",
       "2  0.171266  1.766000  1.505140  1.654000  0.750000   111.1111   0         0   \n",
       "3  0.081390  1.138000  0.986900  1.044000  0.827743    20.0000   0         0   \n",
       "4  0.078170  1.388000  1.029000  1.274000  0.729000  1000.0000   0         0   \n",
       "\n",
       "          h   Hm0 toe  ...     B       hb  tanαB    Bh        Ac        Gc  \\\n",
       "0  0.267707  0.134696  ...  0.00  0.00000   0.00  0.00  0.149663  0.181282   \n",
       "1  0.720000  0.117000  ...  0.00  0.00000   0.00  0.00  0.240000  0.000000   \n",
       "2  0.480000  0.173200  ...  0.00 -0.06367   0.02  0.00  0.067000  0.000000   \n",
       "3  0.257743  0.064230  ...  0.21  0.02000   0.00  0.21  0.090000  0.090000   \n",
       "4  0.229000  0.065540  ...  0.00 -0.01660   0.00  0.00  0.058300  0.000000   \n",
       "\n",
       "   RF  CF  WF         q  \n",
       "0   2   2   4  0.000275  \n",
       "1   1   1   9  0.000009  \n",
       "2   1   2   6  0.001480  \n",
       "3   1   1   9  0.000010  \n",
       "4   1   1   9  0.000005  \n",
       "\n",
       "[5 rows x 36 columns]"
      ]
     },
     "execution_count": 4,
     "metadata": {},
     "output_type": "execute_result"
    }
   ],
   "source": [
    "data.head()"
   ]
  },
  {
   "cell_type": "code",
   "execution_count": 5,
   "id": "a9f225cf-6f18-4c85-8d6b-fbd436f93807",
   "metadata": {},
   "outputs": [],
   "source": [
    "features = list(data.columns)[:-1]"
   ]
  },
  {
   "cell_type": "code",
   "execution_count": 6,
   "id": "bb005567-1fac-4625-83c6-66ddccaaabbf",
   "metadata": {},
   "outputs": [
    {
     "data": {
      "text/plain": [
       "35"
      ]
     },
     "execution_count": 6,
     "metadata": {},
     "output_type": "execute_result"
    }
   ],
   "source": [
    "len(features)"
   ]
  },
  {
   "cell_type": "code",
   "execution_count": 7,
   "id": "099f713e-3dae-48a4-9333-e2ba7aab5ad8",
   "metadata": {},
   "outputs": [],
   "source": [
    "target = list(data.columns)[-1]"
   ]
  },
  {
   "cell_type": "code",
   "execution_count": 8,
   "id": "43b20d07-826e-4f30-9b1c-b4086982b0ed",
   "metadata": {},
   "outputs": [
    {
     "data": {
      "text/plain": [
       "'q'"
      ]
     },
     "execution_count": 8,
     "metadata": {},
     "output_type": "execute_result"
    }
   ],
   "source": [
    "target"
   ]
  },
  {
   "cell_type": "code",
   "execution_count": 9,
   "id": "2e0515cd-c3ea-453a-92be-cc7f0fef5221",
   "metadata": {},
   "outputs": [
    {
     "data": {
      "text/html": [
       "<div>\n",
       "<style scoped>\n",
       "    .dataframe tbody tr th:only-of-type {\n",
       "        vertical-align: middle;\n",
       "    }\n",
       "\n",
       "    .dataframe tbody tr th {\n",
       "        vertical-align: top;\n",
       "    }\n",
       "\n",
       "    .dataframe thead th {\n",
       "        text-align: right;\n",
       "    }\n",
       "</style>\n",
       "<table border=\"1\" class=\"dataframe\">\n",
       "  <thead>\n",
       "    <tr style=\"text-align: right;\">\n",
       "      <th></th>\n",
       "      <th>Hm0 d</th>\n",
       "      <th>Tp d</th>\n",
       "      <th>Tm d</th>\n",
       "      <th>Tm1,0 d</th>\n",
       "      <th>hdeep</th>\n",
       "      <th>mmm</th>\n",
       "      <th>β</th>\n",
       "      <th>Spread s</th>\n",
       "      <th>h</th>\n",
       "      <th>Hm0 toe</th>\n",
       "      <th>Tp toe</th>\n",
       "      <th>Tm toe</th>\n",
       "      <th>Tm1,0t</th>\n",
       "      <th>ht</th>\n",
       "      <th>Bt</th>\n",
       "      <th>cotαd</th>\n",
       "      <th>cotαu</th>\n",
       "      <th>cotαexcl</th>\n",
       "      <th>cotαincl</th>\n",
       "      <th>gf_d</th>\n",
       "    </tr>\n",
       "  </thead>\n",
       "  <tbody>\n",
       "    <tr>\n",
       "      <th>count</th>\n",
       "      <td>4595.000000</td>\n",
       "      <td>4595.000000</td>\n",
       "      <td>4595.000000</td>\n",
       "      <td>4595.000000</td>\n",
       "      <td>4595.000000</td>\n",
       "      <td>4595.000000</td>\n",
       "      <td>4595.000000</td>\n",
       "      <td>4595.000000</td>\n",
       "      <td>4595.000000</td>\n",
       "      <td>4595.000000</td>\n",
       "      <td>4595.000000</td>\n",
       "      <td>4595.000000</td>\n",
       "      <td>4595.000000</td>\n",
       "      <td>4595.000000</td>\n",
       "      <td>4595.000000</td>\n",
       "      <td>4595.000000</td>\n",
       "      <td>4595.000000</td>\n",
       "      <td>4595.000000</td>\n",
       "      <td>4595.000000</td>\n",
       "      <td>4595.000000</td>\n",
       "    </tr>\n",
       "    <tr>\n",
       "      <th>mean</th>\n",
       "      <td>0.195023</td>\n",
       "      <td>1.908970</td>\n",
       "      <td>1.588847</td>\n",
       "      <td>1.748779</td>\n",
       "      <td>2.210337</td>\n",
       "      <td>462.824976</td>\n",
       "      <td>2.830468</td>\n",
       "      <td>0.295974</td>\n",
       "      <td>0.556440</td>\n",
       "      <td>0.168656</td>\n",
       "      <td>1.923305</td>\n",
       "      <td>1.582310</td>\n",
       "      <td>1.792648</td>\n",
       "      <td>0.534907</td>\n",
       "      <td>0.037966</td>\n",
       "      <td>2.121362</td>\n",
       "      <td>3.756655</td>\n",
       "      <td>2.068522</td>\n",
       "      <td>2.410253</td>\n",
       "      <td>0.730705</td>\n",
       "    </tr>\n",
       "    <tr>\n",
       "      <th>std</th>\n",
       "      <td>0.429600</td>\n",
       "      <td>1.257341</td>\n",
       "      <td>1.045544</td>\n",
       "      <td>1.137918</td>\n",
       "      <td>11.822921</td>\n",
       "      <td>466.846095</td>\n",
       "      <td>9.876831</td>\n",
       "      <td>1.302811</td>\n",
       "      <td>0.581644</td>\n",
       "      <td>0.278094</td>\n",
       "      <td>1.273530</td>\n",
       "      <td>1.014881</td>\n",
       "      <td>1.159961</td>\n",
       "      <td>0.583068</td>\n",
       "      <td>0.100943</td>\n",
       "      <td>1.335997</td>\n",
       "      <td>10.042655</td>\n",
       "      <td>1.495805</td>\n",
       "      <td>1.664401</td>\n",
       "      <td>0.283809</td>\n",
       "    </tr>\n",
       "    <tr>\n",
       "      <th>min</th>\n",
       "      <td>0.026800</td>\n",
       "      <td>0.727200</td>\n",
       "      <td>0.592300</td>\n",
       "      <td>0.661091</td>\n",
       "      <td>0.120350</td>\n",
       "      <td>7.600000</td>\n",
       "      <td>0.000000</td>\n",
       "      <td>0.000000</td>\n",
       "      <td>0.029000</td>\n",
       "      <td>0.020713</td>\n",
       "      <td>0.731800</td>\n",
       "      <td>0.609800</td>\n",
       "      <td>0.665300</td>\n",
       "      <td>0.029000</td>\n",
       "      <td>0.000000</td>\n",
       "      <td>0.000000</td>\n",
       "      <td>-5.000000</td>\n",
       "      <td>-1.331333</td>\n",
       "      <td>-1.331333</td>\n",
       "      <td>0.380000</td>\n",
       "    </tr>\n",
       "    <tr>\n",
       "      <th>25%</th>\n",
       "      <td>0.100000</td>\n",
       "      <td>1.384000</td>\n",
       "      <td>1.156522</td>\n",
       "      <td>1.261660</td>\n",
       "      <td>0.545000</td>\n",
       "      <td>50.000000</td>\n",
       "      <td>0.000000</td>\n",
       "      <td>0.000000</td>\n",
       "      <td>0.300000</td>\n",
       "      <td>0.092895</td>\n",
       "      <td>1.384000</td>\n",
       "      <td>1.156522</td>\n",
       "      <td>1.261660</td>\n",
       "      <td>0.300000</td>\n",
       "      <td>0.000000</td>\n",
       "      <td>1.333333</td>\n",
       "      <td>1.250000</td>\n",
       "      <td>1.250000</td>\n",
       "      <td>1.500000</td>\n",
       "      <td>0.400000</td>\n",
       "    </tr>\n",
       "    <tr>\n",
       "      <th>50%</th>\n",
       "      <td>0.129000</td>\n",
       "      <td>1.652000</td>\n",
       "      <td>1.377000</td>\n",
       "      <td>1.515009</td>\n",
       "      <td>0.700000</td>\n",
       "      <td>111.111100</td>\n",
       "      <td>0.000000</td>\n",
       "      <td>0.000000</td>\n",
       "      <td>0.470000</td>\n",
       "      <td>0.122300</td>\n",
       "      <td>1.652000</td>\n",
       "      <td>1.377158</td>\n",
       "      <td>1.521000</td>\n",
       "      <td>0.440000</td>\n",
       "      <td>0.000000</td>\n",
       "      <td>2.000000</td>\n",
       "      <td>2.000000</td>\n",
       "      <td>2.000000</td>\n",
       "      <td>2.000000</td>\n",
       "      <td>1.000000</td>\n",
       "    </tr>\n",
       "    <tr>\n",
       "      <th>75%</th>\n",
       "      <td>0.160000</td>\n",
       "      <td>1.974538</td>\n",
       "      <td>1.630047</td>\n",
       "      <td>1.800000</td>\n",
       "      <td>0.800000</td>\n",
       "      <td>1000.000000</td>\n",
       "      <td>0.000000</td>\n",
       "      <td>0.000000</td>\n",
       "      <td>0.610000</td>\n",
       "      <td>0.150000</td>\n",
       "      <td>1.994148</td>\n",
       "      <td>1.630000</td>\n",
       "      <td>1.903500</td>\n",
       "      <td>0.610000</td>\n",
       "      <td>0.000000</td>\n",
       "      <td>3.000000</td>\n",
       "      <td>3.000000</td>\n",
       "      <td>2.889643</td>\n",
       "      <td>3.283644</td>\n",
       "      <td>1.000000</td>\n",
       "    </tr>\n",
       "    <tr>\n",
       "      <th>max</th>\n",
       "      <td>5.510000</td>\n",
       "      <td>15.000000</td>\n",
       "      <td>12.500000</td>\n",
       "      <td>13.636364</td>\n",
       "      <td>100.000000</td>\n",
       "      <td>1000.000000</td>\n",
       "      <td>80.000000</td>\n",
       "      <td>10.000000</td>\n",
       "      <td>5.010000</td>\n",
       "      <td>2.403070</td>\n",
       "      <td>13.700000</td>\n",
       "      <td>10.792500</td>\n",
       "      <td>10.640000</td>\n",
       "      <td>5.010000</td>\n",
       "      <td>1.000000</td>\n",
       "      <td>7.000000</td>\n",
       "      <td>100.000000</td>\n",
       "      <td>7.863248</td>\n",
       "      <td>11.299435</td>\n",
       "      <td>1.000000</td>\n",
       "    </tr>\n",
       "  </tbody>\n",
       "</table>\n",
       "</div>"
      ],
      "text/plain": [
       "             Hm0 d         Tp d         Tm d      Tm1,0 d        hdeep  \\\n",
       "count  4595.000000  4595.000000  4595.000000  4595.000000  4595.000000   \n",
       "mean      0.195023     1.908970     1.588847     1.748779     2.210337   \n",
       "std       0.429600     1.257341     1.045544     1.137918    11.822921   \n",
       "min       0.026800     0.727200     0.592300     0.661091     0.120350   \n",
       "25%       0.100000     1.384000     1.156522     1.261660     0.545000   \n",
       "50%       0.129000     1.652000     1.377000     1.515009     0.700000   \n",
       "75%       0.160000     1.974538     1.630047     1.800000     0.800000   \n",
       "max       5.510000    15.000000    12.500000    13.636364   100.000000   \n",
       "\n",
       "               mmm            β     Spread s            h      Hm0 toe  \\\n",
       "count  4595.000000  4595.000000  4595.000000  4595.000000  4595.000000   \n",
       "mean    462.824976     2.830468     0.295974     0.556440     0.168656   \n",
       "std     466.846095     9.876831     1.302811     0.581644     0.278094   \n",
       "min       7.600000     0.000000     0.000000     0.029000     0.020713   \n",
       "25%      50.000000     0.000000     0.000000     0.300000     0.092895   \n",
       "50%     111.111100     0.000000     0.000000     0.470000     0.122300   \n",
       "75%    1000.000000     0.000000     0.000000     0.610000     0.150000   \n",
       "max    1000.000000    80.000000    10.000000     5.010000     2.403070   \n",
       "\n",
       "            Tp toe       Tm toe       Tm1,0t           ht           Bt  \\\n",
       "count  4595.000000  4595.000000  4595.000000  4595.000000  4595.000000   \n",
       "mean      1.923305     1.582310     1.792648     0.534907     0.037966   \n",
       "std       1.273530     1.014881     1.159961     0.583068     0.100943   \n",
       "min       0.731800     0.609800     0.665300     0.029000     0.000000   \n",
       "25%       1.384000     1.156522     1.261660     0.300000     0.000000   \n",
       "50%       1.652000     1.377158     1.521000     0.440000     0.000000   \n",
       "75%       1.994148     1.630000     1.903500     0.610000     0.000000   \n",
       "max      13.700000    10.792500    10.640000     5.010000     1.000000   \n",
       "\n",
       "             cotαd        cotαu     cotαexcl     cotαincl         gf_d  \n",
       "count  4595.000000  4595.000000  4595.000000  4595.000000  4595.000000  \n",
       "mean      2.121362     3.756655     2.068522     2.410253     0.730705  \n",
       "std       1.335997    10.042655     1.495805     1.664401     0.283809  \n",
       "min       0.000000    -5.000000    -1.331333    -1.331333     0.380000  \n",
       "25%       1.333333     1.250000     1.250000     1.500000     0.400000  \n",
       "50%       2.000000     2.000000     2.000000     2.000000     1.000000  \n",
       "75%       3.000000     3.000000     2.889643     3.283644     1.000000  \n",
       "max       7.000000   100.000000     7.863248    11.299435     1.000000  "
      ]
     },
     "execution_count": 9,
     "metadata": {},
     "output_type": "execute_result"
    }
   ],
   "source": [
    "data[features[:20]].describe()"
   ]
  },
  {
   "cell_type": "code",
   "execution_count": 10,
   "id": "2b552d1e-0aac-465f-80af-a3f8eff118ec",
   "metadata": {},
   "outputs": [
    {
     "data": {
      "text/plain": [
       "0     4092\n",
       "10     102\n",
       "25      85\n",
       "20      55\n",
       "60      51\n",
       "45      45\n",
       "30      36\n",
       "6       27\n",
       "40      19\n",
       "15      13\n",
       "17       9\n",
       "9        7\n",
       "13       7\n",
       "12       6\n",
       "16       5\n",
       "11       5\n",
       "50       4\n",
       "14       4\n",
       "5        4\n",
       "70       3\n",
       "18       3\n",
       "80       3\n",
       "33       2\n",
       "7        2\n",
       "1        2\n",
       "34       1\n",
       "32       1\n",
       "29       1\n",
       "8        1\n",
       "Name: β, dtype: int64"
      ]
     },
     "execution_count": 10,
     "metadata": {},
     "output_type": "execute_result"
    }
   ],
   "source": [
    "data['β'].value_counts()"
   ]
  },
  {
   "cell_type": "code",
   "execution_count": 11,
   "id": "f50ab395-bd69-4352-a6fe-a968e6ba9036",
   "metadata": {},
   "outputs": [
    {
     "data": {
      "text/html": [
       "<div>\n",
       "<style scoped>\n",
       "    .dataframe tbody tr th:only-of-type {\n",
       "        vertical-align: middle;\n",
       "    }\n",
       "\n",
       "    .dataframe tbody tr th {\n",
       "        vertical-align: top;\n",
       "    }\n",
       "\n",
       "    .dataframe thead th {\n",
       "        text-align: right;\n",
       "    }\n",
       "</style>\n",
       "<table border=\"1\" class=\"dataframe\">\n",
       "  <thead>\n",
       "    <tr style=\"text-align: right;\">\n",
       "      <th></th>\n",
       "      <th>D50_d</th>\n",
       "      <th>gf_u</th>\n",
       "      <th>D50_u</th>\n",
       "      <th>gf</th>\n",
       "      <th>D</th>\n",
       "      <th>Rc</th>\n",
       "      <th>B</th>\n",
       "      <th>hb</th>\n",
       "      <th>tanαB</th>\n",
       "      <th>Bh</th>\n",
       "      <th>Ac</th>\n",
       "      <th>Gc</th>\n",
       "      <th>RF</th>\n",
       "      <th>CF</th>\n",
       "      <th>WF</th>\n",
       "    </tr>\n",
       "  </thead>\n",
       "  <tbody>\n",
       "    <tr>\n",
       "      <th>count</th>\n",
       "      <td>4595.000000</td>\n",
       "      <td>4595.000000</td>\n",
       "      <td>4595.000000</td>\n",
       "      <td>4595.000000</td>\n",
       "      <td>4595.000000</td>\n",
       "      <td>4595.000000</td>\n",
       "      <td>4595.000000</td>\n",
       "      <td>4595.000000</td>\n",
       "      <td>4595.000000</td>\n",
       "      <td>4595.000000</td>\n",
       "      <td>4595.000000</td>\n",
       "      <td>4595.000000</td>\n",
       "      <td>4595.000000</td>\n",
       "      <td>4595.000000</td>\n",
       "      <td>4595.000000</td>\n",
       "    </tr>\n",
       "    <tr>\n",
       "      <th>mean</th>\n",
       "      <td>0.036798</td>\n",
       "      <td>0.749606</td>\n",
       "      <td>0.036471</td>\n",
       "      <td>0.745354</td>\n",
       "      <td>0.036036</td>\n",
       "      <td>0.253173</td>\n",
       "      <td>0.131701</td>\n",
       "      <td>0.017564</td>\n",
       "      <td>0.001653</td>\n",
       "      <td>0.122969</td>\n",
       "      <td>0.240463</td>\n",
       "      <td>0.159751</td>\n",
       "      <td>1.482263</td>\n",
       "      <td>1.102067</td>\n",
       "      <td>7.291404</td>\n",
       "    </tr>\n",
       "    <tr>\n",
       "      <th>std</th>\n",
       "      <td>0.148657</td>\n",
       "      <td>0.285503</td>\n",
       "      <td>0.148696</td>\n",
       "      <td>0.274826</td>\n",
       "      <td>0.148637</td>\n",
       "      <td>0.525652</td>\n",
       "      <td>0.282218</td>\n",
       "      <td>0.115523</td>\n",
       "      <td>0.009974</td>\n",
       "      <td>0.252490</td>\n",
       "      <td>0.527999</td>\n",
       "      <td>0.575314</td>\n",
       "      <td>0.499740</td>\n",
       "      <td>0.302770</td>\n",
       "      <td>1.628197</td>\n",
       "    </tr>\n",
       "    <tr>\n",
       "      <th>min</th>\n",
       "      <td>0.000000</td>\n",
       "      <td>0.380000</td>\n",
       "      <td>0.000000</td>\n",
       "      <td>0.380000</td>\n",
       "      <td>0.000000</td>\n",
       "      <td>0.000000</td>\n",
       "      <td>0.000000</td>\n",
       "      <td>-0.266330</td>\n",
       "      <td>0.000000</td>\n",
       "      <td>0.000000</td>\n",
       "      <td>-0.030000</td>\n",
       "      <td>0.000000</td>\n",
       "      <td>1.000000</td>\n",
       "      <td>1.000000</td>\n",
       "      <td>4.000000</td>\n",
       "    </tr>\n",
       "    <tr>\n",
       "      <th>25%</th>\n",
       "      <td>0.000000</td>\n",
       "      <td>0.400000</td>\n",
       "      <td>0.000000</td>\n",
       "      <td>0.400000</td>\n",
       "      <td>0.000000</td>\n",
       "      <td>0.101180</td>\n",
       "      <td>0.000000</td>\n",
       "      <td>0.000000</td>\n",
       "      <td>0.000000</td>\n",
       "      <td>0.000000</td>\n",
       "      <td>0.100000</td>\n",
       "      <td>0.000000</td>\n",
       "      <td>1.000000</td>\n",
       "      <td>1.000000</td>\n",
       "      <td>6.000000</td>\n",
       "    </tr>\n",
       "    <tr>\n",
       "      <th>50%</th>\n",
       "      <td>0.000000</td>\n",
       "      <td>1.000000</td>\n",
       "      <td>0.000000</td>\n",
       "      <td>1.000000</td>\n",
       "      <td>0.000000</td>\n",
       "      <td>0.150000</td>\n",
       "      <td>0.000000</td>\n",
       "      <td>0.000000</td>\n",
       "      <td>0.000000</td>\n",
       "      <td>0.000000</td>\n",
       "      <td>0.132000</td>\n",
       "      <td>0.000000</td>\n",
       "      <td>1.000000</td>\n",
       "      <td>1.000000</td>\n",
       "      <td>6.000000</td>\n",
       "    </tr>\n",
       "    <tr>\n",
       "      <th>75%</th>\n",
       "      <td>0.042000</td>\n",
       "      <td>1.000000</td>\n",
       "      <td>0.042000</td>\n",
       "      <td>1.000000</td>\n",
       "      <td>0.040000</td>\n",
       "      <td>0.210526</td>\n",
       "      <td>0.150000</td>\n",
       "      <td>0.000000</td>\n",
       "      <td>0.000000</td>\n",
       "      <td>0.150000</td>\n",
       "      <td>0.200000</td>\n",
       "      <td>0.177778</td>\n",
       "      <td>2.000000</td>\n",
       "      <td>1.000000</td>\n",
       "      <td>9.000000</td>\n",
       "    </tr>\n",
       "    <tr>\n",
       "      <th>max</th>\n",
       "      <td>1.250000</td>\n",
       "      <td>1.000000</td>\n",
       "      <td>1.250000</td>\n",
       "      <td>1.000000</td>\n",
       "      <td>1.250000</td>\n",
       "      <td>4.492858</td>\n",
       "      <td>2.000000</td>\n",
       "      <td>1.090000</td>\n",
       "      <td>0.089655</td>\n",
       "      <td>2.000000</td>\n",
       "      <td>4.492858</td>\n",
       "      <td>4.800000</td>\n",
       "      <td>2.000000</td>\n",
       "      <td>2.000000</td>\n",
       "      <td>9.000000</td>\n",
       "    </tr>\n",
       "  </tbody>\n",
       "</table>\n",
       "</div>"
      ],
      "text/plain": [
       "             D50_d         gf_u        D50_u           gf            D  \\\n",
       "count  4595.000000  4595.000000  4595.000000  4595.000000  4595.000000   \n",
       "mean      0.036798     0.749606     0.036471     0.745354     0.036036   \n",
       "std       0.148657     0.285503     0.148696     0.274826     0.148637   \n",
       "min       0.000000     0.380000     0.000000     0.380000     0.000000   \n",
       "25%       0.000000     0.400000     0.000000     0.400000     0.000000   \n",
       "50%       0.000000     1.000000     0.000000     1.000000     0.000000   \n",
       "75%       0.042000     1.000000     0.042000     1.000000     0.040000   \n",
       "max       1.250000     1.000000     1.250000     1.000000     1.250000   \n",
       "\n",
       "                Rc            B           hb        tanαB           Bh  \\\n",
       "count  4595.000000  4595.000000  4595.000000  4595.000000  4595.000000   \n",
       "mean      0.253173     0.131701     0.017564     0.001653     0.122969   \n",
       "std       0.525652     0.282218     0.115523     0.009974     0.252490   \n",
       "min       0.000000     0.000000    -0.266330     0.000000     0.000000   \n",
       "25%       0.101180     0.000000     0.000000     0.000000     0.000000   \n",
       "50%       0.150000     0.000000     0.000000     0.000000     0.000000   \n",
       "75%       0.210526     0.150000     0.000000     0.000000     0.150000   \n",
       "max       4.492858     2.000000     1.090000     0.089655     2.000000   \n",
       "\n",
       "                Ac           Gc           RF           CF           WF  \n",
       "count  4595.000000  4595.000000  4595.000000  4595.000000  4595.000000  \n",
       "mean      0.240463     0.159751     1.482263     1.102067     7.291404  \n",
       "std       0.527999     0.575314     0.499740     0.302770     1.628197  \n",
       "min      -0.030000     0.000000     1.000000     1.000000     4.000000  \n",
       "25%       0.100000     0.000000     1.000000     1.000000     6.000000  \n",
       "50%       0.132000     0.000000     1.000000     1.000000     6.000000  \n",
       "75%       0.200000     0.177778     2.000000     1.000000     9.000000  \n",
       "max       4.492858     4.800000     2.000000     2.000000     9.000000  "
      ]
     },
     "execution_count": 11,
     "metadata": {},
     "output_type": "execute_result"
    }
   ],
   "source": [
    "data[features[20:]].describe()"
   ]
  },
  {
   "cell_type": "code",
   "execution_count": 12,
   "id": "95c7595e-c923-40ea-aa60-6cc06c6e7bc4",
   "metadata": {},
   "outputs": [
    {
     "data": {
      "text/plain": [
       "count    4595.000000\n",
       "mean        0.000984\n",
       "std         0.007024\n",
       "min         0.000001\n",
       "25%         0.000011\n",
       "50%         0.000053\n",
       "75%         0.000297\n",
       "max         0.162000\n",
       "Name: q, dtype: float64"
      ]
     },
     "execution_count": 12,
     "metadata": {},
     "output_type": "execute_result"
    }
   ],
   "source": [
    "data[target].describe()"
   ]
  },
  {
   "cell_type": "markdown",
   "id": "868f0703-9ff2-42c6-a127-6f02e41a039e",
   "metadata": {
    "tags": []
   },
   "source": [
    "## Model Trial 1"
   ]
  },
  {
   "cell_type": "code",
   "execution_count": 13,
   "id": "af21bd61-b90e-4fdf-b54e-be8a34ace9c5",
   "metadata": {},
   "outputs": [],
   "source": [
    "import xgboost as xgb\n",
    "from sklearn.metrics import mean_squared_error, mean_absolute_percentage_error\n",
    "import pandas as pd\n",
    "import numpy as np\n",
    "import sklearn"
   ]
  },
  {
   "cell_type": "code",
   "execution_count": 14,
   "id": "b2242048-1f09-4405-b187-b3d47d6970be",
   "metadata": {},
   "outputs": [],
   "source": [
    "X_train = data.iloc[ : , : -1]\n",
    "y_train = data.iloc[ : , -1]"
   ]
  },
  {
   "cell_type": "code",
   "execution_count": 15,
   "id": "fce25e20-32b6-4eea-8da6-86ca6dd23edb",
   "metadata": {},
   "outputs": [
    {
     "data": {
      "text/html": [
       "<div>\n",
       "<style scoped>\n",
       "    .dataframe tbody tr th:only-of-type {\n",
       "        vertical-align: middle;\n",
       "    }\n",
       "\n",
       "    .dataframe tbody tr th {\n",
       "        vertical-align: top;\n",
       "    }\n",
       "\n",
       "    .dataframe thead th {\n",
       "        text-align: right;\n",
       "    }\n",
       "</style>\n",
       "<table border=\"1\" class=\"dataframe\">\n",
       "  <thead>\n",
       "    <tr style=\"text-align: right;\">\n",
       "      <th></th>\n",
       "      <th>Hm0 d</th>\n",
       "      <th>Tp d</th>\n",
       "      <th>Tm d</th>\n",
       "      <th>Tm1,0 d</th>\n",
       "      <th>hdeep</th>\n",
       "      <th>mmm</th>\n",
       "      <th>β</th>\n",
       "      <th>Spread s</th>\n",
       "      <th>h</th>\n",
       "      <th>Hm0 toe</th>\n",
       "      <th>...</th>\n",
       "      <th>Rc</th>\n",
       "      <th>B</th>\n",
       "      <th>hb</th>\n",
       "      <th>tanαB</th>\n",
       "      <th>Bh</th>\n",
       "      <th>Ac</th>\n",
       "      <th>Gc</th>\n",
       "      <th>RF</th>\n",
       "      <th>CF</th>\n",
       "      <th>WF</th>\n",
       "    </tr>\n",
       "  </thead>\n",
       "  <tbody>\n",
       "    <tr>\n",
       "      <th>0</th>\n",
       "      <td>0.936000</td>\n",
       "      <td>7.353000</td>\n",
       "      <td>6.602000</td>\n",
       "      <td>6.118000</td>\n",
       "      <td>5.01</td>\n",
       "      <td>1000.0</td>\n",
       "      <td>0</td>\n",
       "      <td>0</td>\n",
       "      <td>5.010000</td>\n",
       "      <td>0.936000</td>\n",
       "      <td>...</td>\n",
       "      <td>0.990000</td>\n",
       "      <td>0.000000</td>\n",
       "      <td>0.00</td>\n",
       "      <td>0.0</td>\n",
       "      <td>0.000000</td>\n",
       "      <td>0.990000</td>\n",
       "      <td>0.00</td>\n",
       "      <td>1</td>\n",
       "      <td>1</td>\n",
       "      <td>9</td>\n",
       "    </tr>\n",
       "    <tr>\n",
       "      <th>1</th>\n",
       "      <td>1.006000</td>\n",
       "      <td>4.825000</td>\n",
       "      <td>5.201000</td>\n",
       "      <td>4.674000</td>\n",
       "      <td>5.01</td>\n",
       "      <td>1000.0</td>\n",
       "      <td>0</td>\n",
       "      <td>0</td>\n",
       "      <td>5.010000</td>\n",
       "      <td>1.006000</td>\n",
       "      <td>...</td>\n",
       "      <td>0.990000</td>\n",
       "      <td>0.000000</td>\n",
       "      <td>0.00</td>\n",
       "      <td>0.0</td>\n",
       "      <td>0.000000</td>\n",
       "      <td>0.990000</td>\n",
       "      <td>0.00</td>\n",
       "      <td>1</td>\n",
       "      <td>1</td>\n",
       "      <td>9</td>\n",
       "    </tr>\n",
       "    <tr>\n",
       "      <th>2</th>\n",
       "      <td>0.179000</td>\n",
       "      <td>1.451000</td>\n",
       "      <td>1.459000</td>\n",
       "      <td>1.457000</td>\n",
       "      <td>0.80</td>\n",
       "      <td>1000.0</td>\n",
       "      <td>0</td>\n",
       "      <td>0</td>\n",
       "      <td>0.800000</td>\n",
       "      <td>0.179000</td>\n",
       "      <td>...</td>\n",
       "      <td>0.000000</td>\n",
       "      <td>0.000000</td>\n",
       "      <td>0.00</td>\n",
       "      <td>0.0</td>\n",
       "      <td>0.000000</td>\n",
       "      <td>0.000000</td>\n",
       "      <td>0.00</td>\n",
       "      <td>1</td>\n",
       "      <td>1</td>\n",
       "      <td>9</td>\n",
       "    </tr>\n",
       "    <tr>\n",
       "      <th>3</th>\n",
       "      <td>0.749000</td>\n",
       "      <td>7.426000</td>\n",
       "      <td>7.093000</td>\n",
       "      <td>6.172000</td>\n",
       "      <td>5.01</td>\n",
       "      <td>1000.0</td>\n",
       "      <td>0</td>\n",
       "      <td>0</td>\n",
       "      <td>5.010000</td>\n",
       "      <td>0.749000</td>\n",
       "      <td>...</td>\n",
       "      <td>0.990000</td>\n",
       "      <td>0.000000</td>\n",
       "      <td>0.00</td>\n",
       "      <td>0.0</td>\n",
       "      <td>0.000000</td>\n",
       "      <td>0.990000</td>\n",
       "      <td>0.00</td>\n",
       "      <td>1</td>\n",
       "      <td>1</td>\n",
       "      <td>9</td>\n",
       "    </tr>\n",
       "    <tr>\n",
       "      <th>4</th>\n",
       "      <td>0.242000</td>\n",
       "      <td>2.066127</td>\n",
       "      <td>1.721772</td>\n",
       "      <td>1.878297</td>\n",
       "      <td>0.80</td>\n",
       "      <td>50.0</td>\n",
       "      <td>0</td>\n",
       "      <td>0</td>\n",
       "      <td>0.400000</td>\n",
       "      <td>0.196350</td>\n",
       "      <td>...</td>\n",
       "      <td>0.100000</td>\n",
       "      <td>0.000000</td>\n",
       "      <td>0.00</td>\n",
       "      <td>0.0</td>\n",
       "      <td>0.000000</td>\n",
       "      <td>0.100000</td>\n",
       "      <td>0.00</td>\n",
       "      <td>1</td>\n",
       "      <td>1</td>\n",
       "      <td>9</td>\n",
       "    </tr>\n",
       "    <tr>\n",
       "      <th>...</th>\n",
       "      <td>...</td>\n",
       "      <td>...</td>\n",
       "      <td>...</td>\n",
       "      <td>...</td>\n",
       "      <td>...</td>\n",
       "      <td>...</td>\n",
       "      <td>...</td>\n",
       "      <td>...</td>\n",
       "      <td>...</td>\n",
       "      <td>...</td>\n",
       "      <td>...</td>\n",
       "      <td>...</td>\n",
       "      <td>...</td>\n",
       "      <td>...</td>\n",
       "      <td>...</td>\n",
       "      <td>...</td>\n",
       "      <td>...</td>\n",
       "      <td>...</td>\n",
       "      <td>...</td>\n",
       "      <td>...</td>\n",
       "      <td>...</td>\n",
       "    </tr>\n",
       "    <tr>\n",
       "      <th>4590</th>\n",
       "      <td>3.700000</td>\n",
       "      <td>9.200000</td>\n",
       "      <td>7.666670</td>\n",
       "      <td>8.363640</td>\n",
       "      <td>100.00</td>\n",
       "      <td>65.0</td>\n",
       "      <td>10</td>\n",
       "      <td>0</td>\n",
       "      <td>4.220589</td>\n",
       "      <td>2.258360</td>\n",
       "      <td>...</td>\n",
       "      <td>4.277825</td>\n",
       "      <td>0.000000</td>\n",
       "      <td>0.00</td>\n",
       "      <td>0.0</td>\n",
       "      <td>0.000000</td>\n",
       "      <td>4.277825</td>\n",
       "      <td>4.80</td>\n",
       "      <td>2</td>\n",
       "      <td>1</td>\n",
       "      <td>6</td>\n",
       "    </tr>\n",
       "    <tr>\n",
       "      <th>4591</th>\n",
       "      <td>0.135167</td>\n",
       "      <td>1.652589</td>\n",
       "      <td>1.377158</td>\n",
       "      <td>1.502354</td>\n",
       "      <td>0.70</td>\n",
       "      <td>1000.0</td>\n",
       "      <td>0</td>\n",
       "      <td>0</td>\n",
       "      <td>0.700000</td>\n",
       "      <td>0.135167</td>\n",
       "      <td>...</td>\n",
       "      <td>0.350000</td>\n",
       "      <td>0.166667</td>\n",
       "      <td>0.15</td>\n",
       "      <td>0.0</td>\n",
       "      <td>0.166667</td>\n",
       "      <td>0.350000</td>\n",
       "      <td>0.00</td>\n",
       "      <td>2</td>\n",
       "      <td>1</td>\n",
       "      <td>6</td>\n",
       "    </tr>\n",
       "    <tr>\n",
       "      <th>4592</th>\n",
       "      <td>0.135167</td>\n",
       "      <td>1.652589</td>\n",
       "      <td>1.311579</td>\n",
       "      <td>1.594618</td>\n",
       "      <td>0.70</td>\n",
       "      <td>1000.0</td>\n",
       "      <td>0</td>\n",
       "      <td>0</td>\n",
       "      <td>0.700000</td>\n",
       "      <td>0.135167</td>\n",
       "      <td>...</td>\n",
       "      <td>0.350000</td>\n",
       "      <td>0.166667</td>\n",
       "      <td>0.15</td>\n",
       "      <td>0.0</td>\n",
       "      <td>0.166667</td>\n",
       "      <td>0.350000</td>\n",
       "      <td>0.00</td>\n",
       "      <td>2</td>\n",
       "      <td>1</td>\n",
       "      <td>6</td>\n",
       "    </tr>\n",
       "    <tr>\n",
       "      <th>4593</th>\n",
       "      <td>0.077667</td>\n",
       "      <td>1.196576</td>\n",
       "      <td>0.949663</td>\n",
       "      <td>1.146769</td>\n",
       "      <td>0.70</td>\n",
       "      <td>1000.0</td>\n",
       "      <td>0</td>\n",
       "      <td>0</td>\n",
       "      <td>0.700000</td>\n",
       "      <td>0.077667</td>\n",
       "      <td>...</td>\n",
       "      <td>0.180000</td>\n",
       "      <td>1.000000</td>\n",
       "      <td>0.15</td>\n",
       "      <td>0.0</td>\n",
       "      <td>1.000000</td>\n",
       "      <td>0.180000</td>\n",
       "      <td>0.00</td>\n",
       "      <td>2</td>\n",
       "      <td>1</td>\n",
       "      <td>6</td>\n",
       "    </tr>\n",
       "    <tr>\n",
       "      <th>4594</th>\n",
       "      <td>0.152000</td>\n",
       "      <td>1.652000</td>\n",
       "      <td>1.484000</td>\n",
       "      <td>1.571000</td>\n",
       "      <td>0.94</td>\n",
       "      <td>20.0</td>\n",
       "      <td>0</td>\n",
       "      <td>0</td>\n",
       "      <td>0.370000</td>\n",
       "      <td>0.128100</td>\n",
       "      <td>...</td>\n",
       "      <td>0.170000</td>\n",
       "      <td>0.500000</td>\n",
       "      <td>0.04</td>\n",
       "      <td>0.0</td>\n",
       "      <td>0.500000</td>\n",
       "      <td>0.170000</td>\n",
       "      <td>0.31</td>\n",
       "      <td>2</td>\n",
       "      <td>1</td>\n",
       "      <td>6</td>\n",
       "    </tr>\n",
       "  </tbody>\n",
       "</table>\n",
       "<p>4595 rows × 35 columns</p>\n",
       "</div>"
      ],
      "text/plain": [
       "         Hm0 d      Tp d      Tm d   Tm1,0 d   hdeep     mmm   β  Spread s  \\\n",
       "0     0.936000  7.353000  6.602000  6.118000    5.01  1000.0   0         0   \n",
       "1     1.006000  4.825000  5.201000  4.674000    5.01  1000.0   0         0   \n",
       "2     0.179000  1.451000  1.459000  1.457000    0.80  1000.0   0         0   \n",
       "3     0.749000  7.426000  7.093000  6.172000    5.01  1000.0   0         0   \n",
       "4     0.242000  2.066127  1.721772  1.878297    0.80    50.0   0         0   \n",
       "...        ...       ...       ...       ...     ...     ...  ..       ...   \n",
       "4590  3.700000  9.200000  7.666670  8.363640  100.00    65.0  10         0   \n",
       "4591  0.135167  1.652589  1.377158  1.502354    0.70  1000.0   0         0   \n",
       "4592  0.135167  1.652589  1.311579  1.594618    0.70  1000.0   0         0   \n",
       "4593  0.077667  1.196576  0.949663  1.146769    0.70  1000.0   0         0   \n",
       "4594  0.152000  1.652000  1.484000  1.571000    0.94    20.0   0         0   \n",
       "\n",
       "             h   Hm0 toe  ...        Rc         B    hb  tanαB        Bh  \\\n",
       "0     5.010000  0.936000  ...  0.990000  0.000000  0.00    0.0  0.000000   \n",
       "1     5.010000  1.006000  ...  0.990000  0.000000  0.00    0.0  0.000000   \n",
       "2     0.800000  0.179000  ...  0.000000  0.000000  0.00    0.0  0.000000   \n",
       "3     5.010000  0.749000  ...  0.990000  0.000000  0.00    0.0  0.000000   \n",
       "4     0.400000  0.196350  ...  0.100000  0.000000  0.00    0.0  0.000000   \n",
       "...        ...       ...  ...       ...       ...   ...    ...       ...   \n",
       "4590  4.220589  2.258360  ...  4.277825  0.000000  0.00    0.0  0.000000   \n",
       "4591  0.700000  0.135167  ...  0.350000  0.166667  0.15    0.0  0.166667   \n",
       "4592  0.700000  0.135167  ...  0.350000  0.166667  0.15    0.0  0.166667   \n",
       "4593  0.700000  0.077667  ...  0.180000  1.000000  0.15    0.0  1.000000   \n",
       "4594  0.370000  0.128100  ...  0.170000  0.500000  0.04    0.0  0.500000   \n",
       "\n",
       "            Ac    Gc  RF  CF  WF  \n",
       "0     0.990000  0.00   1   1   9  \n",
       "1     0.990000  0.00   1   1   9  \n",
       "2     0.000000  0.00   1   1   9  \n",
       "3     0.990000  0.00   1   1   9  \n",
       "4     0.100000  0.00   1   1   9  \n",
       "...        ...   ...  ..  ..  ..  \n",
       "4590  4.277825  4.80   2   1   6  \n",
       "4591  0.350000  0.00   2   1   6  \n",
       "4592  0.350000  0.00   2   1   6  \n",
       "4593  0.180000  0.00   2   1   6  \n",
       "4594  0.170000  0.31   2   1   6  \n",
       "\n",
       "[4595 rows x 35 columns]"
      ]
     },
     "execution_count": 15,
     "metadata": {},
     "output_type": "execute_result"
    }
   ],
   "source": [
    "X_train"
   ]
  },
  {
   "cell_type": "code",
   "execution_count": 16,
   "id": "52293614-4da9-463d-a64d-ca9947888547",
   "metadata": {},
   "outputs": [
    {
     "data": {
      "text/plain": [
       "0       0.025600\n",
       "1       0.017500\n",
       "2       0.016000\n",
       "3       0.012300\n",
       "4       0.010300\n",
       "          ...   \n",
       "4590    0.000015\n",
       "4591    0.000015\n",
       "4592    0.000015\n",
       "4593    0.000015\n",
       "4594    0.000015\n",
       "Name: q, Length: 4595, dtype: float64"
      ]
     },
     "execution_count": 16,
     "metadata": {},
     "output_type": "execute_result"
    }
   ],
   "source": [
    "y_train"
   ]
  },
  {
   "cell_type": "code",
   "execution_count": 17,
   "id": "c9795cea-34a7-49d3-b9dc-978987d0e755",
   "metadata": {},
   "outputs": [],
   "source": [
    "data_dmatrix = xgb.DMatrix(data=X_train, label=y_train)"
   ]
  },
  {
   "cell_type": "code",
   "execution_count": 18,
   "id": "1bc86273-54b6-4f87-897f-aa972cf790bf",
   "metadata": {},
   "outputs": [],
   "source": [
    "testing_data = pd.read_excel('testing data filtered.xlsx', index_col=False)"
   ]
  },
  {
   "cell_type": "code",
   "execution_count": 19,
   "id": "9862505e-bb66-4b94-83f9-e201f22ce980",
   "metadata": {},
   "outputs": [],
   "source": [
    "X_test = testing_data.iloc[ : , : -1]\n",
    "y_test = testing_data.iloc[ : , -1]"
   ]
  },
  {
   "cell_type": "code",
   "execution_count": 20,
   "id": "5bd13c82-d7c3-4403-b151-513311702410",
   "metadata": {},
   "outputs": [
    {
     "data": {
      "text/html": [
       "<div>\n",
       "<style scoped>\n",
       "    .dataframe tbody tr th:only-of-type {\n",
       "        vertical-align: middle;\n",
       "    }\n",
       "\n",
       "    .dataframe tbody tr th {\n",
       "        vertical-align: top;\n",
       "    }\n",
       "\n",
       "    .dataframe thead th {\n",
       "        text-align: right;\n",
       "    }\n",
       "</style>\n",
       "<table border=\"1\" class=\"dataframe\">\n",
       "  <thead>\n",
       "    <tr style=\"text-align: right;\">\n",
       "      <th></th>\n",
       "      <th>Hm0 d</th>\n",
       "      <th>Tp d</th>\n",
       "      <th>Tm d</th>\n",
       "      <th>Tm1,0 d</th>\n",
       "      <th>hdeep</th>\n",
       "      <th>mmm</th>\n",
       "      <th>β</th>\n",
       "      <th>Spread s</th>\n",
       "      <th>h</th>\n",
       "      <th>Hm0 toe</th>\n",
       "      <th>...</th>\n",
       "      <th>Rc</th>\n",
       "      <th>B</th>\n",
       "      <th>hb</th>\n",
       "      <th>tanαB</th>\n",
       "      <th>Bh</th>\n",
       "      <th>Ac</th>\n",
       "      <th>Gc</th>\n",
       "      <th>RF</th>\n",
       "      <th>CF</th>\n",
       "      <th>WF</th>\n",
       "    </tr>\n",
       "  </thead>\n",
       "  <tbody>\n",
       "    <tr>\n",
       "      <th>0</th>\n",
       "      <td>0.155900</td>\n",
       "      <td>1.552000</td>\n",
       "      <td>1.343000</td>\n",
       "      <td>1.424000</td>\n",
       "      <td>0.940000</td>\n",
       "      <td>20.0</td>\n",
       "      <td>0</td>\n",
       "      <td>0</td>\n",
       "      <td>0.370000</td>\n",
       "      <td>0.129600</td>\n",
       "      <td>...</td>\n",
       "      <td>0.170000</td>\n",
       "      <td>0.30</td>\n",
       "      <td>0.040000</td>\n",
       "      <td>0.0</td>\n",
       "      <td>0.30</td>\n",
       "      <td>0.170000</td>\n",
       "      <td>0.310</td>\n",
       "      <td>2</td>\n",
       "      <td>1</td>\n",
       "      <td>6</td>\n",
       "    </tr>\n",
       "    <tr>\n",
       "      <th>1</th>\n",
       "      <td>0.168000</td>\n",
       "      <td>1.621149</td>\n",
       "      <td>1.350958</td>\n",
       "      <td>1.473772</td>\n",
       "      <td>0.690000</td>\n",
       "      <td>1000.0</td>\n",
       "      <td>0</td>\n",
       "      <td>0</td>\n",
       "      <td>0.690000</td>\n",
       "      <td>0.168000</td>\n",
       "      <td>...</td>\n",
       "      <td>0.255000</td>\n",
       "      <td>0.00</td>\n",
       "      <td>0.000000</td>\n",
       "      <td>0.0</td>\n",
       "      <td>0.00</td>\n",
       "      <td>0.075000</td>\n",
       "      <td>0.178</td>\n",
       "      <td>2</td>\n",
       "      <td>1</td>\n",
       "      <td>6</td>\n",
       "    </tr>\n",
       "    <tr>\n",
       "      <th>2</th>\n",
       "      <td>0.062000</td>\n",
       "      <td>1.251130</td>\n",
       "      <td>1.042609</td>\n",
       "      <td>1.137391</td>\n",
       "      <td>0.700000</td>\n",
       "      <td>50.0</td>\n",
       "      <td>0</td>\n",
       "      <td>0</td>\n",
       "      <td>0.300000</td>\n",
       "      <td>0.058800</td>\n",
       "      <td>...</td>\n",
       "      <td>0.176000</td>\n",
       "      <td>0.00</td>\n",
       "      <td>0.000000</td>\n",
       "      <td>0.0</td>\n",
       "      <td>0.00</td>\n",
       "      <td>0.176000</td>\n",
       "      <td>0.000</td>\n",
       "      <td>2</td>\n",
       "      <td>1</td>\n",
       "      <td>6</td>\n",
       "    </tr>\n",
       "    <tr>\n",
       "      <th>3</th>\n",
       "      <td>0.193000</td>\n",
       "      <td>1.920000</td>\n",
       "      <td>1.600000</td>\n",
       "      <td>1.745455</td>\n",
       "      <td>1.400000</td>\n",
       "      <td>52.0</td>\n",
       "      <td>0</td>\n",
       "      <td>0</td>\n",
       "      <td>0.400000</td>\n",
       "      <td>0.193000</td>\n",
       "      <td>...</td>\n",
       "      <td>0.270000</td>\n",
       "      <td>0.15</td>\n",
       "      <td>-0.155000</td>\n",
       "      <td>0.0</td>\n",
       "      <td>0.15</td>\n",
       "      <td>0.270000</td>\n",
       "      <td>0.000</td>\n",
       "      <td>2</td>\n",
       "      <td>1</td>\n",
       "      <td>6</td>\n",
       "    </tr>\n",
       "    <tr>\n",
       "      <th>4</th>\n",
       "      <td>0.122000</td>\n",
       "      <td>1.680000</td>\n",
       "      <td>1.400000</td>\n",
       "      <td>1.527273</td>\n",
       "      <td>1.500000</td>\n",
       "      <td>52.0</td>\n",
       "      <td>0</td>\n",
       "      <td>0</td>\n",
       "      <td>0.500000</td>\n",
       "      <td>0.122000</td>\n",
       "      <td>...</td>\n",
       "      <td>0.140000</td>\n",
       "      <td>0.00</td>\n",
       "      <td>0.000000</td>\n",
       "      <td>0.0</td>\n",
       "      <td>0.00</td>\n",
       "      <td>0.140000</td>\n",
       "      <td>0.150</td>\n",
       "      <td>2</td>\n",
       "      <td>1</td>\n",
       "      <td>6</td>\n",
       "    </tr>\n",
       "    <tr>\n",
       "      <th>...</th>\n",
       "      <td>...</td>\n",
       "      <td>...</td>\n",
       "      <td>...</td>\n",
       "      <td>...</td>\n",
       "      <td>...</td>\n",
       "      <td>...</td>\n",
       "      <td>...</td>\n",
       "      <td>...</td>\n",
       "      <td>...</td>\n",
       "      <td>...</td>\n",
       "      <td>...</td>\n",
       "      <td>...</td>\n",
       "      <td>...</td>\n",
       "      <td>...</td>\n",
       "      <td>...</td>\n",
       "      <td>...</td>\n",
       "      <td>...</td>\n",
       "      <td>...</td>\n",
       "      <td>...</td>\n",
       "      <td>...</td>\n",
       "      <td>...</td>\n",
       "    </tr>\n",
       "    <tr>\n",
       "      <th>1070</th>\n",
       "      <td>0.097667</td>\n",
       "      <td>1.623195</td>\n",
       "      <td>1.288250</td>\n",
       "      <td>1.592577</td>\n",
       "      <td>0.700000</td>\n",
       "      <td>1000.0</td>\n",
       "      <td>0</td>\n",
       "      <td>0</td>\n",
       "      <td>0.700000</td>\n",
       "      <td>0.097667</td>\n",
       "      <td>...</td>\n",
       "      <td>0.250000</td>\n",
       "      <td>0.50</td>\n",
       "      <td>0.066667</td>\n",
       "      <td>0.0</td>\n",
       "      <td>0.50</td>\n",
       "      <td>0.250000</td>\n",
       "      <td>0.000</td>\n",
       "      <td>2</td>\n",
       "      <td>2</td>\n",
       "      <td>4</td>\n",
       "    </tr>\n",
       "    <tr>\n",
       "      <th>1071</th>\n",
       "      <td>0.115789</td>\n",
       "      <td>1.914213</td>\n",
       "      <td>1.595177</td>\n",
       "      <td>1.740193</td>\n",
       "      <td>0.802632</td>\n",
       "      <td>1000.0</td>\n",
       "      <td>0</td>\n",
       "      <td>0</td>\n",
       "      <td>0.802632</td>\n",
       "      <td>0.115789</td>\n",
       "      <td>...</td>\n",
       "      <td>0.210526</td>\n",
       "      <td>0.00</td>\n",
       "      <td>-0.078947</td>\n",
       "      <td>0.0</td>\n",
       "      <td>0.00</td>\n",
       "      <td>0.105263</td>\n",
       "      <td>0.000</td>\n",
       "      <td>2</td>\n",
       "      <td>2</td>\n",
       "      <td>4</td>\n",
       "    </tr>\n",
       "    <tr>\n",
       "      <th>1072</th>\n",
       "      <td>0.160000</td>\n",
       "      <td>2.160000</td>\n",
       "      <td>1.800000</td>\n",
       "      <td>1.963636</td>\n",
       "      <td>0.860000</td>\n",
       "      <td>1000.0</td>\n",
       "      <td>0</td>\n",
       "      <td>0</td>\n",
       "      <td>0.860000</td>\n",
       "      <td>0.114000</td>\n",
       "      <td>...</td>\n",
       "      <td>0.300000</td>\n",
       "      <td>2.00</td>\n",
       "      <td>0.200000</td>\n",
       "      <td>0.0</td>\n",
       "      <td>2.00</td>\n",
       "      <td>0.300000</td>\n",
       "      <td>0.000</td>\n",
       "      <td>2</td>\n",
       "      <td>2</td>\n",
       "      <td>4</td>\n",
       "    </tr>\n",
       "    <tr>\n",
       "      <th>1073</th>\n",
       "      <td>0.163000</td>\n",
       "      <td>1.920000</td>\n",
       "      <td>1.600000</td>\n",
       "      <td>1.745455</td>\n",
       "      <td>1.400000</td>\n",
       "      <td>52.0</td>\n",
       "      <td>0</td>\n",
       "      <td>0</td>\n",
       "      <td>0.400000</td>\n",
       "      <td>0.163000</td>\n",
       "      <td>...</td>\n",
       "      <td>0.240000</td>\n",
       "      <td>0.15</td>\n",
       "      <td>-0.155000</td>\n",
       "      <td>0.0</td>\n",
       "      <td>0.15</td>\n",
       "      <td>0.240000</td>\n",
       "      <td>0.000</td>\n",
       "      <td>2</td>\n",
       "      <td>2</td>\n",
       "      <td>4</td>\n",
       "    </tr>\n",
       "    <tr>\n",
       "      <th>1074</th>\n",
       "      <td>0.206000</td>\n",
       "      <td>1.830000</td>\n",
       "      <td>1.525000</td>\n",
       "      <td>1.663636</td>\n",
       "      <td>0.780000</td>\n",
       "      <td>1000.0</td>\n",
       "      <td>0</td>\n",
       "      <td>0</td>\n",
       "      <td>0.780000</td>\n",
       "      <td>0.092000</td>\n",
       "      <td>...</td>\n",
       "      <td>0.200000</td>\n",
       "      <td>2.00</td>\n",
       "      <td>0.120000</td>\n",
       "      <td>0.0</td>\n",
       "      <td>2.00</td>\n",
       "      <td>0.200000</td>\n",
       "      <td>0.000</td>\n",
       "      <td>2</td>\n",
       "      <td>2</td>\n",
       "      <td>4</td>\n",
       "    </tr>\n",
       "  </tbody>\n",
       "</table>\n",
       "<p>1075 rows × 35 columns</p>\n",
       "</div>"
      ],
      "text/plain": [
       "         Hm0 d      Tp d      Tm d   Tm1,0 d     hdeep     mmm  β  Spread s  \\\n",
       "0     0.155900  1.552000  1.343000  1.424000  0.940000    20.0  0         0   \n",
       "1     0.168000  1.621149  1.350958  1.473772  0.690000  1000.0  0         0   \n",
       "2     0.062000  1.251130  1.042609  1.137391  0.700000    50.0  0         0   \n",
       "3     0.193000  1.920000  1.600000  1.745455  1.400000    52.0  0         0   \n",
       "4     0.122000  1.680000  1.400000  1.527273  1.500000    52.0  0         0   \n",
       "...        ...       ...       ...       ...       ...     ... ..       ...   \n",
       "1070  0.097667  1.623195  1.288250  1.592577  0.700000  1000.0  0         0   \n",
       "1071  0.115789  1.914213  1.595177  1.740193  0.802632  1000.0  0         0   \n",
       "1072  0.160000  2.160000  1.800000  1.963636  0.860000  1000.0  0         0   \n",
       "1073  0.163000  1.920000  1.600000  1.745455  1.400000    52.0  0         0   \n",
       "1074  0.206000  1.830000  1.525000  1.663636  0.780000  1000.0  0         0   \n",
       "\n",
       "             h   Hm0 toe  ...        Rc     B        hb  tanαB    Bh  \\\n",
       "0     0.370000  0.129600  ...  0.170000  0.30  0.040000    0.0  0.30   \n",
       "1     0.690000  0.168000  ...  0.255000  0.00  0.000000    0.0  0.00   \n",
       "2     0.300000  0.058800  ...  0.176000  0.00  0.000000    0.0  0.00   \n",
       "3     0.400000  0.193000  ...  0.270000  0.15 -0.155000    0.0  0.15   \n",
       "4     0.500000  0.122000  ...  0.140000  0.00  0.000000    0.0  0.00   \n",
       "...        ...       ...  ...       ...   ...       ...    ...   ...   \n",
       "1070  0.700000  0.097667  ...  0.250000  0.50  0.066667    0.0  0.50   \n",
       "1071  0.802632  0.115789  ...  0.210526  0.00 -0.078947    0.0  0.00   \n",
       "1072  0.860000  0.114000  ...  0.300000  2.00  0.200000    0.0  2.00   \n",
       "1073  0.400000  0.163000  ...  0.240000  0.15 -0.155000    0.0  0.15   \n",
       "1074  0.780000  0.092000  ...  0.200000  2.00  0.120000    0.0  2.00   \n",
       "\n",
       "            Ac     Gc  RF  CF  WF  \n",
       "0     0.170000  0.310   2   1   6  \n",
       "1     0.075000  0.178   2   1   6  \n",
       "2     0.176000  0.000   2   1   6  \n",
       "3     0.270000  0.000   2   1   6  \n",
       "4     0.140000  0.150   2   1   6  \n",
       "...        ...    ...  ..  ..  ..  \n",
       "1070  0.250000  0.000   2   2   4  \n",
       "1071  0.105263  0.000   2   2   4  \n",
       "1072  0.300000  0.000   2   2   4  \n",
       "1073  0.240000  0.000   2   2   4  \n",
       "1074  0.200000  0.000   2   2   4  \n",
       "\n",
       "[1075 rows x 35 columns]"
      ]
     },
     "execution_count": 20,
     "metadata": {},
     "output_type": "execute_result"
    }
   ],
   "source": [
    "X_test"
   ]
  },
  {
   "cell_type": "code",
   "execution_count": 21,
   "id": "28689972-8dbe-4c0b-a709-9a822f7905e5",
   "metadata": {},
   "outputs": [
    {
     "data": {
      "text/plain": [
       "0       0.000015\n",
       "1       0.000015\n",
       "2       0.000015\n",
       "3       0.000015\n",
       "4       0.000015\n",
       "          ...   \n",
       "1070    0.000002\n",
       "1071    0.000002\n",
       "1072    0.000001\n",
       "1073    0.000001\n",
       "1074    0.000001\n",
       "Name: q, Length: 1075, dtype: float64"
      ]
     },
     "execution_count": 21,
     "metadata": {},
     "output_type": "execute_result"
    }
   ],
   "source": [
    "y_test"
   ]
  },
  {
   "cell_type": "code",
   "execution_count": 22,
   "id": "320f769b-e969-41f3-9064-1006fc7008a7",
   "metadata": {},
   "outputs": [],
   "source": [
    "xg_reg = xgb.XGBRegressor(\n",
    "    objective ='reg:squarederror', \n",
    "    colsample_bytree = 0.3, \n",
    "    learning_rate = 0.1,\n",
    "    max_depth = 5, \n",
    "    alpha = 10, \n",
    "    n_estimators = 10\n",
    ")"
   ]
  },
  {
   "cell_type": "code",
   "execution_count": 23,
   "id": "ea370bb7-b2a7-4f43-88dd-2d42314db173",
   "metadata": {},
   "outputs": [
    {
     "data": {
      "text/html": [
       "<style>#sk-container-id-1 {color: black;background-color: white;}#sk-container-id-1 pre{padding: 0;}#sk-container-id-1 div.sk-toggleable {background-color: white;}#sk-container-id-1 label.sk-toggleable__label {cursor: pointer;display: block;width: 100%;margin-bottom: 0;padding: 0.3em;box-sizing: border-box;text-align: center;}#sk-container-id-1 label.sk-toggleable__label-arrow:before {content: \"▸\";float: left;margin-right: 0.25em;color: #696969;}#sk-container-id-1 label.sk-toggleable__label-arrow:hover:before {color: black;}#sk-container-id-1 div.sk-estimator:hover label.sk-toggleable__label-arrow:before {color: black;}#sk-container-id-1 div.sk-toggleable__content {max-height: 0;max-width: 0;overflow: hidden;text-align: left;background-color: #f0f8ff;}#sk-container-id-1 div.sk-toggleable__content pre {margin: 0.2em;color: black;border-radius: 0.25em;background-color: #f0f8ff;}#sk-container-id-1 input.sk-toggleable__control:checked~div.sk-toggleable__content {max-height: 200px;max-width: 100%;overflow: auto;}#sk-container-id-1 input.sk-toggleable__control:checked~label.sk-toggleable__label-arrow:before {content: \"▾\";}#sk-container-id-1 div.sk-estimator input.sk-toggleable__control:checked~label.sk-toggleable__label {background-color: #d4ebff;}#sk-container-id-1 div.sk-label input.sk-toggleable__control:checked~label.sk-toggleable__label {background-color: #d4ebff;}#sk-container-id-1 input.sk-hidden--visually {border: 0;clip: rect(1px 1px 1px 1px);clip: rect(1px, 1px, 1px, 1px);height: 1px;margin: -1px;overflow: hidden;padding: 0;position: absolute;width: 1px;}#sk-container-id-1 div.sk-estimator {font-family: monospace;background-color: #f0f8ff;border: 1px dotted black;border-radius: 0.25em;box-sizing: border-box;margin-bottom: 0.5em;}#sk-container-id-1 div.sk-estimator:hover {background-color: #d4ebff;}#sk-container-id-1 div.sk-parallel-item::after {content: \"\";width: 100%;border-bottom: 1px solid gray;flex-grow: 1;}#sk-container-id-1 div.sk-label:hover label.sk-toggleable__label {background-color: #d4ebff;}#sk-container-id-1 div.sk-serial::before {content: \"\";position: absolute;border-left: 1px solid gray;box-sizing: border-box;top: 0;bottom: 0;left: 50%;z-index: 0;}#sk-container-id-1 div.sk-serial {display: flex;flex-direction: column;align-items: center;background-color: white;padding-right: 0.2em;padding-left: 0.2em;position: relative;}#sk-container-id-1 div.sk-item {position: relative;z-index: 1;}#sk-container-id-1 div.sk-parallel {display: flex;align-items: stretch;justify-content: center;background-color: white;position: relative;}#sk-container-id-1 div.sk-item::before, #sk-container-id-1 div.sk-parallel-item::before {content: \"\";position: absolute;border-left: 1px solid gray;box-sizing: border-box;top: 0;bottom: 0;left: 50%;z-index: -1;}#sk-container-id-1 div.sk-parallel-item {display: flex;flex-direction: column;z-index: 1;position: relative;background-color: white;}#sk-container-id-1 div.sk-parallel-item:first-child::after {align-self: flex-end;width: 50%;}#sk-container-id-1 div.sk-parallel-item:last-child::after {align-self: flex-start;width: 50%;}#sk-container-id-1 div.sk-parallel-item:only-child::after {width: 0;}#sk-container-id-1 div.sk-dashed-wrapped {border: 1px dashed gray;margin: 0 0.4em 0.5em 0.4em;box-sizing: border-box;padding-bottom: 0.4em;background-color: white;}#sk-container-id-1 div.sk-label label {font-family: monospace;font-weight: bold;display: inline-block;line-height: 1.2em;}#sk-container-id-1 div.sk-label-container {text-align: center;}#sk-container-id-1 div.sk-container {/* jupyter's `normalize.less` sets `[hidden] { display: none; }` but bootstrap.min.css set `[hidden] { display: none !important; }` so we also need the `!important` here to be able to override the default hidden behavior on the sphinx rendered scikit-learn.org. See: https://github.com/scikit-learn/scikit-learn/issues/21755 */display: inline-block !important;position: relative;}#sk-container-id-1 div.sk-text-repr-fallback {display: none;}</style><div id=\"sk-container-id-1\" class=\"sk-top-container\"><div class=\"sk-text-repr-fallback\"><pre>XGBRegressor(alpha=10, base_score=None, booster=None, callbacks=None,\n",
       "             colsample_bylevel=None, colsample_bynode=None,\n",
       "             colsample_bytree=0.3, early_stopping_rounds=None,\n",
       "             enable_categorical=False, eval_metric=None, feature_types=None,\n",
       "             gamma=None, gpu_id=None, grow_policy=None, importance_type=None,\n",
       "             interaction_constraints=None, learning_rate=0.1, max_bin=None,\n",
       "             max_cat_threshold=None, max_cat_to_onehot=None,\n",
       "             max_delta_step=None, max_depth=5, max_leaves=None,\n",
       "             min_child_weight=None, missing=nan, monotone_constraints=None,\n",
       "             n_estimators=10, n_jobs=None, num_parallel_tree=None,\n",
       "             predictor=None, ...)</pre><b>In a Jupyter environment, please rerun this cell to show the HTML representation or trust the notebook. <br />On GitHub, the HTML representation is unable to render, please try loading this page with nbviewer.org.</b></div><div class=\"sk-container\" hidden><div class=\"sk-item\"><div class=\"sk-estimator sk-toggleable\"><input class=\"sk-toggleable__control sk-hidden--visually\" id=\"sk-estimator-id-1\" type=\"checkbox\" checked><label for=\"sk-estimator-id-1\" class=\"sk-toggleable__label sk-toggleable__label-arrow\">XGBRegressor</label><div class=\"sk-toggleable__content\"><pre>XGBRegressor(alpha=10, base_score=None, booster=None, callbacks=None,\n",
       "             colsample_bylevel=None, colsample_bynode=None,\n",
       "             colsample_bytree=0.3, early_stopping_rounds=None,\n",
       "             enable_categorical=False, eval_metric=None, feature_types=None,\n",
       "             gamma=None, gpu_id=None, grow_policy=None, importance_type=None,\n",
       "             interaction_constraints=None, learning_rate=0.1, max_bin=None,\n",
       "             max_cat_threshold=None, max_cat_to_onehot=None,\n",
       "             max_delta_step=None, max_depth=5, max_leaves=None,\n",
       "             min_child_weight=None, missing=nan, monotone_constraints=None,\n",
       "             n_estimators=10, n_jobs=None, num_parallel_tree=None,\n",
       "             predictor=None, ...)</pre></div></div></div></div></div>"
      ],
      "text/plain": [
       "XGBRegressor(alpha=10, base_score=None, booster=None, callbacks=None,\n",
       "             colsample_bylevel=None, colsample_bynode=None,\n",
       "             colsample_bytree=0.3, early_stopping_rounds=None,\n",
       "             enable_categorical=False, eval_metric=None, feature_types=None,\n",
       "             gamma=None, gpu_id=None, grow_policy=None, importance_type=None,\n",
       "             interaction_constraints=None, learning_rate=0.1, max_bin=None,\n",
       "             max_cat_threshold=None, max_cat_to_onehot=None,\n",
       "             max_delta_step=None, max_depth=5, max_leaves=None,\n",
       "             min_child_weight=None, missing=nan, monotone_constraints=None,\n",
       "             n_estimators=10, n_jobs=None, num_parallel_tree=None,\n",
       "             predictor=None, ...)"
      ]
     },
     "execution_count": 23,
     "metadata": {},
     "output_type": "execute_result"
    }
   ],
   "source": [
    "xg_reg.fit(X_train, y_train)"
   ]
  },
  {
   "cell_type": "code",
   "execution_count": 24,
   "id": "01dfd666-a0c9-424d-9cb5-4ad5fc331c2b",
   "metadata": {},
   "outputs": [],
   "source": [
    "preds = xg_reg.predict(X_test)"
   ]
  },
  {
   "cell_type": "code",
   "execution_count": 25,
   "id": "449fc456-e577-452a-b4d4-6ad73889398f",
   "metadata": {},
   "outputs": [
    {
     "data": {
      "text/plain": [
       "array([0.1765947, 0.1765947, 0.1765947, ..., 0.1765947, 0.1765947,\n",
       "       0.1765947], dtype=float32)"
      ]
     },
     "execution_count": 25,
     "metadata": {},
     "output_type": "execute_result"
    }
   ],
   "source": [
    "preds"
   ]
  },
  {
   "cell_type": "code",
   "execution_count": 26,
   "id": "33a99648-b362-4e70-a8ed-7a0b182abadb",
   "metadata": {},
   "outputs": [
    {
     "data": {
      "text/plain": [
       "0       0.000015\n",
       "1       0.000015\n",
       "2       0.000015\n",
       "3       0.000015\n",
       "4       0.000015\n",
       "          ...   \n",
       "1070    0.000002\n",
       "1071    0.000002\n",
       "1072    0.000001\n",
       "1073    0.000001\n",
       "1074    0.000001\n",
       "Name: q, Length: 1075, dtype: float64"
      ]
     },
     "execution_count": 26,
     "metadata": {},
     "output_type": "execute_result"
    }
   ],
   "source": [
    "y_test"
   ]
  },
  {
   "cell_type": "code",
   "execution_count": 27,
   "id": "f433215a-fbee-4ed0-b2a0-3c92e7a72cb4",
   "metadata": {},
   "outputs": [],
   "source": [
    "rmse = np.sqrt(mean_squared_error(y_test, preds))"
   ]
  },
  {
   "cell_type": "code",
   "execution_count": 28,
   "id": "194b7ed3-5a1a-47ab-a0ac-cad8d3715ce9",
   "metadata": {},
   "outputs": [
    {
     "data": {
      "text/plain": [
       "0.17648917405483697"
      ]
     },
     "execution_count": 28,
     "metadata": {},
     "output_type": "execute_result"
    }
   ],
   "source": [
    "rmse"
   ]
  },
  {
   "cell_type": "code",
   "execution_count": 29,
   "id": "9f375c63-3231-44a2-997c-43804ca6c974",
   "metadata": {},
   "outputs": [
    {
     "data": {
      "text/plain": [
       "count    1075.000000\n",
       "mean        0.000106\n",
       "std         0.000438\n",
       "min         0.000001\n",
       "25%         0.000003\n",
       "50%         0.000007\n",
       "75%         0.000013\n",
       "max         0.007347\n",
       "Name: q, dtype: float64"
      ]
     },
     "execution_count": 29,
     "metadata": {},
     "output_type": "execute_result"
    }
   ],
   "source": [
    "y_test.describe()"
   ]
  },
  {
   "cell_type": "code",
   "execution_count": 30,
   "id": "6e4456b6-7477-4059-a8f9-6ec9c7d1306f",
   "metadata": {},
   "outputs": [],
   "source": [
    "preds_df = pd.DataFrame(preds)"
   ]
  },
  {
   "cell_type": "code",
   "execution_count": 31,
   "id": "8e57afc8-ff36-4cce-b1cb-a0cea8d21a30",
   "metadata": {},
   "outputs": [
    {
     "data": {
      "text/html": [
       "<div>\n",
       "<style scoped>\n",
       "    .dataframe tbody tr th:only-of-type {\n",
       "        vertical-align: middle;\n",
       "    }\n",
       "\n",
       "    .dataframe tbody tr th {\n",
       "        vertical-align: top;\n",
       "    }\n",
       "\n",
       "    .dataframe thead th {\n",
       "        text-align: right;\n",
       "    }\n",
       "</style>\n",
       "<table border=\"1\" class=\"dataframe\">\n",
       "  <thead>\n",
       "    <tr style=\"text-align: right;\">\n",
       "      <th></th>\n",
       "      <th>0</th>\n",
       "    </tr>\n",
       "  </thead>\n",
       "  <tbody>\n",
       "    <tr>\n",
       "      <th>count</th>\n",
       "      <td>1075.000000</td>\n",
       "    </tr>\n",
       "    <tr>\n",
       "      <th>mean</th>\n",
       "      <td>0.176595</td>\n",
       "    </tr>\n",
       "    <tr>\n",
       "      <th>std</th>\n",
       "      <td>0.000000</td>\n",
       "    </tr>\n",
       "    <tr>\n",
       "      <th>min</th>\n",
       "      <td>0.176595</td>\n",
       "    </tr>\n",
       "    <tr>\n",
       "      <th>25%</th>\n",
       "      <td>0.176595</td>\n",
       "    </tr>\n",
       "    <tr>\n",
       "      <th>50%</th>\n",
       "      <td>0.176595</td>\n",
       "    </tr>\n",
       "    <tr>\n",
       "      <th>75%</th>\n",
       "      <td>0.176595</td>\n",
       "    </tr>\n",
       "    <tr>\n",
       "      <th>max</th>\n",
       "      <td>0.176595</td>\n",
       "    </tr>\n",
       "  </tbody>\n",
       "</table>\n",
       "</div>"
      ],
      "text/plain": [
       "                 0\n",
       "count  1075.000000\n",
       "mean      0.176595\n",
       "std       0.000000\n",
       "min       0.176595\n",
       "25%       0.176595\n",
       "50%       0.176595\n",
       "75%       0.176595\n",
       "max       0.176595"
      ]
     },
     "execution_count": 31,
     "metadata": {},
     "output_type": "execute_result"
    }
   ],
   "source": [
    "preds_df.describe()"
   ]
  },
  {
   "cell_type": "code",
   "execution_count": 32,
   "id": "ca6bf47f-c41b-4780-a304-ed6558323d1a",
   "metadata": {},
   "outputs": [],
   "source": [
    "mape = mean_absolute_percentage_error(y_test, preds)"
   ]
  },
  {
   "cell_type": "code",
   "execution_count": 37,
   "id": "337b64b4-d3b0-4adf-a85e-92e6438068df",
   "metadata": {},
   "outputs": [],
   "source": [
    "preds_df.to_excel('preliminary_results.xlsx', index=False)"
   ]
  },
  {
   "cell_type": "code",
   "execution_count": null,
   "id": "c9c067cf-c741-4b15-9ecf-a706eaea9c85",
   "metadata": {},
   "outputs": [],
   "source": []
  },
  {
   "cell_type": "code",
   "execution_count": null,
   "id": "97b84cfb-2de4-4957-8650-9e24da8ec34f",
   "metadata": {},
   "outputs": [],
   "source": []
  },
  {
   "cell_type": "code",
   "execution_count": null,
   "id": "c0594ad4-da43-45f1-97a7-f5fa3ed184be",
   "metadata": {},
   "outputs": [],
   "source": []
  },
  {
   "cell_type": "markdown",
   "id": "badae5a1-ab60-45de-befd-9939903db14b",
   "metadata": {
    "tags": []
   },
   "source": [
    "## Model Trial 2"
   ]
  },
  {
   "cell_type": "code",
   "execution_count": 13,
   "id": "ef527e51-ad43-433d-b877-6b6e36a0c9e2",
   "metadata": {},
   "outputs": [],
   "source": [
    "import xgboost as xgb\n",
    "from sklearn.metrics import mean_squared_error, mean_absolute_percentage_error\n",
    "import pandas as pd\n",
    "import numpy as np\n",
    "import sklearn\n",
    "from sklearn.model_selection import GridSearchCV"
   ]
  },
  {
   "cell_type": "code",
   "execution_count": 14,
   "id": "b1a643ef-508c-4856-be64-165460211104",
   "metadata": {},
   "outputs": [],
   "source": [
    "X_train = data.iloc[ : , : -1]\n",
    "y_train = data.iloc[ : , -1]"
   ]
  },
  {
   "cell_type": "code",
   "execution_count": 15,
   "id": "aa7a7b24-85d1-4e26-9038-63a781679fc0",
   "metadata": {},
   "outputs": [],
   "source": [
    "testing_data = pd.read_excel('test_data2.xlsx', index_col=False)"
   ]
  },
  {
   "cell_type": "code",
   "execution_count": 16,
   "id": "18e57c0f-53b2-4bff-9af0-43b6e57e15cf",
   "metadata": {},
   "outputs": [],
   "source": [
    "X_test = testing_data.iloc[ : , : -1]\n",
    "y_test = testing_data.iloc[ : , -1]"
   ]
  },
  {
   "cell_type": "code",
   "execution_count": null,
   "id": "e8ef709e-48f9-4e78-b852-bfbee57e6733",
   "metadata": {},
   "outputs": [],
   "source": []
  },
  {
   "cell_type": "code",
   "execution_count": 17,
   "id": "d03009f4-367d-47e9-bc57-78a76f5928cb",
   "metadata": {},
   "outputs": [],
   "source": [
    "regressor = xgb.XGBRegressor()"
   ]
  },
  {
   "cell_type": "code",
   "execution_count": 18,
   "id": "bd455bb5-bcd1-4a2f-906b-296a2f505527",
   "metadata": {},
   "outputs": [],
   "source": [
    "# set up our search grid\n",
    "param_grid = {\n",
    "    \"max_depth\": [7,12],\n",
    "    \"min_child_weight\": [5,7],\n",
    "    \"learning_rate\": [0.0075, 0.01],\n",
    "    \"reg_lambda\": [3,4],\n",
    "    \"subsample\": [0.25,0.75]\n",
    "}"
   ]
  },
  {
   "cell_type": "code",
   "execution_count": 19,
   "id": "bb91bd72-6899-4fd6-9931-5ccf6ddbfae1",
   "metadata": {},
   "outputs": [],
   "source": [
    "# try out every combination of the above values\n",
    "search = GridSearchCV(regressor, param_grid, cv=5).fit(X_train, y_train)"
   ]
  },
  {
   "cell_type": "code",
   "execution_count": 20,
   "id": "0ee4533c-6559-4a95-b2cc-79bfa5c1f8f5",
   "metadata": {},
   "outputs": [
    {
     "name": "stdout",
     "output_type": "stream",
     "text": [
      "The best hyperparameters are  {'learning_rate': 0.01, 'max_depth': 7, 'min_child_weight': 7, 'reg_lambda': 3, 'subsample': 0.75}\n"
     ]
    }
   ],
   "source": [
    "print(\"The best hyperparameters are \", search.best_params_)"
   ]
  },
  {
   "cell_type": "code",
   "execution_count": 21,
   "id": "23f661bf-8e4b-4bc4-b155-3deeb4359c15",
   "metadata": {},
   "outputs": [],
   "source": [
    "regressor = xgb.XGBRegressor(\n",
    "    learning_rate = search.best_params_[\"learning_rate\"],\n",
    "    min_child_weight  = search.best_params_[\"min_child_weight\"],\n",
    "    max_depth     = search.best_params_[\"max_depth\"],\n",
    "    reg_lambda  = search.best_params_[\"reg_lambda\"],\n",
    "    subsample     = search.best_params_[\"subsample\"]\n",
    ")"
   ]
  },
  {
   "cell_type": "code",
   "execution_count": 22,
   "id": "8f0ed623-1fa2-46d6-b54b-a201462d161e",
   "metadata": {},
   "outputs": [
    {
     "data": {
      "text/html": [
       "<style>#sk-container-id-1 {color: black;background-color: white;}#sk-container-id-1 pre{padding: 0;}#sk-container-id-1 div.sk-toggleable {background-color: white;}#sk-container-id-1 label.sk-toggleable__label {cursor: pointer;display: block;width: 100%;margin-bottom: 0;padding: 0.3em;box-sizing: border-box;text-align: center;}#sk-container-id-1 label.sk-toggleable__label-arrow:before {content: \"▸\";float: left;margin-right: 0.25em;color: #696969;}#sk-container-id-1 label.sk-toggleable__label-arrow:hover:before {color: black;}#sk-container-id-1 div.sk-estimator:hover label.sk-toggleable__label-arrow:before {color: black;}#sk-container-id-1 div.sk-toggleable__content {max-height: 0;max-width: 0;overflow: hidden;text-align: left;background-color: #f0f8ff;}#sk-container-id-1 div.sk-toggleable__content pre {margin: 0.2em;color: black;border-radius: 0.25em;background-color: #f0f8ff;}#sk-container-id-1 input.sk-toggleable__control:checked~div.sk-toggleable__content {max-height: 200px;max-width: 100%;overflow: auto;}#sk-container-id-1 input.sk-toggleable__control:checked~label.sk-toggleable__label-arrow:before {content: \"▾\";}#sk-container-id-1 div.sk-estimator input.sk-toggleable__control:checked~label.sk-toggleable__label {background-color: #d4ebff;}#sk-container-id-1 div.sk-label input.sk-toggleable__control:checked~label.sk-toggleable__label {background-color: #d4ebff;}#sk-container-id-1 input.sk-hidden--visually {border: 0;clip: rect(1px 1px 1px 1px);clip: rect(1px, 1px, 1px, 1px);height: 1px;margin: -1px;overflow: hidden;padding: 0;position: absolute;width: 1px;}#sk-container-id-1 div.sk-estimator {font-family: monospace;background-color: #f0f8ff;border: 1px dotted black;border-radius: 0.25em;box-sizing: border-box;margin-bottom: 0.5em;}#sk-container-id-1 div.sk-estimator:hover {background-color: #d4ebff;}#sk-container-id-1 div.sk-parallel-item::after {content: \"\";width: 100%;border-bottom: 1px solid gray;flex-grow: 1;}#sk-container-id-1 div.sk-label:hover label.sk-toggleable__label {background-color: #d4ebff;}#sk-container-id-1 div.sk-serial::before {content: \"\";position: absolute;border-left: 1px solid gray;box-sizing: border-box;top: 0;bottom: 0;left: 50%;z-index: 0;}#sk-container-id-1 div.sk-serial {display: flex;flex-direction: column;align-items: center;background-color: white;padding-right: 0.2em;padding-left: 0.2em;position: relative;}#sk-container-id-1 div.sk-item {position: relative;z-index: 1;}#sk-container-id-1 div.sk-parallel {display: flex;align-items: stretch;justify-content: center;background-color: white;position: relative;}#sk-container-id-1 div.sk-item::before, #sk-container-id-1 div.sk-parallel-item::before {content: \"\";position: absolute;border-left: 1px solid gray;box-sizing: border-box;top: 0;bottom: 0;left: 50%;z-index: -1;}#sk-container-id-1 div.sk-parallel-item {display: flex;flex-direction: column;z-index: 1;position: relative;background-color: white;}#sk-container-id-1 div.sk-parallel-item:first-child::after {align-self: flex-end;width: 50%;}#sk-container-id-1 div.sk-parallel-item:last-child::after {align-self: flex-start;width: 50%;}#sk-container-id-1 div.sk-parallel-item:only-child::after {width: 0;}#sk-container-id-1 div.sk-dashed-wrapped {border: 1px dashed gray;margin: 0 0.4em 0.5em 0.4em;box-sizing: border-box;padding-bottom: 0.4em;background-color: white;}#sk-container-id-1 div.sk-label label {font-family: monospace;font-weight: bold;display: inline-block;line-height: 1.2em;}#sk-container-id-1 div.sk-label-container {text-align: center;}#sk-container-id-1 div.sk-container {/* jupyter's `normalize.less` sets `[hidden] { display: none; }` but bootstrap.min.css set `[hidden] { display: none !important; }` so we also need the `!important` here to be able to override the default hidden behavior on the sphinx rendered scikit-learn.org. See: https://github.com/scikit-learn/scikit-learn/issues/21755 */display: inline-block !important;position: relative;}#sk-container-id-1 div.sk-text-repr-fallback {display: none;}</style><div id=\"sk-container-id-1\" class=\"sk-top-container\"><div class=\"sk-text-repr-fallback\"><pre>XGBRegressor(base_score=None, booster=None, callbacks=None,\n",
       "             colsample_bylevel=None, colsample_bynode=None,\n",
       "             colsample_bytree=None, early_stopping_rounds=None,\n",
       "             enable_categorical=False, eval_metric=None, feature_types=None,\n",
       "             gamma=None, gpu_id=None, grow_policy=None, importance_type=None,\n",
       "             interaction_constraints=None, learning_rate=0.01, max_bin=None,\n",
       "             max_cat_threshold=None, max_cat_to_onehot=None,\n",
       "             max_delta_step=None, max_depth=7, max_leaves=None,\n",
       "             min_child_weight=7, missing=nan, monotone_constraints=None,\n",
       "             n_estimators=100, n_jobs=None, num_parallel_tree=None,\n",
       "             predictor=None, random_state=None, ...)</pre><b>In a Jupyter environment, please rerun this cell to show the HTML representation or trust the notebook. <br />On GitHub, the HTML representation is unable to render, please try loading this page with nbviewer.org.</b></div><div class=\"sk-container\" hidden><div class=\"sk-item\"><div class=\"sk-estimator sk-toggleable\"><input class=\"sk-toggleable__control sk-hidden--visually\" id=\"sk-estimator-id-1\" type=\"checkbox\" checked><label for=\"sk-estimator-id-1\" class=\"sk-toggleable__label sk-toggleable__label-arrow\">XGBRegressor</label><div class=\"sk-toggleable__content\"><pre>XGBRegressor(base_score=None, booster=None, callbacks=None,\n",
       "             colsample_bylevel=None, colsample_bynode=None,\n",
       "             colsample_bytree=None, early_stopping_rounds=None,\n",
       "             enable_categorical=False, eval_metric=None, feature_types=None,\n",
       "             gamma=None, gpu_id=None, grow_policy=None, importance_type=None,\n",
       "             interaction_constraints=None, learning_rate=0.01, max_bin=None,\n",
       "             max_cat_threshold=None, max_cat_to_onehot=None,\n",
       "             max_delta_step=None, max_depth=7, max_leaves=None,\n",
       "             min_child_weight=7, missing=nan, monotone_constraints=None,\n",
       "             n_estimators=100, n_jobs=None, num_parallel_tree=None,\n",
       "             predictor=None, random_state=None, ...)</pre></div></div></div></div></div>"
      ],
      "text/plain": [
       "XGBRegressor(base_score=None, booster=None, callbacks=None,\n",
       "             colsample_bylevel=None, colsample_bynode=None,\n",
       "             colsample_bytree=None, early_stopping_rounds=None,\n",
       "             enable_categorical=False, eval_metric=None, feature_types=None,\n",
       "             gamma=None, gpu_id=None, grow_policy=None, importance_type=None,\n",
       "             interaction_constraints=None, learning_rate=0.01, max_bin=None,\n",
       "             max_cat_threshold=None, max_cat_to_onehot=None,\n",
       "             max_delta_step=None, max_depth=7, max_leaves=None,\n",
       "             min_child_weight=7, missing=nan, monotone_constraints=None,\n",
       "             n_estimators=100, n_jobs=None, num_parallel_tree=None,\n",
       "             predictor=None, random_state=None, ...)"
      ]
     },
     "execution_count": 22,
     "metadata": {},
     "output_type": "execute_result"
    }
   ],
   "source": [
    "regressor.fit(X_train, y_train)"
   ]
  },
  {
   "cell_type": "code",
   "execution_count": 23,
   "id": "a9d61f9e-4848-47ed-bb56-e91d8ca830fe",
   "metadata": {},
   "outputs": [],
   "source": [
    "predictions = regressor.predict(X_test)"
   ]
  },
  {
   "cell_type": "code",
   "execution_count": 24,
   "id": "a3392ea7-3439-48c2-9303-54c6f5841fb4",
   "metadata": {},
   "outputs": [],
   "source": [
    "rmse = np.sqrt(mean_squared_error(y_test, predictions))"
   ]
  },
  {
   "cell_type": "code",
   "execution_count": 25,
   "id": "ee34cfb7-c12a-497e-9761-96aeedc1c60a",
   "metadata": {},
   "outputs": [
    {
     "data": {
      "text/plain": [
       "0.1828510337297147"
      ]
     },
     "execution_count": 25,
     "metadata": {},
     "output_type": "execute_result"
    }
   ],
   "source": [
    "rmse"
   ]
  },
  {
   "cell_type": "code",
   "execution_count": 26,
   "id": "a1ec18f0-2ce3-4c7d-b5bf-70bfc0513748",
   "metadata": {},
   "outputs": [
    {
     "data": {
      "text/plain": [
       "count    1075.000000\n",
       "mean        0.001125\n",
       "std         0.008473\n",
       "min         0.000001\n",
       "25%         0.000011\n",
       "50%         0.000053\n",
       "75%         0.000274\n",
       "max         0.165000\n",
       "Name: q, dtype: float64"
      ]
     },
     "execution_count": 26,
     "metadata": {},
     "output_type": "execute_result"
    }
   ],
   "source": [
    "y_test.describe()"
   ]
  },
  {
   "cell_type": "code",
   "execution_count": 27,
   "id": "27a0bf75-ed8d-4f90-a5c9-ba26e9f74a77",
   "metadata": {},
   "outputs": [],
   "source": [
    "preds_df = pd.DataFrame(predictions)"
   ]
  },
  {
   "cell_type": "code",
   "execution_count": 28,
   "id": "177c16a0-c1af-49be-afca-9b0643e6a700",
   "metadata": {},
   "outputs": [
    {
     "data": {
      "text/html": [
       "<div>\n",
       "<style scoped>\n",
       "    .dataframe tbody tr th:only-of-type {\n",
       "        vertical-align: middle;\n",
       "    }\n",
       "\n",
       "    .dataframe tbody tr th {\n",
       "        vertical-align: top;\n",
       "    }\n",
       "\n",
       "    .dataframe thead th {\n",
       "        text-align: right;\n",
       "    }\n",
       "</style>\n",
       "<table border=\"1\" class=\"dataframe\">\n",
       "  <thead>\n",
       "    <tr style=\"text-align: right;\">\n",
       "      <th></th>\n",
       "      <th>0</th>\n",
       "    </tr>\n",
       "  </thead>\n",
       "  <tbody>\n",
       "    <tr>\n",
       "      <th>count</th>\n",
       "      <td>1075.000000</td>\n",
       "    </tr>\n",
       "    <tr>\n",
       "      <th>mean</th>\n",
       "      <td>0.183823</td>\n",
       "    </tr>\n",
       "    <tr>\n",
       "      <th>std</th>\n",
       "      <td>0.001134</td>\n",
       "    </tr>\n",
       "    <tr>\n",
       "      <th>min</th>\n",
       "      <td>0.183722</td>\n",
       "    </tr>\n",
       "    <tr>\n",
       "      <th>25%</th>\n",
       "      <td>0.183722</td>\n",
       "    </tr>\n",
       "    <tr>\n",
       "      <th>50%</th>\n",
       "      <td>0.183722</td>\n",
       "    </tr>\n",
       "    <tr>\n",
       "      <th>75%</th>\n",
       "      <td>0.183722</td>\n",
       "    </tr>\n",
       "    <tr>\n",
       "      <th>max</th>\n",
       "      <td>0.201828</td>\n",
       "    </tr>\n",
       "  </tbody>\n",
       "</table>\n",
       "</div>"
      ],
      "text/plain": [
       "                 0\n",
       "count  1075.000000\n",
       "mean      0.183823\n",
       "std       0.001134\n",
       "min       0.183722\n",
       "25%       0.183722\n",
       "50%       0.183722\n",
       "75%       0.183722\n",
       "max       0.201828"
      ]
     },
     "execution_count": 28,
     "metadata": {},
     "output_type": "execute_result"
    }
   ],
   "source": [
    "preds_df.describe()"
   ]
  },
  {
   "cell_type": "code",
   "execution_count": 37,
   "id": "6de5eeea-dd73-4bdd-b859-157ed4e8d384",
   "metadata": {},
   "outputs": [],
   "source": [
    "preds_df.to_excel('preliminary_results.xlsx', index=False)"
   ]
  },
  {
   "cell_type": "code",
   "execution_count": null,
   "id": "f7b35893-98cb-4011-b49c-ced631fe1e04",
   "metadata": {},
   "outputs": [],
   "source": []
  },
  {
   "cell_type": "code",
   "execution_count": null,
   "id": "9ea7c69e-af03-4afd-b50f-ee246819db92",
   "metadata": {},
   "outputs": [],
   "source": []
  },
  {
   "cell_type": "markdown",
   "id": "6ebed4b8-754f-4495-9cb0-cc277a6522df",
   "metadata": {
    "tags": []
   },
   "source": [
    "## Trial 3"
   ]
  },
  {
   "cell_type": "code",
   "execution_count": 29,
   "id": "c6a8b49f-5506-42d4-9239-5de6cb1450f2",
   "metadata": {},
   "outputs": [
    {
     "name": "stdout",
     "output_type": "stream",
     "text": [
      "<class 'pandas.core.frame.DataFrame'>\n",
      "RangeIndex: 4595 entries, 0 to 4594\n",
      "Data columns (total 36 columns):\n",
      " #   Column    Non-Null Count  Dtype  \n",
      "---  ------    --------------  -----  \n",
      " 0   Hm0 d     4595 non-null   float64\n",
      " 1   Tp d      4595 non-null   float64\n",
      " 2   Tm d      4595 non-null   float64\n",
      " 3   Tm1,0 d   4595 non-null   float64\n",
      " 4   hdeep     4595 non-null   float64\n",
      " 5   mmm       4595 non-null   float64\n",
      " 6   β         4595 non-null   int64  \n",
      " 7   Spread s  4595 non-null   int64  \n",
      " 8   h         4595 non-null   float64\n",
      " 9   Hm0 toe   4595 non-null   float64\n",
      " 10  Tp toe    4595 non-null   float64\n",
      " 11  Tm toe    4595 non-null   float64\n",
      " 12  Tm1,0t    4595 non-null   float64\n",
      " 13  ht        4595 non-null   float64\n",
      " 14  Bt        4595 non-null   float64\n",
      " 15  cotαd     4595 non-null   float64\n",
      " 16  cotαu     4595 non-null   float64\n",
      " 17  cotαexcl  4595 non-null   float64\n",
      " 18  cotαincl  4595 non-null   float64\n",
      " 19  gf_d      4595 non-null   float64\n",
      " 20  D50_d     4595 non-null   float64\n",
      " 21  gf_u      4595 non-null   float64\n",
      " 22  D50_u     4595 non-null   float64\n",
      " 23  gf        4595 non-null   float64\n",
      " 24  D         4595 non-null   float64\n",
      " 25  Rc        4595 non-null   float64\n",
      " 26  B         4595 non-null   float64\n",
      " 27  hb        4595 non-null   float64\n",
      " 28  tanαB     4595 non-null   float64\n",
      " 29  Bh        4595 non-null   float64\n",
      " 30  Ac        4595 non-null   float64\n",
      " 31  Gc        4595 non-null   float64\n",
      " 32  RF        4595 non-null   int64  \n",
      " 33  CF        4595 non-null   int64  \n",
      " 34  WF        4595 non-null   int64  \n",
      " 35  q         4595 non-null   float64\n",
      "dtypes: float64(31), int64(5)\n",
      "memory usage: 1.3 MB\n"
     ]
    }
   ],
   "source": [
    "data.info()"
   ]
  },
  {
   "cell_type": "code",
   "execution_count": 35,
   "id": "ffc20133-dd08-4fd7-80d0-6a126d88d221",
   "metadata": {},
   "outputs": [],
   "source": [
    "data_reduced = data[['Hm0 d', 'Tp d', 'Tm d', 'Tm1,0 d', 'hdeep', 'h', 'Hm0 toe', 'Tp toe', 'Tm toe', 'Tm1,0t', 'cotαd', 'cotαincl', 'Rc', 'q']]"
   ]
  },
  {
   "cell_type": "code",
   "execution_count": 36,
   "id": "29f1fabf-09bb-49b7-a512-ed3d4b6a93ca",
   "metadata": {},
   "outputs": [
    {
     "name": "stdout",
     "output_type": "stream",
     "text": [
      "<class 'pandas.core.frame.DataFrame'>\n",
      "RangeIndex: 4595 entries, 0 to 4594\n",
      "Data columns (total 14 columns):\n",
      " #   Column    Non-Null Count  Dtype  \n",
      "---  ------    --------------  -----  \n",
      " 0   Hm0 d     4595 non-null   float64\n",
      " 1   Tp d      4595 non-null   float64\n",
      " 2   Tm d      4595 non-null   float64\n",
      " 3   Tm1,0 d   4595 non-null   float64\n",
      " 4   hdeep     4595 non-null   float64\n",
      " 5   h         4595 non-null   float64\n",
      " 6   Hm0 toe   4595 non-null   float64\n",
      " 7   Tp toe    4595 non-null   float64\n",
      " 8   Tm toe    4595 non-null   float64\n",
      " 9   Tm1,0t    4595 non-null   float64\n",
      " 10  cotαd     4595 non-null   float64\n",
      " 11  cotαincl  4595 non-null   float64\n",
      " 12  Rc        4595 non-null   float64\n",
      " 13  q         4595 non-null   float64\n",
      "dtypes: float64(14)\n",
      "memory usage: 502.7 KB\n"
     ]
    }
   ],
   "source": [
    "data_reduced.info()"
   ]
  },
  {
   "cell_type": "code",
   "execution_count": 37,
   "id": "f7b6b969-f008-4181-ad90-b6959edc55dd",
   "metadata": {},
   "outputs": [],
   "source": [
    "test_data_reduced = testing_data[['Hm0 d', 'Tp d', 'Tm d', 'Tm1,0 d', 'hdeep', 'h', 'Hm0 toe', 'Tp toe', 'Tm toe', 'Tm1,0t', 'cotαd', 'cotαincl', 'Rc', 'q']]"
   ]
  },
  {
   "cell_type": "code",
   "execution_count": 38,
   "id": "afe8e8db-9746-4f13-b781-d1c4aa911432",
   "metadata": {},
   "outputs": [
    {
     "name": "stdout",
     "output_type": "stream",
     "text": [
      "<class 'pandas.core.frame.DataFrame'>\n",
      "RangeIndex: 1075 entries, 0 to 1074\n",
      "Data columns (total 14 columns):\n",
      " #   Column    Non-Null Count  Dtype  \n",
      "---  ------    --------------  -----  \n",
      " 0   Hm0 d     1075 non-null   float64\n",
      " 1   Tp d      1075 non-null   float64\n",
      " 2   Tm d      1075 non-null   float64\n",
      " 3   Tm1,0 d   1075 non-null   float64\n",
      " 4   hdeep     1075 non-null   float64\n",
      " 5   h         1075 non-null   float64\n",
      " 6   Hm0 toe   1075 non-null   float64\n",
      " 7   Tp toe    1075 non-null   float64\n",
      " 8   Tm toe    1075 non-null   float64\n",
      " 9   Tm1,0t    1075 non-null   float64\n",
      " 10  cotαd     1075 non-null   float64\n",
      " 11  cotαincl  1075 non-null   float64\n",
      " 12  Rc        1075 non-null   float64\n",
      " 13  q         1075 non-null   float64\n",
      "dtypes: float64(14)\n",
      "memory usage: 117.7 KB\n"
     ]
    }
   ],
   "source": [
    "test_data_reduced.info()"
   ]
  },
  {
   "cell_type": "code",
   "execution_count": null,
   "id": "d83afbf9-3118-48e6-9681-f71571634606",
   "metadata": {},
   "outputs": [],
   "source": []
  },
  {
   "cell_type": "code",
   "execution_count": 39,
   "id": "de379d09-8be1-4f05-863e-1f7465d9e969",
   "metadata": {},
   "outputs": [],
   "source": [
    "X_train = data_reduced.iloc[ : , : -1]\n",
    "y_train = data_reduced.iloc[ : , -1]"
   ]
  },
  {
   "cell_type": "code",
   "execution_count": 40,
   "id": "b12f271d-842f-4c48-a3e6-53e290720b6c",
   "metadata": {},
   "outputs": [],
   "source": [
    "X_test = test_data_reduced.iloc[ : , : -1]\n",
    "y_test = test_data_reduced.iloc[ : , -1]"
   ]
  },
  {
   "cell_type": "code",
   "execution_count": null,
   "id": "c3500828-939f-4727-9a31-8d458a2ef3f3",
   "metadata": {},
   "outputs": [],
   "source": []
  },
  {
   "cell_type": "code",
   "execution_count": 41,
   "id": "f13b0e28-bf2b-4e66-bda5-28ff1e903593",
   "metadata": {},
   "outputs": [],
   "source": [
    "regressor = xgb.XGBRegressor()"
   ]
  },
  {
   "cell_type": "code",
   "execution_count": 42,
   "id": "142a9507-27cd-446a-b9b8-13c345fffb42",
   "metadata": {},
   "outputs": [],
   "source": [
    "# set up our search grid\n",
    "param_grid = {\n",
    "    \"max_depth\": [7,12],\n",
    "    \"min_child_weight\": [5,7],\n",
    "    \"learning_rate\": [0.0075, 0.01],\n",
    "    \"reg_lambda\": [3,4],\n",
    "    \"subsample\": [0.25,0.75]\n",
    "}"
   ]
  },
  {
   "cell_type": "code",
   "execution_count": 43,
   "id": "035f8158-7bdf-49b0-8542-fc81086e86c2",
   "metadata": {},
   "outputs": [],
   "source": [
    "# try out every combination of the above values\n",
    "search = GridSearchCV(regressor, param_grid, cv=5).fit(X_train, y_train)"
   ]
  },
  {
   "cell_type": "code",
   "execution_count": 44,
   "id": "3a08be14-45ce-4938-987c-4c85f19178e6",
   "metadata": {},
   "outputs": [
    {
     "name": "stdout",
     "output_type": "stream",
     "text": [
      "The best hyperparameters are  {'learning_rate': 0.01, 'max_depth': 7, 'min_child_weight': 5, 'reg_lambda': 3, 'subsample': 0.75}\n"
     ]
    }
   ],
   "source": [
    "print(\"The best hyperparameters are \", search.best_params_)"
   ]
  },
  {
   "cell_type": "code",
   "execution_count": 45,
   "id": "328a3eb9-f8de-4ec2-aaab-d2f13d423ec1",
   "metadata": {},
   "outputs": [],
   "source": [
    "regressor = xgb.XGBRegressor(\n",
    "    learning_rate = search.best_params_[\"learning_rate\"],\n",
    "    min_child_weight  = search.best_params_[\"min_child_weight\"],\n",
    "    max_depth     = search.best_params_[\"max_depth\"],\n",
    "    reg_lambda  = search.best_params_[\"reg_lambda\"],\n",
    "    subsample     = search.best_params_[\"subsample\"]\n",
    ")"
   ]
  },
  {
   "cell_type": "code",
   "execution_count": 46,
   "id": "657e970b-f123-4099-8f68-c2577c1ee973",
   "metadata": {},
   "outputs": [
    {
     "data": {
      "text/html": [
       "<style>#sk-container-id-2 {color: black;background-color: white;}#sk-container-id-2 pre{padding: 0;}#sk-container-id-2 div.sk-toggleable {background-color: white;}#sk-container-id-2 label.sk-toggleable__label {cursor: pointer;display: block;width: 100%;margin-bottom: 0;padding: 0.3em;box-sizing: border-box;text-align: center;}#sk-container-id-2 label.sk-toggleable__label-arrow:before {content: \"▸\";float: left;margin-right: 0.25em;color: #696969;}#sk-container-id-2 label.sk-toggleable__label-arrow:hover:before {color: black;}#sk-container-id-2 div.sk-estimator:hover label.sk-toggleable__label-arrow:before {color: black;}#sk-container-id-2 div.sk-toggleable__content {max-height: 0;max-width: 0;overflow: hidden;text-align: left;background-color: #f0f8ff;}#sk-container-id-2 div.sk-toggleable__content pre {margin: 0.2em;color: black;border-radius: 0.25em;background-color: #f0f8ff;}#sk-container-id-2 input.sk-toggleable__control:checked~div.sk-toggleable__content {max-height: 200px;max-width: 100%;overflow: auto;}#sk-container-id-2 input.sk-toggleable__control:checked~label.sk-toggleable__label-arrow:before {content: \"▾\";}#sk-container-id-2 div.sk-estimator input.sk-toggleable__control:checked~label.sk-toggleable__label {background-color: #d4ebff;}#sk-container-id-2 div.sk-label input.sk-toggleable__control:checked~label.sk-toggleable__label {background-color: #d4ebff;}#sk-container-id-2 input.sk-hidden--visually {border: 0;clip: rect(1px 1px 1px 1px);clip: rect(1px, 1px, 1px, 1px);height: 1px;margin: -1px;overflow: hidden;padding: 0;position: absolute;width: 1px;}#sk-container-id-2 div.sk-estimator {font-family: monospace;background-color: #f0f8ff;border: 1px dotted black;border-radius: 0.25em;box-sizing: border-box;margin-bottom: 0.5em;}#sk-container-id-2 div.sk-estimator:hover {background-color: #d4ebff;}#sk-container-id-2 div.sk-parallel-item::after {content: \"\";width: 100%;border-bottom: 1px solid gray;flex-grow: 1;}#sk-container-id-2 div.sk-label:hover label.sk-toggleable__label {background-color: #d4ebff;}#sk-container-id-2 div.sk-serial::before {content: \"\";position: absolute;border-left: 1px solid gray;box-sizing: border-box;top: 0;bottom: 0;left: 50%;z-index: 0;}#sk-container-id-2 div.sk-serial {display: flex;flex-direction: column;align-items: center;background-color: white;padding-right: 0.2em;padding-left: 0.2em;position: relative;}#sk-container-id-2 div.sk-item {position: relative;z-index: 1;}#sk-container-id-2 div.sk-parallel {display: flex;align-items: stretch;justify-content: center;background-color: white;position: relative;}#sk-container-id-2 div.sk-item::before, #sk-container-id-2 div.sk-parallel-item::before {content: \"\";position: absolute;border-left: 1px solid gray;box-sizing: border-box;top: 0;bottom: 0;left: 50%;z-index: -1;}#sk-container-id-2 div.sk-parallel-item {display: flex;flex-direction: column;z-index: 1;position: relative;background-color: white;}#sk-container-id-2 div.sk-parallel-item:first-child::after {align-self: flex-end;width: 50%;}#sk-container-id-2 div.sk-parallel-item:last-child::after {align-self: flex-start;width: 50%;}#sk-container-id-2 div.sk-parallel-item:only-child::after {width: 0;}#sk-container-id-2 div.sk-dashed-wrapped {border: 1px dashed gray;margin: 0 0.4em 0.5em 0.4em;box-sizing: border-box;padding-bottom: 0.4em;background-color: white;}#sk-container-id-2 div.sk-label label {font-family: monospace;font-weight: bold;display: inline-block;line-height: 1.2em;}#sk-container-id-2 div.sk-label-container {text-align: center;}#sk-container-id-2 div.sk-container {/* jupyter's `normalize.less` sets `[hidden] { display: none; }` but bootstrap.min.css set `[hidden] { display: none !important; }` so we also need the `!important` here to be able to override the default hidden behavior on the sphinx rendered scikit-learn.org. See: https://github.com/scikit-learn/scikit-learn/issues/21755 */display: inline-block !important;position: relative;}#sk-container-id-2 div.sk-text-repr-fallback {display: none;}</style><div id=\"sk-container-id-2\" class=\"sk-top-container\"><div class=\"sk-text-repr-fallback\"><pre>XGBRegressor(base_score=None, booster=None, callbacks=None,\n",
       "             colsample_bylevel=None, colsample_bynode=None,\n",
       "             colsample_bytree=None, early_stopping_rounds=None,\n",
       "             enable_categorical=False, eval_metric=None, feature_types=None,\n",
       "             gamma=None, gpu_id=None, grow_policy=None, importance_type=None,\n",
       "             interaction_constraints=None, learning_rate=0.01, max_bin=None,\n",
       "             max_cat_threshold=None, max_cat_to_onehot=None,\n",
       "             max_delta_step=None, max_depth=7, max_leaves=None,\n",
       "             min_child_weight=5, missing=nan, monotone_constraints=None,\n",
       "             n_estimators=100, n_jobs=None, num_parallel_tree=None,\n",
       "             predictor=None, random_state=None, ...)</pre><b>In a Jupyter environment, please rerun this cell to show the HTML representation or trust the notebook. <br />On GitHub, the HTML representation is unable to render, please try loading this page with nbviewer.org.</b></div><div class=\"sk-container\" hidden><div class=\"sk-item\"><div class=\"sk-estimator sk-toggleable\"><input class=\"sk-toggleable__control sk-hidden--visually\" id=\"sk-estimator-id-2\" type=\"checkbox\" checked><label for=\"sk-estimator-id-2\" class=\"sk-toggleable__label sk-toggleable__label-arrow\">XGBRegressor</label><div class=\"sk-toggleable__content\"><pre>XGBRegressor(base_score=None, booster=None, callbacks=None,\n",
       "             colsample_bylevel=None, colsample_bynode=None,\n",
       "             colsample_bytree=None, early_stopping_rounds=None,\n",
       "             enable_categorical=False, eval_metric=None, feature_types=None,\n",
       "             gamma=None, gpu_id=None, grow_policy=None, importance_type=None,\n",
       "             interaction_constraints=None, learning_rate=0.01, max_bin=None,\n",
       "             max_cat_threshold=None, max_cat_to_onehot=None,\n",
       "             max_delta_step=None, max_depth=7, max_leaves=None,\n",
       "             min_child_weight=5, missing=nan, monotone_constraints=None,\n",
       "             n_estimators=100, n_jobs=None, num_parallel_tree=None,\n",
       "             predictor=None, random_state=None, ...)</pre></div></div></div></div></div>"
      ],
      "text/plain": [
       "XGBRegressor(base_score=None, booster=None, callbacks=None,\n",
       "             colsample_bylevel=None, colsample_bynode=None,\n",
       "             colsample_bytree=None, early_stopping_rounds=None,\n",
       "             enable_categorical=False, eval_metric=None, feature_types=None,\n",
       "             gamma=None, gpu_id=None, grow_policy=None, importance_type=None,\n",
       "             interaction_constraints=None, learning_rate=0.01, max_bin=None,\n",
       "             max_cat_threshold=None, max_cat_to_onehot=None,\n",
       "             max_delta_step=None, max_depth=7, max_leaves=None,\n",
       "             min_child_weight=5, missing=nan, monotone_constraints=None,\n",
       "             n_estimators=100, n_jobs=None, num_parallel_tree=None,\n",
       "             predictor=None, random_state=None, ...)"
      ]
     },
     "execution_count": 46,
     "metadata": {},
     "output_type": "execute_result"
    }
   ],
   "source": [
    "regressor.fit(X_train, y_train)"
   ]
  },
  {
   "cell_type": "code",
   "execution_count": 47,
   "id": "ad77b316-78fe-447e-bd76-fbd82127ac24",
   "metadata": {},
   "outputs": [],
   "source": [
    "predictions = regressor.predict(X_test)"
   ]
  },
  {
   "cell_type": "code",
   "execution_count": 48,
   "id": "ec1dd79d-3875-48c2-a6a4-a978f86cedb8",
   "metadata": {},
   "outputs": [],
   "source": [
    "rmse = np.sqrt(mean_squared_error(y_test, predictions))"
   ]
  },
  {
   "cell_type": "code",
   "execution_count": 49,
   "id": "66bdc0bc-4940-48e8-b48b-f4c63451ba18",
   "metadata": {},
   "outputs": [
    {
     "data": {
      "text/plain": [
       "0.18287398739699914"
      ]
     },
     "execution_count": 49,
     "metadata": {},
     "output_type": "execute_result"
    }
   ],
   "source": [
    "rmse"
   ]
  },
  {
   "cell_type": "code",
   "execution_count": 50,
   "id": "f6f164a6-f70e-47ca-8abb-ac593b36d9d7",
   "metadata": {},
   "outputs": [
    {
     "data": {
      "text/plain": [
       "count    1075.000000\n",
       "mean        0.001125\n",
       "std         0.008473\n",
       "min         0.000001\n",
       "25%         0.000011\n",
       "50%         0.000053\n",
       "75%         0.000274\n",
       "max         0.165000\n",
       "Name: q, dtype: float64"
      ]
     },
     "execution_count": 50,
     "metadata": {},
     "output_type": "execute_result"
    }
   ],
   "source": [
    "y_test.describe()"
   ]
  },
  {
   "cell_type": "code",
   "execution_count": 51,
   "id": "cf9880bc-f0b6-4bad-906c-2a6303a8d6be",
   "metadata": {},
   "outputs": [],
   "source": [
    "preds_df = pd.DataFrame(predictions)"
   ]
  },
  {
   "cell_type": "code",
   "execution_count": 52,
   "id": "7bac945c-8fc2-4378-9112-eae541623ef6",
   "metadata": {},
   "outputs": [
    {
     "data": {
      "text/html": [
       "<div>\n",
       "<style scoped>\n",
       "    .dataframe tbody tr th:only-of-type {\n",
       "        vertical-align: middle;\n",
       "    }\n",
       "\n",
       "    .dataframe tbody tr th {\n",
       "        vertical-align: top;\n",
       "    }\n",
       "\n",
       "    .dataframe thead th {\n",
       "        text-align: right;\n",
       "    }\n",
       "</style>\n",
       "<table border=\"1\" class=\"dataframe\">\n",
       "  <thead>\n",
       "    <tr style=\"text-align: right;\">\n",
       "      <th></th>\n",
       "      <th>0</th>\n",
       "    </tr>\n",
       "  </thead>\n",
       "  <tbody>\n",
       "    <tr>\n",
       "      <th>count</th>\n",
       "      <td>1075.000000</td>\n",
       "    </tr>\n",
       "    <tr>\n",
       "      <th>mean</th>\n",
       "      <td>0.183805</td>\n",
       "    </tr>\n",
       "    <tr>\n",
       "      <th>std</th>\n",
       "      <td>0.000070</td>\n",
       "    </tr>\n",
       "    <tr>\n",
       "      <th>min</th>\n",
       "      <td>0.183799</td>\n",
       "    </tr>\n",
       "    <tr>\n",
       "      <th>25%</th>\n",
       "      <td>0.183799</td>\n",
       "    </tr>\n",
       "    <tr>\n",
       "      <th>50%</th>\n",
       "      <td>0.183799</td>\n",
       "    </tr>\n",
       "    <tr>\n",
       "      <th>75%</th>\n",
       "      <td>0.183799</td>\n",
       "    </tr>\n",
       "    <tr>\n",
       "      <th>max</th>\n",
       "      <td>0.185030</td>\n",
       "    </tr>\n",
       "  </tbody>\n",
       "</table>\n",
       "</div>"
      ],
      "text/plain": [
       "                 0\n",
       "count  1075.000000\n",
       "mean      0.183805\n",
       "std       0.000070\n",
       "min       0.183799\n",
       "25%       0.183799\n",
       "50%       0.183799\n",
       "75%       0.183799\n",
       "max       0.185030"
      ]
     },
     "execution_count": 52,
     "metadata": {},
     "output_type": "execute_result"
    }
   ],
   "source": [
    "preds_df.describe()"
   ]
  },
  {
   "cell_type": "code",
   "execution_count": 37,
   "id": "6a6227b7-db75-4f8f-9ffe-4c71a910fc75",
   "metadata": {},
   "outputs": [],
   "source": [
    "preds_df.to_excel('preliminary_results.xlsx', index=False)"
   ]
  },
  {
   "cell_type": "code",
   "execution_count": 57,
   "id": "0a4ff268-1ca4-4afb-9b63-68cda970a888",
   "metadata": {},
   "outputs": [
    {
     "data": {
      "text/plain": [
       "(1075, 1075)"
      ]
     },
     "execution_count": 57,
     "metadata": {},
     "output_type": "execute_result"
    }
   ],
   "source": [
    "len(preds_df), len(y_test),"
   ]
  },
  {
   "cell_type": "code",
   "execution_count": 58,
   "id": "43144298-93f5-4244-87f4-b1750219e8be",
   "metadata": {},
   "outputs": [],
   "source": [
    "import random\n",
    "import numpy\n",
    "from matplotlib import pyplot"
   ]
  },
  {
   "cell_type": "code",
   "execution_count": 59,
   "id": "92e40588-5933-4f1d-bdbe-e167747d75e7",
   "metadata": {},
   "outputs": [
    {
     "data": {
      "image/png": "[encoded data removed]",
      "text/plain": [
       "<Figure size 640x480 with 1 Axes>"
      ]
     },
     "metadata": {},
     "output_type": "display_data"
    }
   ],
   "source": [
    "#bins = numpy.linspace(-10, 10, 100)\n",
    "\n",
    "pyplot.hist(y_test, alpha=0.5, label='true')\n",
    "pyplot.hist(preds_df, alpha=0.5, label='predict')\n",
    "pyplot.legend(loc='upper right')\n",
    "pyplot.show()"
   ]
  },
  {
   "cell_type": "code",
   "execution_count": 88,
   "id": "88d49fdc-9265-4fb3-9823-488f724c37e3",
   "metadata": {},
   "outputs": [
    {
     "data": {
      "image/png": "[encoded data removed]",
      "text/plain": [
       "<Figure size 640x480 with 1 Axes>"
      ]
     },
     "metadata": {},
     "output_type": "display_data"
    }
   ],
   "source": [
    "#bins = numpy.linspace(-10, 10, 100)\n",
    "\n",
    "pyplot.hist(y_test.sort_values(ascending=False)[50:], alpha=0.5, label='true', bins=20)\n",
    "#pyplot.hist(preds_df, alpha=0.5, label='predict')\n",
    "pyplot.legend(loc='upper right')\n",
    "pyplot.show()"
   ]
  },
  {
   "cell_type": "code",
   "execution_count": 68,
   "id": "e6a371ea-6310-4c6d-949a-fde863e1b22a",
   "metadata": {},
   "outputs": [
    {
     "data": {
      "text/plain": [
       "828     0.004730\n",
       "382     0.004670\n",
       "896     0.004540\n",
       "1030    0.004401\n",
       "236     0.004378\n",
       "          ...   \n",
       "909     0.000001\n",
       "941     0.000001\n",
       "676     0.000001\n",
       "287     0.000001\n",
       "996     0.000001\n",
       "Name: q, Length: 1045, dtype: float64"
      ]
     },
     "execution_count": 68,
     "metadata": {},
     "output_type": "execute_result"
    }
   ],
   "source": [
    "y_test.sort_values(ascending=False)[30:]"
   ]
  },
  {
   "cell_type": "code",
   "execution_count": 74,
   "id": "6b8da1e7-50f4-4485-ba99-86643768b990",
   "metadata": {},
   "outputs": [
    {
     "data": {
      "image/png": "[encoded data removed]",
      "text/plain": [
       "<Figure size 640x480 with 1 Axes>"
      ]
     },
     "metadata": {},
     "output_type": "display_data"
    }
   ],
   "source": [
    "#bins = numpy.linspace(-10, 10, 100)\n",
    "\n",
    "#pyplot.hist(y_test, alpha=0.5, label='true')\n",
    "pyplot.hist(preds_df, alpha=0.5, label='predict', bins=1)\n",
    "pyplot.legend(loc='upper right')\n",
    "pyplot.show()"
   ]
  },
  {
   "cell_type": "code",
   "execution_count": 85,
   "id": "d5e28c7d-8e4f-484a-ad76-76d20beff843",
   "metadata": {},
   "outputs": [
    {
     "data": {
      "text/plain": [
       "352     0.183799\n",
       "353     0.183799\n",
       "354     0.183799\n",
       "355     0.183799\n",
       "356     0.183799\n",
       "357     0.183799\n",
       "358     0.183799\n",
       "359     0.183799\n",
       "360     0.183799\n",
       "361     0.183799\n",
       "362     0.183799\n",
       "363     0.183799\n",
       "364     0.183799\n",
       "365     0.183799\n",
       "366     0.183799\n",
       "367     0.183799\n",
       "368     0.183799\n",
       "369     0.183799\n",
       "370     0.183799\n",
       "1074    0.183799\n",
       "Name: 0, dtype: float32"
      ]
     },
     "execution_count": 85,
     "metadata": {},
     "output_type": "execute_result"
    }
   ],
   "source": [
    "preds_df[0].sort_values(ascending=False)[-20:]"
   ]
  },
  {
   "cell_type": "code",
   "execution_count": null,
   "id": "811bf630-e6a5-4f11-bde5-c864d695cb69",
   "metadata": {},
   "outputs": [],
   "source": []
  },
  {
   "cell_type": "code",
   "execution_count": null,
   "id": "dbef6bde-862f-46fb-9a67-cbb0db4046cd",
   "metadata": {},
   "outputs": [],
   "source": []
  },
  {
   "cell_type": "code",
   "execution_count": null,
   "id": "2b0fd9ed-d7ac-4a0e-a9a0-3831dd15726f",
   "metadata": {},
   "outputs": [],
   "source": []
  },
  {
   "cell_type": "markdown",
   "id": "95416a76-f122-4418-810c-626368db2ea5",
   "metadata": {
    "tags": []
   },
   "source": [
    "## Trial 4"
   ]
  },
  {
   "cell_type": "code",
   "execution_count": 56,
   "id": "79dc7c35-1163-4f0a-9fbb-d7a18b742d2d",
   "metadata": {},
   "outputs": [],
   "source": [
    "# Scaling for the featurtes of the dataset\n",
    "# Special scaling (log) for the q feature\n",
    "# outliers"
   ]
  },
  {
   "cell_type": "code",
   "execution_count": null,
   "id": "9733de30-38ab-4e0a-b188-40ed355525e1",
   "metadata": {},
   "outputs": [],
   "source": []
  },
  {
   "cell_type": "code",
   "execution_count": null,
   "id": "641d978a-3f13-438d-907a-e05a416fc8f1",
   "metadata": {},
   "outputs": [],
   "source": []
  },
  {
   "cell_type": "code",
   "execution_count": null,
   "id": "c7173ed9-bc1e-4303-8439-32fe3b21538d",
   "metadata": {},
   "outputs": [],
   "source": []
  },
  {
   "cell_type": "code",
   "execution_count": null,
   "id": "9045fe55-429a-4801-a651-93e3d88507ca",
   "metadata": {},
   "outputs": [],
   "source": []
  }
 ],
 "metadata": {
  "kernelspec": {
   "display_name": "Python 3 (ipykernel)",
   "language": "python",
   "name": "python3"
  },
  "language_info": {
   "codemirror_mode": {
    "name": "ipython",
    "version": 3
   },
   "file_extension": ".py",
   "mimetype": "text/x-python",
   "name": "python",
   "nbconvert_exporter": "python",
   "pygments_lexer": "ipython3",
   "version": "3.9.13"
  }
 },
 "nbformat": 4,
 "nbformat_minor": 5
}
