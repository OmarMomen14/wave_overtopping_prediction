{
 "cells": [
  {
   "cell_type": "code",
   "execution_count": 20,
   "id": "a4194370-6fc6-4517-bf07-23c513c9c92c",
   "metadata": {},
   "outputs": [],
   "source": [
    "import pandas"
   ]
  },
  {
   "cell_type": "code",
   "execution_count": 21,
   "id": "998e92d7-c8b8-4551-a903-a6ea73ef3b56",
   "metadata": {},
   "outputs": [],
   "source": [
    "training_data = pandas.read_excel('Database_Eurotop_v5 - First scenario (Training).xlsx')"
   ]
  },
  {
   "cell_type": "code",
   "execution_count": 22,
   "id": "426a2704-1877-4d65-acab-a891cb81cf13",
   "metadata": {},
   "outputs": [
    {
     "name": "stdout",
     "output_type": "stream",
     "text": [
      "<class 'pandas.core.frame.DataFrame'>\n",
      "RangeIndex: 4776 entries, 0 to 4775\n",
      "Data columns (total 42 columns):\n",
      " #   Column        Non-Null Count  Dtype  \n",
      "---  ------        --------------  -----  \n",
      " 0   Label         4776 non-null   object \n",
      " 1   CLASH Label   4286 non-null   object \n",
      " 2   Hm0 d         4776 non-null   float64\n",
      " 3   Tp d          4776 non-null   float64\n",
      " 4   Tm d          4776 non-null   float64\n",
      " 5   Tm1,0 d       4776 non-null   float64\n",
      " 6   hdeep         4776 non-null   float64\n",
      " 7   mmm           4734 non-null   float64\n",
      " 8   β             4776 non-null   int64  \n",
      " 9   Spread s      4776 non-null   int64  \n",
      " 10  h             4776 non-null   float64\n",
      " 11  Hm0 toe       4776 non-null   float64\n",
      " 12  Tp toe        4776 non-null   float64\n",
      " 13  Tm toe        4776 non-null   float64\n",
      " 14  Tm1,0t        4776 non-null   float64\n",
      " 15  ht            4776 non-null   float64\n",
      " 16  Bt            4776 non-null   float64\n",
      " 17  cotαd         4776 non-null   float64\n",
      " 18  cotαu         4776 non-null   float64\n",
      " 19  cotαexcl      4776 non-null   float64\n",
      " 20  cotαincl      4776 non-null   float64\n",
      " 21  gf_d          4776 non-null   float64\n",
      " 22  D50_d         4637 non-null   float64\n",
      " 23  gf_u          4776 non-null   float64\n",
      " 24  D50_u         4637 non-null   float64\n",
      " 25  gf            4776 non-null   float64\n",
      " 26  D             4637 non-null   float64\n",
      " 27  Rc            4776 non-null   float64\n",
      " 28  B             4776 non-null   float64\n",
      " 29  hb            4776 non-null   float64\n",
      " 30  tanαB         4776 non-null   float64\n",
      " 31  Bh            4776 non-null   float64\n",
      " 32  Ac            4776 non-null   float64\n",
      " 33  Gc            4776 non-null   float64\n",
      " 34  RF            4776 non-null   int64  \n",
      " 35  CF            4776 non-null   int64  \n",
      " 36  WF            4776 non-null   int64  \n",
      " 37  q             4776 non-null   float64\n",
      " 38  Core data     4776 non-null   object \n",
      " 39  Reference     4776 non-null   object \n",
      " 40  Futher notes  107 non-null    object \n",
      " 41  #             4776 non-null   int64  \n",
      "dtypes: float64(31), int64(6), object(5)\n",
      "memory usage: 1.5+ MB\n"
     ]
    }
   ],
   "source": [
    "training_data.info()"
   ]
  },
  {
   "cell_type": "code",
   "execution_count": 23,
   "id": "bdee2a65-2b26-4b4a-9f30-e1cfc69026f9",
   "metadata": {},
   "outputs": [],
   "source": [
    "training_data = training_data.drop(['Label','CLASH Label', 'Core data', 'Reference', 'Futher notes', '#'],axis=1)"
   ]
  },
  {
   "cell_type": "code",
   "execution_count": 24,
   "id": "f19448be-7808-436c-a436-c8a371d9f55a",
   "metadata": {},
   "outputs": [
    {
     "name": "stdout",
     "output_type": "stream",
     "text": [
      "<class 'pandas.core.frame.DataFrame'>\n",
      "RangeIndex: 4776 entries, 0 to 4775\n",
      "Data columns (total 36 columns):\n",
      " #   Column    Non-Null Count  Dtype  \n",
      "---  ------    --------------  -----  \n",
      " 0   Hm0 d     4776 non-null   float64\n",
      " 1   Tp d      4776 non-null   float64\n",
      " 2   Tm d      4776 non-null   float64\n",
      " 3   Tm1,0 d   4776 non-null   float64\n",
      " 4   hdeep     4776 non-null   float64\n",
      " 5   mmm       4734 non-null   float64\n",
      " 6   β         4776 non-null   int64  \n",
      " 7   Spread s  4776 non-null   int64  \n",
      " 8   h         4776 non-null   float64\n",
      " 9   Hm0 toe   4776 non-null   float64\n",
      " 10  Tp toe    4776 non-null   float64\n",
      " 11  Tm toe    4776 non-null   float64\n",
      " 12  Tm1,0t    4776 non-null   float64\n",
      " 13  ht        4776 non-null   float64\n",
      " 14  Bt        4776 non-null   float64\n",
      " 15  cotαd     4776 non-null   float64\n",
      " 16  cotαu     4776 non-null   float64\n",
      " 17  cotαexcl  4776 non-null   float64\n",
      " 18  cotαincl  4776 non-null   float64\n",
      " 19  gf_d      4776 non-null   float64\n",
      " 20  D50_d     4637 non-null   float64\n",
      " 21  gf_u      4776 non-null   float64\n",
      " 22  D50_u     4637 non-null   float64\n",
      " 23  gf        4776 non-null   float64\n",
      " 24  D         4637 non-null   float64\n",
      " 25  Rc        4776 non-null   float64\n",
      " 26  B         4776 non-null   float64\n",
      " 27  hb        4776 non-null   float64\n",
      " 28  tanαB     4776 non-null   float64\n",
      " 29  Bh        4776 non-null   float64\n",
      " 30  Ac        4776 non-null   float64\n",
      " 31  Gc        4776 non-null   float64\n",
      " 32  RF        4776 non-null   int64  \n",
      " 33  CF        4776 non-null   int64  \n",
      " 34  WF        4776 non-null   int64  \n",
      " 35  q         4776 non-null   float64\n",
      "dtypes: float64(31), int64(5)\n",
      "memory usage: 1.3 MB\n"
     ]
    }
   ],
   "source": [
    "training_data.info()"
   ]
  },
  {
   "cell_type": "code",
   "execution_count": 25,
   "id": "1c2cde3c-7440-4efa-a128-dd7df070ffa4",
   "metadata": {},
   "outputs": [
    {
     "data": {
      "text/plain": [
       "0       0.025600\n",
       "1       0.017500\n",
       "2       0.016000\n",
       "3       0.012300\n",
       "4       0.010300\n",
       "          ...   \n",
       "4771    0.000015\n",
       "4772    0.000015\n",
       "4773    0.000015\n",
       "4774    0.000015\n",
       "4775    0.000015\n",
       "Name: q, Length: 4776, dtype: float64"
      ]
     },
     "execution_count": 25,
     "metadata": {},
     "output_type": "execute_result"
    }
   ],
   "source": [
    "training_data['q']"
   ]
  },
  {
   "cell_type": "code",
   "execution_count": 26,
   "id": "f2eb78e7-d523-4305-ac27-3c0241501c5d",
   "metadata": {},
   "outputs": [],
   "source": [
    "training_data_filtered = training_data.dropna(axis=0,how='any')"
   ]
  },
  {
   "cell_type": "code",
   "execution_count": 27,
   "id": "781a7308-7e03-494d-a1b3-011186fb0883",
   "metadata": {},
   "outputs": [
    {
     "name": "stdout",
     "output_type": "stream",
     "text": [
      "<class 'pandas.core.frame.DataFrame'>\n",
      "Int64Index: 4595 entries, 0 to 4775\n",
      "Data columns (total 36 columns):\n",
      " #   Column    Non-Null Count  Dtype  \n",
      "---  ------    --------------  -----  \n",
      " 0   Hm0 d     4595 non-null   float64\n",
      " 1   Tp d      4595 non-null   float64\n",
      " 2   Tm d      4595 non-null   float64\n",
      " 3   Tm1,0 d   4595 non-null   float64\n",
      " 4   hdeep     4595 non-null   float64\n",
      " 5   mmm       4595 non-null   float64\n",
      " 6   β         4595 non-null   int64  \n",
      " 7   Spread s  4595 non-null   int64  \n",
      " 8   h         4595 non-null   float64\n",
      " 9   Hm0 toe   4595 non-null   float64\n",
      " 10  Tp toe    4595 non-null   float64\n",
      " 11  Tm toe    4595 non-null   float64\n",
      " 12  Tm1,0t    4595 non-null   float64\n",
      " 13  ht        4595 non-null   float64\n",
      " 14  Bt        4595 non-null   float64\n",
      " 15  cotαd     4595 non-null   float64\n",
      " 16  cotαu     4595 non-null   float64\n",
      " 17  cotαexcl  4595 non-null   float64\n",
      " 18  cotαincl  4595 non-null   float64\n",
      " 19  gf_d      4595 non-null   float64\n",
      " 20  D50_d     4595 non-null   float64\n",
      " 21  gf_u      4595 non-null   float64\n",
      " 22  D50_u     4595 non-null   float64\n",
      " 23  gf        4595 non-null   float64\n",
      " 24  D         4595 non-null   float64\n",
      " 25  Rc        4595 non-null   float64\n",
      " 26  B         4595 non-null   float64\n",
      " 27  hb        4595 non-null   float64\n",
      " 28  tanαB     4595 non-null   float64\n",
      " 29  Bh        4595 non-null   float64\n",
      " 30  Ac        4595 non-null   float64\n",
      " 31  Gc        4595 non-null   float64\n",
      " 32  RF        4595 non-null   int64  \n",
      " 33  CF        4595 non-null   int64  \n",
      " 34  WF        4595 non-null   int64  \n",
      " 35  q         4595 non-null   float64\n",
      "dtypes: float64(31), int64(5)\n",
      "memory usage: 1.3 MB\n"
     ]
    }
   ],
   "source": [
    "training_data_filtered.info()"
   ]
  },
  {
   "cell_type": "code",
   "execution_count": 28,
   "id": "4533d9cb-74c0-44a4-b4a7-3917108e787d",
   "metadata": {},
   "outputs": [],
   "source": [
    "training_data_filtered = training_data_filtered.reset_index(drop=True)"
   ]
  },
  {
   "cell_type": "code",
   "execution_count": 29,
   "id": "f8f29e47-33c1-4c4a-a541-911be7965449",
   "metadata": {},
   "outputs": [
    {
     "name": "stdout",
     "output_type": "stream",
     "text": [
      "<class 'pandas.core.frame.DataFrame'>\n",
      "RangeIndex: 4595 entries, 0 to 4594\n",
      "Data columns (total 36 columns):\n",
      " #   Column    Non-Null Count  Dtype  \n",
      "---  ------    --------------  -----  \n",
      " 0   Hm0 d     4595 non-null   float64\n",
      " 1   Tp d      4595 non-null   float64\n",
      " 2   Tm d      4595 non-null   float64\n",
      " 3   Tm1,0 d   4595 non-null   float64\n",
      " 4   hdeep     4595 non-null   float64\n",
      " 5   mmm       4595 non-null   float64\n",
      " 6   β         4595 non-null   int64  \n",
      " 7   Spread s  4595 non-null   int64  \n",
      " 8   h         4595 non-null   float64\n",
      " 9   Hm0 toe   4595 non-null   float64\n",
      " 10  Tp toe    4595 non-null   float64\n",
      " 11  Tm toe    4595 non-null   float64\n",
      " 12  Tm1,0t    4595 non-null   float64\n",
      " 13  ht        4595 non-null   float64\n",
      " 14  Bt        4595 non-null   float64\n",
      " 15  cotαd     4595 non-null   float64\n",
      " 16  cotαu     4595 non-null   float64\n",
      " 17  cotαexcl  4595 non-null   float64\n",
      " 18  cotαincl  4595 non-null   float64\n",
      " 19  gf_d      4595 non-null   float64\n",
      " 20  D50_d     4595 non-null   float64\n",
      " 21  gf_u      4595 non-null   float64\n",
      " 22  D50_u     4595 non-null   float64\n",
      " 23  gf        4595 non-null   float64\n",
      " 24  D         4595 non-null   float64\n",
      " 25  Rc        4595 non-null   float64\n",
      " 26  B         4595 non-null   float64\n",
      " 27  hb        4595 non-null   float64\n",
      " 28  tanαB     4595 non-null   float64\n",
      " 29  Bh        4595 non-null   float64\n",
      " 30  Ac        4595 non-null   float64\n",
      " 31  Gc        4595 non-null   float64\n",
      " 32  RF        4595 non-null   int64  \n",
      " 33  CF        4595 non-null   int64  \n",
      " 34  WF        4595 non-null   int64  \n",
      " 35  q         4595 non-null   float64\n",
      "dtypes: float64(31), int64(5)\n",
      "memory usage: 1.3 MB\n"
     ]
    }
   ],
   "source": [
    "training_data_filtered.info()"
   ]
  },
  {
   "cell_type": "code",
   "execution_count": 30,
   "id": "a44c26c3-721e-453e-913b-858683e5ed62",
   "metadata": {},
   "outputs": [],
   "source": [
    "training_data_filtered.to_excel('training data filtered.xlsx',index=False)"
   ]
  },
  {
   "cell_type": "code",
   "execution_count": 55,
   "id": "2831084f-ef62-4279-9667-b351f3aec5fe",
   "metadata": {},
   "outputs": [],
   "source": [
    "testing_data = pandas.read_excel('Database_Eurotop_v5 - First scenario (Testing).xlsx')"
   ]
  },
  {
   "cell_type": "code",
   "execution_count": 56,
   "id": "6f9172d8-10b4-4074-848e-98333e5c327a",
   "metadata": {},
   "outputs": [
    {
     "name": "stdout",
     "output_type": "stream",
     "text": [
      "<class 'pandas.core.frame.DataFrame'>\n",
      "RangeIndex: 1196 entries, 0 to 1195\n",
      "Data columns (total 40 columns):\n",
      " #   Column       Non-Null Count  Dtype  \n",
      "---  ------       --------------  -----  \n",
      " 0   Label        1196 non-null   object \n",
      " 1   CLASH Label  1181 non-null   object \n",
      " 2   Hm0 d        1196 non-null   float64\n",
      " 3   Tp d         1196 non-null   float64\n",
      " 4   Tm d         1196 non-null   float64\n",
      " 5   Tm1,0 d      1196 non-null   float64\n",
      " 6   hdeep        1196 non-null   float64\n",
      " 7   mmm          1172 non-null   float64\n",
      " 8   β            1196 non-null   int64  \n",
      " 9   Spread s     1196 non-null   int64  \n",
      " 10  h            1196 non-null   float64\n",
      " 11  Hm0 toe      1196 non-null   float64\n",
      " 12  Tp toe       1196 non-null   float64\n",
      " 13  Tm toe       1196 non-null   float64\n",
      " 14  Tm1,0t       1196 non-null   float64\n",
      " 15  ht           1196 non-null   float64\n",
      " 16  Bt           1196 non-null   float64\n",
      " 17  cotαd        1196 non-null   float64\n",
      " 18  cotαu        1196 non-null   float64\n",
      " 19  cotαexcl     1196 non-null   float64\n",
      " 20  cotαincl     1196 non-null   float64\n",
      " 21  gf_d         1196 non-null   float64\n",
      " 22  D50_d        1099 non-null   float64\n",
      " 23  gf_u         1196 non-null   float64\n",
      " 24  D50_u        1103 non-null   float64\n",
      " 25  gf           1196 non-null   float64\n",
      " 26  D            1099 non-null   float64\n",
      " 27  Rc           1196 non-null   float64\n",
      " 28  B            1196 non-null   float64\n",
      " 29  hb           1196 non-null   float64\n",
      " 30  tanαB        1196 non-null   float64\n",
      " 31  Bh           1196 non-null   float64\n",
      " 32  Ac           1196 non-null   float64\n",
      " 33  Gc           1196 non-null   float64\n",
      " 34  RF           1196 non-null   int64  \n",
      " 35  CF           1196 non-null   int64  \n",
      " 36  WF           1196 non-null   int64  \n",
      " 37  q            1196 non-null   float64\n",
      " 38  Core data    1196 non-null   object \n",
      " 39  Reference    1196 non-null   object \n",
      "dtypes: float64(31), int64(5), object(4)\n",
      "memory usage: 373.9+ KB\n"
     ]
    }
   ],
   "source": [
    "testing_data.info()"
   ]
  },
  {
   "cell_type": "code",
   "execution_count": 57,
   "id": "94808fc8-3133-48f4-b1dd-930829a4ab2d",
   "metadata": {},
   "outputs": [],
   "source": [
    "testing_data = testing_data.drop(['Label','CLASH Label','Core data','Reference'],axis=1)"
   ]
  },
  {
   "cell_type": "code",
   "execution_count": 58,
   "id": "9eba0042-ceb1-4425-8f2a-e8b2563896f1",
   "metadata": {},
   "outputs": [
    {
     "name": "stdout",
     "output_type": "stream",
     "text": [
      "<class 'pandas.core.frame.DataFrame'>\n",
      "RangeIndex: 1196 entries, 0 to 1195\n",
      "Data columns (total 36 columns):\n",
      " #   Column    Non-Null Count  Dtype  \n",
      "---  ------    --------------  -----  \n",
      " 0   Hm0 d     1196 non-null   float64\n",
      " 1   Tp d      1196 non-null   float64\n",
      " 2   Tm d      1196 non-null   float64\n",
      " 3   Tm1,0 d   1196 non-null   float64\n",
      " 4   hdeep     1196 non-null   float64\n",
      " 5   mmm       1172 non-null   float64\n",
      " 6   β         1196 non-null   int64  \n",
      " 7   Spread s  1196 non-null   int64  \n",
      " 8   h         1196 non-null   float64\n",
      " 9   Hm0 toe   1196 non-null   float64\n",
      " 10  Tp toe    1196 non-null   float64\n",
      " 11  Tm toe    1196 non-null   float64\n",
      " 12  Tm1,0t    1196 non-null   float64\n",
      " 13  ht        1196 non-null   float64\n",
      " 14  Bt        1196 non-null   float64\n",
      " 15  cotαd     1196 non-null   float64\n",
      " 16  cotαu     1196 non-null   float64\n",
      " 17  cotαexcl  1196 non-null   float64\n",
      " 18  cotαincl  1196 non-null   float64\n",
      " 19  gf_d      1196 non-null   float64\n",
      " 20  D50_d     1099 non-null   float64\n",
      " 21  gf_u      1196 non-null   float64\n",
      " 22  D50_u     1103 non-null   float64\n",
      " 23  gf        1196 non-null   float64\n",
      " 24  D         1099 non-null   float64\n",
      " 25  Rc        1196 non-null   float64\n",
      " 26  B         1196 non-null   float64\n",
      " 27  hb        1196 non-null   float64\n",
      " 28  tanαB     1196 non-null   float64\n",
      " 29  Bh        1196 non-null   float64\n",
      " 30  Ac        1196 non-null   float64\n",
      " 31  Gc        1196 non-null   float64\n",
      " 32  RF        1196 non-null   int64  \n",
      " 33  CF        1196 non-null   int64  \n",
      " 34  WF        1196 non-null   int64  \n",
      " 35  q         1196 non-null   float64\n",
      "dtypes: float64(31), int64(5)\n",
      "memory usage: 336.5 KB\n"
     ]
    }
   ],
   "source": [
    "testing_data.info()"
   ]
  },
  {
   "cell_type": "code",
   "execution_count": 59,
   "id": "1cb0632b-0a73-4f75-ac2d-62de1b0196dd",
   "metadata": {},
   "outputs": [],
   "source": [
    "testing_data_filtered = testing_data.dropna(axis=0, how='any')"
   ]
  },
  {
   "cell_type": "code",
   "execution_count": 60,
   "id": "7882b5ba-205b-4dd2-8d05-ee88ab3b3455",
   "metadata": {},
   "outputs": [
    {
     "name": "stdout",
     "output_type": "stream",
     "text": [
      "<class 'pandas.core.frame.DataFrame'>\n",
      "Int64Index: 1075 entries, 0 to 1190\n",
      "Data columns (total 36 columns):\n",
      " #   Column    Non-Null Count  Dtype  \n",
      "---  ------    --------------  -----  \n",
      " 0   Hm0 d     1075 non-null   float64\n",
      " 1   Tp d      1075 non-null   float64\n",
      " 2   Tm d      1075 non-null   float64\n",
      " 3   Tm1,0 d   1075 non-null   float64\n",
      " 4   hdeep     1075 non-null   float64\n",
      " 5   mmm       1075 non-null   float64\n",
      " 6   β         1075 non-null   int64  \n",
      " 7   Spread s  1075 non-null   int64  \n",
      " 8   h         1075 non-null   float64\n",
      " 9   Hm0 toe   1075 non-null   float64\n",
      " 10  Tp toe    1075 non-null   float64\n",
      " 11  Tm toe    1075 non-null   float64\n",
      " 12  Tm1,0t    1075 non-null   float64\n",
      " 13  ht        1075 non-null   float64\n",
      " 14  Bt        1075 non-null   float64\n",
      " 15  cotαd     1075 non-null   float64\n",
      " 16  cotαu     1075 non-null   float64\n",
      " 17  cotαexcl  1075 non-null   float64\n",
      " 18  cotαincl  1075 non-null   float64\n",
      " 19  gf_d      1075 non-null   float64\n",
      " 20  D50_d     1075 non-null   float64\n",
      " 21  gf_u      1075 non-null   float64\n",
      " 22  D50_u     1075 non-null   float64\n",
      " 23  gf        1075 non-null   float64\n",
      " 24  D         1075 non-null   float64\n",
      " 25  Rc        1075 non-null   float64\n",
      " 26  B         1075 non-null   float64\n",
      " 27  hb        1075 non-null   float64\n",
      " 28  tanαB     1075 non-null   float64\n",
      " 29  Bh        1075 non-null   float64\n",
      " 30  Ac        1075 non-null   float64\n",
      " 31  Gc        1075 non-null   float64\n",
      " 32  RF        1075 non-null   int64  \n",
      " 33  CF        1075 non-null   int64  \n",
      " 34  WF        1075 non-null   int64  \n",
      " 35  q         1075 non-null   float64\n",
      "dtypes: float64(31), int64(5)\n",
      "memory usage: 310.7 KB\n"
     ]
    }
   ],
   "source": [
    "testing_data_filtered.info()"
   ]
  },
  {
   "cell_type": "code",
   "execution_count": 61,
   "id": "e7286575-d881-490b-8310-d9fc19b30562",
   "metadata": {},
   "outputs": [],
   "source": [
    "testing_data_filtered.to_excel('testing data filtered.xlsx',index=False)"
   ]
  },
  {
   "cell_type": "code",
   "execution_count": null,
   "id": "7233cf3f-df6d-4d19-9b2a-ca634920f57c",
   "metadata": {},
   "outputs": [],
   "source": []
  }
 ],
 "metadata": {
  "kernelspec": {
   "display_name": "Python 3 (ipykernel)",
   "language": "python",
   "name": "python3"
  },
  "language_info": {
   "codemirror_mode": {
    "name": "ipython",
    "version": 3
   },
   "file_extension": ".py",
   "mimetype": "text/x-python",
   "name": "python",
   "nbconvert_exporter": "python",
   "pygments_lexer": "ipython3",
   "version": "3.9.13"
  }
 },
 "nbformat": 4,
 "nbformat_minor": 5
}
